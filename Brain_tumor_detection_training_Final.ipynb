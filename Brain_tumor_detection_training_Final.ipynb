{
  "cells": [
    {
      "cell_type": "markdown",
      "metadata": {
        "id": "C4Wa19IHbIkA"
      },
      "source": [
        "# The Below cell is for all the imports"
      ]
    },
    {
      "cell_type": "code",
      "execution_count": null,
      "metadata": {
        "colab": {
          "base_uri": "https://localhost:8080/"
        },
        "id": "uDwSeJCRZ0b5",
        "outputId": "2dd19219-0133-47de-b9a5-c1d728c4acbd"
      },
      "outputs": [
        {
          "output_type": "stream",
          "name": "stdout",
          "text": [
            "TF version: 2.12.0\n",
            "Hub version: 0.15.0\n"
          ]
        }
      ],
      "source": [
        "import tensorflow as tf\n",
        "import tensorflow_hub as hub\n",
        "import pandas as pd\n",
        "import pickle as pk\n",
        "import os\n",
        "import random\n",
        "from matplotlib.pyplot import imread\n",
        "import matplotlib.pyplot as plt\n",
        "import datetime\n",
        "from tensorflow.keras.applications import MobileNetV3Large\n",
        "from tensorflow.keras.layers import Input\n",
        "from tensorflow.keras.models import Model\n",
        "from tensorflow.keras.callbacks import TensorBoard,EarlyStopping,ModelCheckpoint\n",
        "import datetime\n",
        "\n",
        "print(\"TF version:\", tf.__version__)\n",
        "print(\"Hub version:\", hub.__version__)"
      ]
    },
    {
      "cell_type": "markdown",
      "metadata": {
        "id": "Hz9fKkXobBzi"
      },
      "source": [
        "# Mounting the drive"
      ]
    },
    {
      "cell_type": "code",
      "execution_count": null,
      "metadata": {
        "colab": {
          "base_uri": "https://localhost:8080/"
        },
        "id": "RkTKEhcUa2XG",
        "outputId": "00a31eac-e045-4a70-9bd0-c6056f23eaca"
      },
      "outputs": [
        {
          "output_type": "stream",
          "name": "stdout",
          "text": [
            "Mounted at /content/drive\n"
          ]
        }
      ],
      "source": [
        "from google.colab import drive\n",
        "drive.mount('/content/drive')"
      ]
    },
    {
      "cell_type": "markdown",
      "metadata": {
        "id": "q935J8jed8oe"
      },
      "source": [
        "# loading data from from the Drive"
      ]
    },
    {
      "cell_type": "markdown",
      "metadata": {
        "id": "_48XyE1vfTho"
      },
      "source": [
        "## variable assignments"
      ]
    },
    {
      "cell_type": "code",
      "execution_count": null,
      "metadata": {
        "id": "vRUB9o5Za8XP"
      },
      "outputs": [],
      "source": [
        "basic_add=\"/content/drive/MyDrive/image_224x224_no_augmentation/kaggle/working/processed\"\n",
        "df=[]\n",
        "RANDOM_STATE=101\n",
        "dataSet_Size=18037 #@param{type:\"slider\",min:100,max:23205}\n",
        "list_variaty=[\"MildDemented\",\"ModerateDemented\",\"NonDemented\",\"VeryMildDemented\",\"glioma\",\"meningioma\",\"notumor\",\"pituitary\"]\n",
        "limit_train=int(0.8*dataSet_Size)\n",
        "limit_val=int(0.90*dataSet_Size)\n",
        "IMG_SIZE=224\n",
        "tensor_seed=((7,3))\n",
        "BATCH_SIZE=32\n",
        "NUM_EPOCHS = 20 #@param {type:\"slider\", min:10, max:50, step:10}\n",
        "dict_label = {\n",
        "        \"MildDemented\": 0,\n",
        "        \"ModerateDemented\": 1,\n",
        "        \"NonDemented\": 2,\n",
        "        \"VeryMildDemented\": 3,\n",
        "        \"glioma\": 4,\n",
        "        \"meningioma\": 5,\n",
        "        \"notumor\": 6,\n",
        "        \"pituitary\": 7\n",
        "    }\n",
        "\n",
        "dict_label_reverse = {\n",
        "        0:\"MildDemented\",\n",
        "        1:\"ModerateDemented\",\n",
        "        2:\"NonDemented\",\n",
        "        3:\"VeryMildDemented\",\n",
        "        4:\"glioma\",\n",
        "        5:\"meningioma\",\n",
        "        6:\"notumor\",\n",
        "        7:\"pituitary\"\n",
        "    }"
      ]
    },
    {
      "cell_type": "code",
      "execution_count": null,
      "metadata": {
        "id": "Do-I8M1ZeR53"
      },
      "outputs": [],
      "source": [
        "def genAddress(basic_add,list_variaty):\n",
        "  data=[]\n",
        "  for add in list_variaty:\n",
        "    new_add=basic_add+\"/\"+add+\"/\"\n",
        "    l=os.listdir(new_add)\n",
        "    for j in l:\n",
        "      data.append((new_add+j,add))\n",
        "  return data"
      ]
    },
    {
      "cell_type": "code",
      "execution_count": null,
      "metadata": {
        "id": "ySeRuIMKg5-V"
      },
      "outputs": [],
      "source": [
        "df=genAddress(basic_add,list_variaty)"
      ]
    },
    {
      "cell_type": "code",
      "execution_count": null,
      "metadata": {
        "id": "O8Ba6PlafbYe",
        "colab": {
          "base_uri": "https://localhost:8080/"
        },
        "outputId": "941e5d3a-7ced-4510-f281-4855a77a6c1e"
      },
      "outputs": [
        {
          "output_type": "execute_result",
          "data": {
            "text/plain": [
              "23167"
            ]
          },
          "metadata": {},
          "execution_count": 6
        }
      ],
      "source": [
        "len(df)"
      ]
    },
    {
      "cell_type": "code",
      "execution_count": null,
      "metadata": {
        "id": "BmRROsNMeTWW",
        "colab": {
          "base_uri": "https://localhost:8080/"
        },
        "outputId": "4e7e5563-e0ca-47d4-a02b-bcce5fc7a2fe"
      },
      "outputs": [
        {
          "output_type": "execute_result",
          "data": {
            "text/plain": [
              "[('/content/drive/MyDrive/image_224x224_no_augmentation/kaggle/working/processed/MildDemented/61cbee1a-4464-4422-abdd-76173ab521e0.png',\n",
              "  'MildDemented'),\n",
              " ('/content/drive/MyDrive/image_224x224_no_augmentation/kaggle/working/processed/MildDemented/61c69b0c-a3a6-478c-817d-5f390541a59b.png',\n",
              "  'MildDemented'),\n",
              " ('/content/drive/MyDrive/image_224x224_no_augmentation/kaggle/working/processed/MildDemented/61c92f72-0ba4-4465-acd1-e37e040ba984.png',\n",
              "  'MildDemented'),\n",
              " ('/content/drive/MyDrive/image_224x224_no_augmentation/kaggle/working/processed/MildDemented/61546587-e5aa-4966-99ef-6fb8f127d500.png',\n",
              "  'MildDemented'),\n",
              " ('/content/drive/MyDrive/image_224x224_no_augmentation/kaggle/working/processed/MildDemented/616eee26-2d00-4930-a890-8d37b7cb0279.png',\n",
              "  'MildDemented'),\n",
              " ('/content/drive/MyDrive/image_224x224_no_augmentation/kaggle/working/processed/MildDemented/6179b374-863c-4bd4-aaed-77b6cf4f000b.png',\n",
              "  'MildDemented'),\n",
              " ('/content/drive/MyDrive/image_224x224_no_augmentation/kaggle/working/processed/MildDemented/62d46fb1-2d01-4a56-a224-8a4c7d2fce4d.png',\n",
              "  'MildDemented'),\n",
              " ('/content/drive/MyDrive/image_224x224_no_augmentation/kaggle/working/processed/MildDemented/62470d9b-4656-495e-98c1-1b786ca9ce49.png',\n",
              "  'MildDemented'),\n",
              " ('/content/drive/MyDrive/image_224x224_no_augmentation/kaggle/working/processed/MildDemented/62678bf8-9554-4cd8-97c9-b6a8adb03fc1.png',\n",
              "  'MildDemented')]"
            ]
          },
          "metadata": {},
          "execution_count": 7
        }
      ],
      "source": [
        "df[1:10]"
      ]
    },
    {
      "cell_type": "markdown",
      "metadata": {
        "id": "AKq7o5C1gP20"
      },
      "source": [
        "## Shuffling to mix the data uniformly"
      ]
    },
    {
      "cell_type": "code",
      "execution_count": null,
      "metadata": {
        "id": "v-pdqsuEfp_Q",
        "colab": {
          "base_uri": "https://localhost:8080/"
        },
        "outputId": "e043e3b6-502c-4328-a512-a9b6145bfddf"
      },
      "outputs": [
        {
          "output_type": "execute_result",
          "data": {
            "text/plain": [
              "[('/content/drive/MyDrive/image_224x224_no_augmentation/kaggle/working/processed/VeryMildDemented/aabaee20-5c1a-4c40-965f-34dbb933f4a0.png',\n",
              "  'VeryMildDemented'),\n",
              " ('/content/drive/MyDrive/image_224x224_no_augmentation/kaggle/working/processed/glioma/64f8d38d-f608-4f96-946f-601b05400fe4.png',\n",
              "  'glioma'),\n",
              " ('/content/drive/MyDrive/image_224x224_no_augmentation/kaggle/working/processed/MildDemented/94f2a1b2-8f59-48ed-9122-71676e9764ee.png',\n",
              "  'MildDemented'),\n",
              " ('/content/drive/MyDrive/image_224x224_no_augmentation/kaggle/working/processed/NonDemented/aea37b9b-1518-43e4-a2b9-c5a5ccb78830.png',\n",
              "  'NonDemented')]"
            ]
          },
          "metadata": {},
          "execution_count": 8
        }
      ],
      "source": [
        "random.shuffle(df)\n",
        "\n",
        "df=df[1:dataSet_Size]\n",
        "df[1:5]"
      ]
    },
    {
      "cell_type": "code",
      "execution_count": null,
      "metadata": {
        "id": "2LKC6Tm3XMnF",
        "colab": {
          "base_uri": "https://localhost:8080/",
          "height": 401
        },
        "outputId": "bb527a7d-efc3-4097-f35d-b01bce69cd94"
      },
      "outputs": [
        {
          "output_type": "error",
          "ename": "FileNotFoundError",
          "evalue": "ignored",
          "traceback": [
            "\u001b[0;31m---------------------------------------------------------------------------\u001b[0m",
            "\u001b[0;31mFileNotFoundError\u001b[0m                         Traceback (most recent call last)",
            "\u001b[0;32m<ipython-input-9-d19d7a5d40e1>\u001b[0m in \u001b[0;36m<cell line: 15>\u001b[0;34m()\u001b[0m\n\u001b[1;32m     13\u001b[0m \u001b[0;31m# Step 2: Load and preprocess your low-resolution image\u001b[0m\u001b[0;34m\u001b[0m\u001b[0;34m\u001b[0m\u001b[0m\n\u001b[1;32m     14\u001b[0m \u001b[0mimage_path\u001b[0m \u001b[0;34m=\u001b[0m \u001b[0;34m\"/content/drive/MyDrive/kaggle/working/processed/glioma/d2613856-1ef7-494d-8e22-f14a1d038f09.png\"\u001b[0m  \u001b[0;31m# Replace with the path to your low-resolution image\u001b[0m\u001b[0;34m\u001b[0m\u001b[0;34m\u001b[0m\u001b[0m\n\u001b[0;32m---> 15\u001b[0;31m \u001b[0minput_image\u001b[0m \u001b[0;34m=\u001b[0m \u001b[0mImage\u001b[0m\u001b[0;34m.\u001b[0m\u001b[0mopen\u001b[0m\u001b[0;34m(\u001b[0m\u001b[0mimage_path\u001b[0m\u001b[0;34m)\u001b[0m\u001b[0;34m\u001b[0m\u001b[0;34m\u001b[0m\u001b[0m\n\u001b[0m\u001b[1;32m     16\u001b[0m \u001b[0minput_image\u001b[0m \u001b[0;34m=\u001b[0m \u001b[0minput_image\u001b[0m\u001b[0;34m.\u001b[0m\u001b[0mconvert\u001b[0m\u001b[0;34m(\u001b[0m\u001b[0;34m\"RGB\"\u001b[0m\u001b[0;34m)\u001b[0m  \u001b[0;31m# Ensure RGB mode\u001b[0m\u001b[0;34m\u001b[0m\u001b[0;34m\u001b[0m\u001b[0m\n\u001b[1;32m     17\u001b[0m \u001b[0minput_image\u001b[0m \u001b[0;34m=\u001b[0m \u001b[0minput_image\u001b[0m\u001b[0;34m.\u001b[0m\u001b[0mresize\u001b[0m\u001b[0;34m(\u001b[0m\u001b[0;34m(\u001b[0m\u001b[0;36m256\u001b[0m\u001b[0;34m,\u001b[0m \u001b[0;36m256\u001b[0m\u001b[0;34m)\u001b[0m\u001b[0;34m,\u001b[0m \u001b[0mImage\u001b[0m\u001b[0;34m.\u001b[0m\u001b[0mANTIALIAS\u001b[0m\u001b[0;34m)\u001b[0m  \u001b[0;31m# Resize to the model's expected input size\u001b[0m\u001b[0;34m\u001b[0m\u001b[0;34m\u001b[0m\u001b[0m\n",
            "\u001b[0;32m/usr/local/lib/python3.10/dist-packages/PIL/Image.py\u001b[0m in \u001b[0;36mopen\u001b[0;34m(fp, mode, formats)\u001b[0m\n\u001b[1;32m   3225\u001b[0m \u001b[0;34m\u001b[0m\u001b[0m\n\u001b[1;32m   3226\u001b[0m     \u001b[0;32mif\u001b[0m \u001b[0mfilename\u001b[0m\u001b[0;34m:\u001b[0m\u001b[0;34m\u001b[0m\u001b[0;34m\u001b[0m\u001b[0m\n\u001b[0;32m-> 3227\u001b[0;31m         \u001b[0mfp\u001b[0m \u001b[0;34m=\u001b[0m \u001b[0mbuiltins\u001b[0m\u001b[0;34m.\u001b[0m\u001b[0mopen\u001b[0m\u001b[0;34m(\u001b[0m\u001b[0mfilename\u001b[0m\u001b[0;34m,\u001b[0m \u001b[0;34m\"rb\"\u001b[0m\u001b[0;34m)\u001b[0m\u001b[0;34m\u001b[0m\u001b[0;34m\u001b[0m\u001b[0m\n\u001b[0m\u001b[1;32m   3228\u001b[0m         \u001b[0mexclusive_fp\u001b[0m \u001b[0;34m=\u001b[0m \u001b[0;32mTrue\u001b[0m\u001b[0;34m\u001b[0m\u001b[0;34m\u001b[0m\u001b[0m\n\u001b[1;32m   3229\u001b[0m \u001b[0;34m\u001b[0m\u001b[0m\n",
            "\u001b[0;31mFileNotFoundError\u001b[0m: [Errno 2] No such file or directory: '/content/drive/MyDrive/kaggle/working/processed/glioma/d2613856-1ef7-494d-8e22-f14a1d038f09.png'"
          ]
        }
      ],
      "source": [
        "model_url = \"https://tfhub.dev/captain-pool/esrgan-tf2/1\"\n",
        "IMAGE=\"/MildDemented/60056e89-abca-4b7c-a208-df8367a8cd65.png\"\n",
        "from IPython.display import display, Image\n",
        "# Load the pre-trained model\n",
        "from PIL import Image\n",
        "import numpy as np\n",
        "\n",
        "# Step 1: Load a pre-trained super-resolution model from TensorFlow Hub\n",
        "model_url = \"https://tfhub.dev/captain-pool/esrgan-tf2/1\"  # ESRGAN model for super-resolution\n",
        "model = hub.load(model_url)\n",
        "\n",
        "\n",
        "# Step 2: Load and preprocess your low-resolution image\n",
        "image_path = \"/content/drive/MyDrive/kaggle/working/processed/glioma/d2613856-1ef7-494d-8e22-f14a1d038f09.png\"  # Replace with the path to your low-resolution image\n",
        "input_image = Image.open(image_path)\n",
        "input_image = input_image.convert(\"RGB\")  # Ensure RGB mode\n",
        "input_image = input_image.resize((256, 256), Image.ANTIALIAS)  # Resize to the model's expected input size\n",
        "input_image = np.array(input_image) / 255.0  # Normalize pixel values\n",
        "\n",
        "# Cast the input image to tf.float32\n",
        "input_image = tf.cast(input_image, tf.float32)\n",
        "\n",
        "# Step 3: Perform super-resolution on the input image\n",
        "super_res_image = model(tf.constant(input_image[np.newaxis, ...]))\n",
        "\n",
        "# Step 4: Post-process the enhanced image if necessary (e.g., denoising, sharpening)\n",
        "\n",
        "# Step 5: Save or display the enhanced image\n",
        "output_image = tf.squeeze(super_res_image).numpy()  # Remove batch dimension\n",
        "output_image = (output_image * 255).clip(0, 255).astype(np.uint8)  # Convert back to uint8\n",
        "output_image = Image.fromarray(output_image)\n",
        "output_image.save(\"output_image.jpg\")  # Save the enhanced image\n",
        "\n",
        "# Step 6: Display the enhanced image (optional)\n",
        "output_image.show()"
      ]
    },
    {
      "cell_type": "code",
      "execution_count": null,
      "metadata": {
        "id": "M1t_abzPePQQ"
      },
      "outputs": [],
      "source": [
        "output_image"
      ]
    },
    {
      "cell_type": "markdown",
      "metadata": {
        "id": "OdQMZFemjoBJ"
      },
      "source": [
        "# Converting the labels"
      ]
    },
    {
      "cell_type": "code",
      "execution_count": null,
      "metadata": {
        "id": "pN3NwgZwgJgY"
      },
      "outputs": [],
      "source": [
        "def converting_labels_to_tensor(data):\n",
        "  \"\"\"\n",
        "    receive a list of stirng and converts into number according to the dictionary\n",
        "  \"\"\"\n",
        "  dict_label = {\n",
        "        \"MildDemented\": 0,\n",
        "        \"ModerateDemented\": 1,\n",
        "        \"NonDemented\": 2,\n",
        "        \"VeryMildDemented\": 3,\n",
        "        \"glioma\": 4,\n",
        "        \"meningioma\": 5,\n",
        "        \"notumor\": 6,\n",
        "        \"pituitary\": 7\n",
        "    }\n",
        "  label=[]\n",
        "  for i in data:\n",
        "    label.append(dict_label[i])\n",
        "  return label"
      ]
    },
    {
      "cell_type": "code",
      "execution_count": null,
      "metadata": {
        "colab": {
          "base_uri": "https://localhost:8080/"
        },
        "id": "9_yTK7V6VaFw",
        "outputId": "7975abb4-0d4a-4fa6-cedf-edf67147b24c"
      },
      "outputs": [
        {
          "output_type": "execute_result",
          "data": {
            "text/plain": [
              "[3]"
            ]
          },
          "metadata": {},
          "execution_count": 11
        }
      ],
      "source": [
        "converting_labels_to_tensor([\"VeryMildDemented\"])"
      ]
    },
    {
      "cell_type": "code",
      "execution_count": null,
      "metadata": {
        "id": "Dm9MPP-WM9RC"
      },
      "outputs": [],
      "source": [
        "def augment_labels(labels):\n",
        "    augmented_labels = []\n",
        "    for label in labels:\n",
        "        augmented_labels.extend([label] * 5)  # Replicate each label four times\n",
        "    return augmented_labels"
      ]
    },
    {
      "cell_type": "markdown",
      "metadata": {
        "id": "1l7Kpqdakcgf"
      },
      "source": [
        "# Split the data for now\n",
        "### only the training & validating part will be converted to image now\n",
        "##!!! Do not forget to Convert the testing data addresses to images before using it !!!"
      ]
    },
    {
      "cell_type": "code",
      "execution_count": null,
      "metadata": {
        "colab": {
          "base_uri": "https://localhost:8080/"
        },
        "id": "WHyptdqukU5w",
        "outputId": "1b3b7f37-71b4-4557-e8dc-08d3e5935936"
      },
      "outputs": [
        {
          "output_type": "execute_result",
          "data": {
            "text/plain": [
              "(14429, 1804, 1803)"
            ]
          },
          "metadata": {},
          "execution_count": 13
        }
      ],
      "source": [
        "train_data=df[0:limit_train]\n",
        "val_data=df[limit_train:limit_val]\n",
        "test_data=df[limit_val:dataSet_Size]\n",
        "\n",
        "(len(train_data),len(val_data),len(test_data))"
      ]
    },
    {
      "cell_type": "code",
      "execution_count": null,
      "metadata": {
        "colab": {
          "base_uri": "https://localhost:8080/"
        },
        "id": "QxkaO0Rxm3mo",
        "outputId": "4d79e562-5b1e-4d76-ee28-60a8eaddd859"
      },
      "outputs": [
        {
          "output_type": "execute_result",
          "data": {
            "text/plain": [
              "[('/content/drive/MyDrive/image_224x224_no_augmentation/kaggle/working/processed/glioma/030d417a-8745-4a5e-bebb-432b62207362.png',\n",
              "  'glioma'),\n",
              " ('/content/drive/MyDrive/image_224x224_no_augmentation/kaggle/working/processed/notumor/75c435bb-9d48-4051-a174-a5b0b940532b.png',\n",
              "  'notumor'),\n",
              " ('/content/drive/MyDrive/image_224x224_no_augmentation/kaggle/working/processed/VeryMildDemented/402f55eb-b432-4772-b01e-fbef9f4130dd.png',\n",
              "  'VeryMildDemented'),\n",
              " ('/content/drive/MyDrive/image_224x224_no_augmentation/kaggle/working/processed/glioma/b155cc79-0a06-4bf7-86f9-a6ad1b38e4af.png',\n",
              "  'glioma'),\n",
              " ('/content/drive/MyDrive/image_224x224_no_augmentation/kaggle/working/processed/NonDemented/17313bec-e58a-4c75-bfec-107435df2d84.png',\n",
              "  'NonDemented'),\n",
              " ('/content/drive/MyDrive/image_224x224_no_augmentation/kaggle/working/processed/glioma/15b2512b-d705-4677-a0c5-35d22dd4ddd1.png',\n",
              "  'glioma'),\n",
              " ('/content/drive/MyDrive/image_224x224_no_augmentation/kaggle/working/processed/glioma/438c13d7-6386-4711-a91c-da875f7995c5.png',\n",
              "  'glioma'),\n",
              " ('/content/drive/MyDrive/image_224x224_no_augmentation/kaggle/working/processed/MildDemented/6b992292-a3b3-4683-be5f-1f0a35c73ffc.png',\n",
              "  'MildDemented'),\n",
              " ('/content/drive/MyDrive/image_224x224_no_augmentation/kaggle/working/processed/MildDemented/eec73820-1102-4677-ab40-ddcd6f2f3aee.png',\n",
              "  'MildDemented'),\n",
              " ('/content/drive/MyDrive/image_224x224_no_augmentation/kaggle/working/processed/NonDemented/d9369aca-1a92-4009-86a2-b23b77e05298.png',\n",
              "  'NonDemented'),\n",
              " ('/content/drive/MyDrive/image_224x224_no_augmentation/kaggle/working/processed/VeryMildDemented/b89c6566-a588-4fa2-830b-27b0e483b274.png',\n",
              "  'VeryMildDemented')]"
            ]
          },
          "metadata": {},
          "execution_count": 14
        }
      ],
      "source": [
        "test_data[1:12]"
      ]
    },
    {
      "cell_type": "markdown",
      "metadata": {
        "id": "iPi60M0G1E7t"
      },
      "source": [
        "# Plotting to be done Here\n",
        "# !!! Moderate Demented have less data be carefull"
      ]
    },
    {
      "cell_type": "code",
      "execution_count": null,
      "metadata": {
        "id": "oOPZ94BX1EMl"
      },
      "outputs": [],
      "source": [
        "def countAddress(basic_add,list_variaty):\n",
        "  data=[]\n",
        "  for add in list_variaty:\n",
        "    new_add=basic_add+\"/\"+add+\"/\"\n",
        "    l=len(os.listdir(new_add))\n",
        "    data.append((add,l))\n",
        "  return data"
      ]
    },
    {
      "cell_type": "code",
      "execution_count": null,
      "metadata": {
        "colab": {
          "base_uri": "https://localhost:8080/"
        },
        "id": "Tegs3WQMmaov",
        "outputId": "40cefd69-1abd-498c-902c-fbe26c165d26"
      },
      "outputs": [
        {
          "output_type": "stream",
          "name": "stdout",
          "text": [
            "1613\n"
          ]
        }
      ],
      "source": [
        "    new_add=\"/content/drive/MyDrive/image_224x224_no_augmentation/kaggle/working/processed/MildDemented\"\n",
        "    l=len(os.listdir(new_add))\n",
        "    print(l)"
      ]
    },
    {
      "cell_type": "code",
      "execution_count": null,
      "metadata": {
        "colab": {
          "base_uri": "https://localhost:8080/"
        },
        "id": "zDlGCt8K1EPG",
        "outputId": "98862554-2eac-463f-a407-7e8b172e505b"
      },
      "outputs": [
        {
          "output_type": "execute_result",
          "data": {
            "text/plain": [
              "[('MildDemented', 1613),\n",
              " ('ModerateDemented', 116),\n",
              " ('NonDemented', 5760),\n",
              " ('VeryMildDemented', 4032),\n",
              " ('glioma', 3573),\n",
              " ('meningioma', 2869),\n",
              " ('notumor', 1990),\n",
              " ('pituitary', 3214)]"
            ]
          },
          "metadata": {},
          "execution_count": 17
        }
      ],
      "source": [
        "plot_data=countAddress(basic_add,list_variaty)\n",
        "plot_data"
      ]
    },
    {
      "cell_type": "code",
      "execution_count": null,
      "metadata": {
        "id": "LlzQcev6WL5d"
      },
      "outputs": [],
      "source": [
        "labels, values = zip(*plot_data)"
      ]
    },
    {
      "cell_type": "code",
      "execution_count": null,
      "metadata": {
        "colab": {
          "base_uri": "https://localhost:8080/",
          "height": 807
        },
        "id": "MsXbwy-81ERh",
        "outputId": "d09d97a3-5101-488a-8285-a81e640519cb"
      },
      "outputs": [
        {
          "output_type": "display_data",
          "data": {
            "text/plain": [
              "<Figure size 800x800 with 1 Axes>"
            ],
            "image/png": "[encoded data removed]"
          },
          "metadata": {}
        }
      ],
      "source": [
        "plt.figure(figsize=(8, 8))\n",
        "plt.bar(labels, values, color='skyblue')\n",
        "plt.xlabel('Data Label')\n",
        "plt.ylabel('Count')\n",
        "plt.title('Bar Graph of Data Labels')\n",
        "plt.xticks(rotation=45)\n",
        "\n",
        "plt.legend(['Count'])\n",
        "\n",
        "plt.tight_layout()\n",
        "plt.show()"
      ]
    },
    {
      "cell_type": "code",
      "execution_count": null,
      "metadata": {
        "colab": {
          "base_uri": "https://localhost:8080/",
          "height": 367
        },
        "id": "sCXEoKNq1EYv",
        "outputId": "8c11f754-8973-4a5b-9447-05673e54eec7"
      },
      "outputs": [
        {
          "output_type": "display_data",
          "data": {
            "text/plain": [
              "<Figure size 400x400 with 1 Axes>"
            ],
            "image/png": "[encoded data removed]"
          },
          "metadata": {}
        }
      ],
      "source": [
        "plt.figure(figsize=(4, 4))\n",
        "plt.pie(values, labels=labels, autopct='%1.1f%%', startangle=140, colors=plt.cm.Paired(range(len(labels))))\n",
        "plt.title('Pie Chart of Data Labels')\n",
        "plt.axis('equal')\n",
        "plt.show()"
      ]
    },
    {
      "cell_type": "code",
      "execution_count": null,
      "metadata": {
        "id": "MK-O6i26eJ70"
      },
      "outputs": [],
      "source": [
        "# import os\n",
        "# import cv2\n",
        "# import numpy as np\n",
        "\n",
        "# # Set the paths for your source and destination folders\n",
        "# source_folder = \"/content/drive/MyDrive/Major_Project/kaggle/working/processed/notumor\"\n",
        "# destination_folder = \"/content/drive/MyDrive/Major_Project/kaggle/working/processed/notumor_aug\"\n",
        "\n",
        "# # Create the destination folder if it doesn't exist\n",
        "# if not os.path.exists(destination_folder):\n",
        "#     print(\"Here\")\n",
        "#     os.makedirs(destination_folder)\n",
        "\n",
        "# # List all image files in the source folder\n",
        "# image_files = [f for f in os.listdir(source_folder) if f.lower().endswith(('.jpg', '.jpeg', '.png'))]\n",
        "\n",
        "# # Loop through each image, load, apply rotation operations, and save to the destination folder\n",
        "# for image_file in image_files:\n",
        "#     image_path = os.path.join(source_folder, image_file)\n",
        "#     image = cv2.imread(image_path)\n",
        "\n",
        "#     # Save the original image to the destination folder\n",
        "#     destination_path_original = os.path.join(destination_folder, image_file)\n",
        "#     cv2.imwrite(destination_path_original, image)\n",
        "\n",
        "#     # Apply rotation operations (90 degrees left, 90 degrees right, and 180 degrees)\n",
        "#     rotated_left = cv2.rotate(image, cv2.ROTATE_90_COUNTERCLOCKWISE)\n",
        "#     rotated_right = cv2.rotate(image, cv2.ROTATE_90_CLOCKWISE)\n",
        "#     rotated_180 = cv2.rotate(image, cv2.ROTATE_180)\n",
        "\n",
        "#     # Save the rotated images to the destination folder\n",
        "#     base_filename, file_extension = os.path.splitext(image_file)\n",
        "#     destination_path_left = os.path.join(destination_folder, f\"{base_filename}_rotate_left{file_extension}\")\n",
        "#     destination_path_right = os.path.join(destination_folder, f\"{base_filename}_rotate_right{file_extension}\")\n",
        "#     destination_path_180 = os.path.join(destination_folder, f\"{base_filename}_rotate_180{file_extension}\")\n",
        "\n",
        "#     cv2.imwrite(destination_path_left, rotated_left)\n",
        "#     cv2.imwrite(destination_path_right, rotated_right)\n",
        "#     cv2.imwrite(destination_path_180, rotated_180)\n",
        "\n",
        "# print(\"Rotation operations and original image saving completed.\")\n"
      ]
    },
    {
      "cell_type": "markdown",
      "metadata": {
        "id": "kj_EAxddnHgx"
      },
      "source": [
        "# Preprocessing"
      ]
    },
    {
      "cell_type": "code",
      "execution_count": null,
      "metadata": {
        "id": "N9wjgCmZmeg2"
      },
      "outputs": [],
      "source": [
        "def preprocess(image_path,label):\n",
        "  \"\"\"\n",
        "  within this function we implement five functionalities :\n",
        "  1. image reading\n",
        "  2. image resizing\n",
        "  3. image normalizing\n",
        "  //4.image augmentation\n",
        "  5.image cleaning\n",
        "  \"\"\"\n",
        "  image = image_reading(image_path)\n",
        "  image = image_resizing(image)\n",
        "  image = image_normalizing(image)\n",
        "  # label = converting_labels_to_tensor(label) # did prior\n",
        "  label = tf.convert_to_tensor(label)\n",
        "  return image, label\n",
        "\n",
        "\n",
        "def preprocess_test(image_path):\n",
        "  \"\"\"\n",
        "  within this function we implement five functionalities :\n",
        "  1. image reading\n",
        "  2. image resizing\n",
        "  3. image normalizing\n",
        "  4.image augmentation\n",
        "  5.image cleaning\n",
        "  \"\"\"\n",
        "  image = image_reading(image_path)\n",
        "  image = image_resizing(image)\n",
        "  image = image_normalizing(image)\n",
        "  return image"
      ]
    },
    {
      "cell_type": "markdown",
      "metadata": {
        "id": "soyFeWDBu5Rx"
      },
      "source": [
        "## We are reading the string address then converting into tensors images\n",
        "\n",
        "## we have used 3 color channels\n",
        "\n",
        "## Grey Channel color coding is used as MRI only need black,white and grey, it makes matrix size small so less load on the training phase"
      ]
    },
    {
      "cell_type": "code",
      "execution_count": null,
      "metadata": {
        "id": "ephgbptQp2Zt"
      },
      "outputs": [],
      "source": [
        "def image_reading(image_path):\n",
        "    image = tf.io.read_file(image_path)\n",
        "    image = tf.image.decode_jpeg(image, channels=3)  # Set channels to 1 for grayscale\n",
        "    return image"
      ]
    },
    {
      "cell_type": "markdown",
      "metadata": {
        "id": "CXezAwjlQhDp"
      },
      "source": [
        "## Resizing the Images to a Set size so all the images have uniformity"
      ]
    },
    {
      "cell_type": "code",
      "execution_count": null,
      "metadata": {
        "id": "UBu2YaHJqFeo"
      },
      "outputs": [],
      "source": [
        "def image_resizing(image):\n",
        "    image = tf.image.resize(image, size=[IMG_SIZE, IMG_SIZE])\n",
        "    image.set_shape([IMG_SIZE, IMG_SIZE, 3])  # Set channels to 1\n",
        "    return image"
      ]
    },
    {
      "cell_type": "markdown",
      "metadata": {
        "id": "c2PAPez1QnIB"
      },
      "source": [
        "## The Range of numbers varies a lot it might cause some issues leading to overfitting to counter this we implemented normalization in order to bring the range between 0-1"
      ]
    },
    {
      "cell_type": "code",
      "execution_count": null,
      "metadata": {
        "id": "S3g-TQ5TqJXs"
      },
      "outputs": [],
      "source": [
        "def image_normalizing(image):\n",
        "    image = tf.image.convert_image_dtype(image, tf.float32)\n",
        "    image.set_shape([IMG_SIZE, IMG_SIZE, 3])  # Set channels to 1\n",
        "    return image"
      ]
    },
    {
      "cell_type": "markdown",
      "metadata": {
        "id": "QN8-M9_1SK5R"
      },
      "source": [
        "## Augumenting the images to get more data and variety on the same data"
      ]
    },
    {
      "cell_type": "code",
      "execution_count": null,
      "metadata": {
        "id": "z8584gyPqNHn"
      },
      "outputs": [],
      "source": [
        "def image_augmentation(image):\n",
        "    # Random horizontal flip (only if it makes sense for your data)\n",
        "    image1 = tf.image.random_flip_left_right(image, seed=tf.random.set_seed(1234))  # Use a specific seed\n",
        "\n",
        "    # Random rotation (only if it makes sense for your data)\n",
        "    image2 = tf.image.rot90(image, k=tf.random.uniform(shape=[], minval=0, maxval=4, dtype=tf.int32), name='random_rotation')\n",
        "\n",
        "    # Random brightness and contrast adjustments\n",
        "    image3 = tf.image.random_brightness(image, max_delta=0.2, seed=tf.random.set_seed(5678))  # Use a specific seed\n",
        "    image4 = tf.image.random_contrast(image, lower=0.8, upper=1.2, seed=tf.random.set_seed(9876))  # Use a specific seed\n",
        "\n",
        "    return [image,image1,image2,image3,image4]"
      ]
    },
    {
      "cell_type": "code",
      "execution_count": null,
      "metadata": {
        "colab": {
          "base_uri": "https://localhost:8080/"
        },
        "id": "bUS8UnbTryiN",
        "outputId": "121e5319-f9bf-499f-9886-d47988fd0a30"
      },
      "outputs": [
        {
          "output_type": "execute_result",
          "data": {
            "text/plain": [
              "14429"
            ]
          },
          "metadata": {},
          "execution_count": 27
        }
      ],
      "source": [
        "len(train_data)"
      ]
    },
    {
      "cell_type": "markdown",
      "metadata": {
        "id": "gp4F6Iiqm9Bx"
      },
      "source": [
        "# getting data ready for batching"
      ]
    },
    {
      "cell_type": "code",
      "execution_count": null,
      "metadata": {
        "id": "1n-c7xDtnAyd"
      },
      "outputs": [],
      "source": [
        "def separate(data):\n",
        "  x=[]\n",
        "  y=[]\n",
        "  for i in data:\n",
        "    x.append(i[0])\n",
        "    # indexl=i[1].index(\"_\")\n",
        "    y.append(i[1])\n",
        "  return x,y\n"
      ]
    },
    {
      "cell_type": "code",
      "execution_count": null,
      "metadata": {
        "id": "KBFuTDP1nmT8"
      },
      "outputs": [],
      "source": [
        "x_train,y_train=separate(train_data)\n",
        "x_val,y_val=separate(val_data)\n",
        "x_test,y_test=separate(test_data)"
      ]
    },
    {
      "cell_type": "code",
      "execution_count": null,
      "metadata": {
        "colab": {
          "base_uri": "https://localhost:8080/"
        },
        "id": "TQirjakxnt40",
        "outputId": "c69c27d3-dee2-4866-8d4a-1beb08c146e4"
      },
      "outputs": [
        {
          "output_type": "execute_result",
          "data": {
            "text/plain": [
              "['/content/drive/MyDrive/image_224x224_no_augmentation/kaggle/working/processed/meningioma/98096431-28c3-44cc-acc3-193b514e954f.png',\n",
              " '/content/drive/MyDrive/image_224x224_no_augmentation/kaggle/working/processed/glioma/030d417a-8745-4a5e-bebb-432b62207362.png',\n",
              " '/content/drive/MyDrive/image_224x224_no_augmentation/kaggle/working/processed/notumor/75c435bb-9d48-4051-a174-a5b0b940532b.png',\n",
              " '/content/drive/MyDrive/image_224x224_no_augmentation/kaggle/working/processed/VeryMildDemented/402f55eb-b432-4772-b01e-fbef9f4130dd.png',\n",
              " '/content/drive/MyDrive/image_224x224_no_augmentation/kaggle/working/processed/glioma/b155cc79-0a06-4bf7-86f9-a6ad1b38e4af.png',\n",
              " '/content/drive/MyDrive/image_224x224_no_augmentation/kaggle/working/processed/NonDemented/17313bec-e58a-4c75-bfec-107435df2d84.png',\n",
              " '/content/drive/MyDrive/image_224x224_no_augmentation/kaggle/working/processed/glioma/15b2512b-d705-4677-a0c5-35d22dd4ddd1.png',\n",
              " '/content/drive/MyDrive/image_224x224_no_augmentation/kaggle/working/processed/glioma/438c13d7-6386-4711-a91c-da875f7995c5.png',\n",
              " '/content/drive/MyDrive/image_224x224_no_augmentation/kaggle/working/processed/MildDemented/6b992292-a3b3-4683-be5f-1f0a35c73ffc.png',\n",
              " '/content/drive/MyDrive/image_224x224_no_augmentation/kaggle/working/processed/MildDemented/eec73820-1102-4677-ab40-ddcd6f2f3aee.png',\n",
              " '/content/drive/MyDrive/image_224x224_no_augmentation/kaggle/working/processed/NonDemented/d9369aca-1a92-4009-86a2-b23b77e05298.png',\n",
              " '/content/drive/MyDrive/image_224x224_no_augmentation/kaggle/working/processed/VeryMildDemented/b89c6566-a588-4fa2-830b-27b0e483b274.png',\n",
              " '/content/drive/MyDrive/image_224x224_no_augmentation/kaggle/working/processed/notumor/4ec00e9e-0951-4036-86ed-3b19d254fa5e.png',\n",
              " '/content/drive/MyDrive/image_224x224_no_augmentation/kaggle/working/processed/VeryMildDemented/89412083-049b-4aa9-81d8-aebcbdd647d4.png',\n",
              " '/content/drive/MyDrive/image_224x224_no_augmentation/kaggle/working/processed/notumor/efcab0b5-0906-474b-9fc3-6942beb94ba0.png',\n",
              " '/content/drive/MyDrive/image_224x224_no_augmentation/kaggle/working/processed/NonDemented/75052472-0a04-4b67-880d-b655882434c5.png',\n",
              " '/content/drive/MyDrive/image_224x224_no_augmentation/kaggle/working/processed/notumor/e2d581a1-947d-4d5d-ab41-7f35f2e03116.png',\n",
              " '/content/drive/MyDrive/image_224x224_no_augmentation/kaggle/working/processed/MildDemented/7b4dc2d4-791f-4b9f-a162-96197e4911f9.png',\n",
              " '/content/drive/MyDrive/image_224x224_no_augmentation/kaggle/working/processed/NonDemented/9fa3f90a-1729-4865-8a2e-df2faf6cb9ba.png',\n",
              " '/content/drive/MyDrive/image_224x224_no_augmentation/kaggle/working/processed/NonDemented/15077481-c1e2-40ae-968f-8c4782c21b07.png',\n",
              " '/content/drive/MyDrive/image_224x224_no_augmentation/kaggle/working/processed/MildDemented/997d168f-1847-40e6-ac2c-5f5bce051bc6.png',\n",
              " '/content/drive/MyDrive/image_224x224_no_augmentation/kaggle/working/processed/VeryMildDemented/aa6125d4-72a4-4707-b4dd-b1b2eaa42baa.png',\n",
              " '/content/drive/MyDrive/image_224x224_no_augmentation/kaggle/working/processed/NonDemented/b56696c3-309d-4c53-90c6-e93c6ec71420.png',\n",
              " '/content/drive/MyDrive/image_224x224_no_augmentation/kaggle/working/processed/NonDemented/205cdd69-7fab-4b65-8219-680eb79b8c77.png',\n",
              " '/content/drive/MyDrive/image_224x224_no_augmentation/kaggle/working/processed/meningioma/1e1d5bdc-b49d-4429-b390-eaae9d929b40.png',\n",
              " '/content/drive/MyDrive/image_224x224_no_augmentation/kaggle/working/processed/pituitary/efcabb8d-0272-4a71-abe1-6da57db57662.png',\n",
              " '/content/drive/MyDrive/image_224x224_no_augmentation/kaggle/working/processed/meningioma/e947d036-c2fe-491c-8bb3-44943168b373.png',\n",
              " '/content/drive/MyDrive/image_224x224_no_augmentation/kaggle/working/processed/NonDemented/a8a736a7-b4e6-4fb3-b948-4c8fc4a61812.png',\n",
              " '/content/drive/MyDrive/image_224x224_no_augmentation/kaggle/working/processed/notumor/57b720cc-41ea-4074-84a1-49b16f0708ef.png',\n",
              " '/content/drive/MyDrive/image_224x224_no_augmentation/kaggle/working/processed/VeryMildDemented/1996c854-30af-483f-8263-3dc3c8a0c18e.png',\n",
              " '/content/drive/MyDrive/image_224x224_no_augmentation/kaggle/working/processed/VeryMildDemented/2cb29d0f-171a-402f-bd0e-346103b660d4.png',\n",
              " '/content/drive/MyDrive/image_224x224_no_augmentation/kaggle/working/processed/VeryMildDemented/98ec2c7f-26be-4904-b590-77f6a2bd0414.png',\n",
              " '/content/drive/MyDrive/image_224x224_no_augmentation/kaggle/working/processed/glioma/3d37a18f-ecde-457f-9f7a-52114e026b16.png',\n",
              " '/content/drive/MyDrive/image_224x224_no_augmentation/kaggle/working/processed/glioma/93b65da0-579f-47f8-88c8-e06511c821a9.png',\n",
              " '/content/drive/MyDrive/image_224x224_no_augmentation/kaggle/working/processed/NonDemented/910c9c74-ba8c-4905-a77a-8eb0e9178382.png',\n",
              " '/content/drive/MyDrive/image_224x224_no_augmentation/kaggle/working/processed/NonDemented/06362e53-56e1-46bd-bc88-10a52ac29145.png',\n",
              " '/content/drive/MyDrive/image_224x224_no_augmentation/kaggle/working/processed/NonDemented/d544ed33-2f66-4c68-96be-52b04d7a0090.png',\n",
              " '/content/drive/MyDrive/image_224x224_no_augmentation/kaggle/working/processed/NonDemented/88bb1340-efe8-41e4-95df-d8c1fde9c102.png',\n",
              " '/content/drive/MyDrive/image_224x224_no_augmentation/kaggle/working/processed/glioma/49643ea8-3890-471d-b549-202d6e3d2656.png',\n",
              " '/content/drive/MyDrive/image_224x224_no_augmentation/kaggle/working/processed/meningioma/c137d20b-8eda-4c2b-8f01-3993828d36e3.png',\n",
              " '/content/drive/MyDrive/image_224x224_no_augmentation/kaggle/working/processed/VeryMildDemented/4d539c75-c5ac-4c21-aef6-8d5aca85b941.png',\n",
              " '/content/drive/MyDrive/image_224x224_no_augmentation/kaggle/working/processed/glioma/77f39a53-4963-48b4-ab36-18a04f6e7ce9.png',\n",
              " '/content/drive/MyDrive/image_224x224_no_augmentation/kaggle/working/processed/glioma/41dfeba7-05df-44bf-aa93-77ed61a11e91.png',\n",
              " '/content/drive/MyDrive/image_224x224_no_augmentation/kaggle/working/processed/MildDemented/1d642e25-bab2-459d-a855-45dcfc6877f6.png',\n",
              " '/content/drive/MyDrive/image_224x224_no_augmentation/kaggle/working/processed/notumor/3137e615-d03b-4e21-a331-9c9badf0a756.png',\n",
              " '/content/drive/MyDrive/image_224x224_no_augmentation/kaggle/working/processed/MildDemented/ef0f49ad-e56c-46ee-b814-706b28fed2e2.png',\n",
              " '/content/drive/MyDrive/image_224x224_no_augmentation/kaggle/working/processed/MildDemented/6fc84f9c-238d-4206-9a3a-3cb9b96525df.png',\n",
              " '/content/drive/MyDrive/image_224x224_no_augmentation/kaggle/working/processed/NonDemented/224c4221-d05e-4a6e-91e5-ff338be352b0.png',\n",
              " '/content/drive/MyDrive/image_224x224_no_augmentation/kaggle/working/processed/VeryMildDemented/6441faa2-8c31-4e91-9d35-2692c64177ff.png',\n",
              " '/content/drive/MyDrive/image_224x224_no_augmentation/kaggle/working/processed/VeryMildDemented/34895770-5a51-48b6-ba89-fa8d8fda8b65.png',\n",
              " '/content/drive/MyDrive/image_224x224_no_augmentation/kaggle/working/processed/pituitary/b98e30cd-1801-42a5-b303-70b9e950eb8b.png',\n",
              " '/content/drive/MyDrive/image_224x224_no_augmentation/kaggle/working/processed/MildDemented/eab18c28-438c-45f3-897b-c1c2e82509ee.png',\n",
              " '/content/drive/MyDrive/image_224x224_no_augmentation/kaggle/working/processed/glioma/d2fdb89d-f8ab-40d8-851a-860d87e5a5df.png',\n",
              " '/content/drive/MyDrive/image_224x224_no_augmentation/kaggle/working/processed/MildDemented/f9f07291-77b7-477d-8d22-7296c2623574.png',\n",
              " '/content/drive/MyDrive/image_224x224_no_augmentation/kaggle/working/processed/NonDemented/1d4e553a-7e0e-4586-b148-0daa94bcf3c0.png',\n",
              " '/content/drive/MyDrive/image_224x224_no_augmentation/kaggle/working/processed/VeryMildDemented/8875117e-f8e9-4a8f-94d4-8a38381c3dfb.png',\n",
              " '/content/drive/MyDrive/image_224x224_no_augmentation/kaggle/working/processed/NonDemented/c2a68231-d6d5-4b67-ae50-b6fedd0d1fd3.png',\n",
              " '/content/drive/MyDrive/image_224x224_no_augmentation/kaggle/working/processed/VeryMildDemented/694f9068-c8ba-4849-a463-6e111601286f.png',\n",
              " '/content/drive/MyDrive/image_224x224_no_augmentation/kaggle/working/processed/pituitary/b12cd130-3311-4eb8-a7d8-bf8a20fd02d3.png',\n",
              " '/content/drive/MyDrive/image_224x224_no_augmentation/kaggle/working/processed/NonDemented/28c39638-f1d6-4e1d-bc3a-ef2738ba2660.png',\n",
              " '/content/drive/MyDrive/image_224x224_no_augmentation/kaggle/working/processed/NonDemented/85d6b0e1-a93d-4c60-b806-40bd53856a2f.png',\n",
              " '/content/drive/MyDrive/image_224x224_no_augmentation/kaggle/working/processed/notumor/2f63af82-643c-4622-927d-7d3e5ac1aba1.png',\n",
              " '/content/drive/MyDrive/image_224x224_no_augmentation/kaggle/working/processed/MildDemented/2f06fac9-9864-4d79-ac85-162bed299901.png',\n",
              " '/content/drive/MyDrive/image_224x224_no_augmentation/kaggle/working/processed/glioma/b09b405a-86c5-4be9-95e3-0fbab9504e99.png',\n",
              " '/content/drive/MyDrive/image_224x224_no_augmentation/kaggle/working/processed/NonDemented/7ad0a8b7-3a27-4415-8fb7-1fde314118eb.png',\n",
              " '/content/drive/MyDrive/image_224x224_no_augmentation/kaggle/working/processed/glioma/fc8463f6-9304-4a7c-b889-620c9fd49efe.png',\n",
              " '/content/drive/MyDrive/image_224x224_no_augmentation/kaggle/working/processed/glioma/7cec5b80-d592-4711-8632-3f824f6ff962.png',\n",
              " '/content/drive/MyDrive/image_224x224_no_augmentation/kaggle/working/processed/glioma/05ed5c4d-c0bc-4f83-a60b-5555de139e45.png',\n",
              " '/content/drive/MyDrive/image_224x224_no_augmentation/kaggle/working/processed/meningioma/1ec4ead1-682d-4995-8d0e-8ea5d42257ef.png',\n",
              " '/content/drive/MyDrive/image_224x224_no_augmentation/kaggle/working/processed/pituitary/f9eebf0a-76c8-4b1c-8ee0-e63bafd4c0be.png',\n",
              " '/content/drive/MyDrive/image_224x224_no_augmentation/kaggle/working/processed/notumor/c4c77218-ef9d-4716-a9e5-1da5860ff877.png',\n",
              " '/content/drive/MyDrive/image_224x224_no_augmentation/kaggle/working/processed/meningioma/4d7c8f46-7819-4818-8828-39dc5322edea.png',\n",
              " '/content/drive/MyDrive/image_224x224_no_augmentation/kaggle/working/processed/pituitary/b29d5192-cd92-445f-b108-06513de86efc.png',\n",
              " '/content/drive/MyDrive/image_224x224_no_augmentation/kaggle/working/processed/meningioma/7b545fa0-b2ef-4efb-896b-f9f6abe21878.png',\n",
              " '/content/drive/MyDrive/image_224x224_no_augmentation/kaggle/working/processed/VeryMildDemented/04d0332a-1081-42c0-a452-ef583f4a2937.png',\n",
              " '/content/drive/MyDrive/image_224x224_no_augmentation/kaggle/working/processed/MildDemented/493be463-e71b-4aa9-9341-df6d3d1dcf9a.png',\n",
              " '/content/drive/MyDrive/image_224x224_no_augmentation/kaggle/working/processed/glioma/4345327d-09c6-4f49-93a0-cd763c99bbaa.png',\n",
              " '/content/drive/MyDrive/image_224x224_no_augmentation/kaggle/working/processed/meningioma/25b1ec4a-6f59-401f-8c66-8d84e96295f0.png',\n",
              " '/content/drive/MyDrive/image_224x224_no_augmentation/kaggle/working/processed/meningioma/7367ae3c-c68f-40f4-8124-369adb78927e.png',\n",
              " '/content/drive/MyDrive/image_224x224_no_augmentation/kaggle/working/processed/VeryMildDemented/e9a724a2-7925-4aa8-8329-85440c85460d.png',\n",
              " '/content/drive/MyDrive/image_224x224_no_augmentation/kaggle/working/processed/NonDemented/e7337dda-4352-4a1b-a3a1-14cebe95222a.png',\n",
              " '/content/drive/MyDrive/image_224x224_no_augmentation/kaggle/working/processed/NonDemented/d22050e9-fa01-4e69-bfa3-1d17e0671a26.png',\n",
              " '/content/drive/MyDrive/image_224x224_no_augmentation/kaggle/working/processed/meningioma/a2d0115c-2e48-4bb4-ae8c-8b6c4442dbbf.png',\n",
              " '/content/drive/MyDrive/image_224x224_no_augmentation/kaggle/working/processed/VeryMildDemented/b4b3a249-8abe-4ff6-bab0-c842e2da98a2.png',\n",
              " '/content/drive/MyDrive/image_224x224_no_augmentation/kaggle/working/processed/pituitary/9b450a0d-3b52-4349-9e7d-d706476728d1.png',\n",
              " '/content/drive/MyDrive/image_224x224_no_augmentation/kaggle/working/processed/NonDemented/68bbed4e-454c-4228-bffe-6d766331a024.png',\n",
              " '/content/drive/MyDrive/image_224x224_no_augmentation/kaggle/working/processed/notumor/6a22c762-f1b2-4006-8242-85c35d765e00.png',\n",
              " '/content/drive/MyDrive/image_224x224_no_augmentation/kaggle/working/processed/VeryMildDemented/714c9653-c3d4-4c37-8170-8506a16a90f4.png',\n",
              " '/content/drive/MyDrive/image_224x224_no_augmentation/kaggle/working/processed/VeryMildDemented/9d96a1ad-af28-4f6b-a881-33d70b9e9ecf.png',\n",
              " '/content/drive/MyDrive/image_224x224_no_augmentation/kaggle/working/processed/meningioma/b64a70c5-166b-46c6-b136-99038e3af8d1.png',\n",
              " '/content/drive/MyDrive/image_224x224_no_augmentation/kaggle/working/processed/pituitary/5d41e1d4-fb4b-401d-a9f9-a07b61a18d80.png',\n",
              " '/content/drive/MyDrive/image_224x224_no_augmentation/kaggle/working/processed/MildDemented/e84166b4-1fcc-418c-b475-87ba97e0a605.png',\n",
              " '/content/drive/MyDrive/image_224x224_no_augmentation/kaggle/working/processed/meningioma/eac3debc-05c3-4217-a9af-3f9e037c9c88.png',\n",
              " '/content/drive/MyDrive/image_224x224_no_augmentation/kaggle/working/processed/MildDemented/770adb94-b03e-4a9d-9d64-0419ec1c6639.png',\n",
              " '/content/drive/MyDrive/image_224x224_no_augmentation/kaggle/working/processed/pituitary/01f0c030-d2a0-4a11-82cd-2c171563d603.png',\n",
              " '/content/drive/MyDrive/image_224x224_no_augmentation/kaggle/working/processed/meningioma/1d0a1dc7-8f1a-4506-a162-25cd0ec7cff3.png',\n",
              " '/content/drive/MyDrive/image_224x224_no_augmentation/kaggle/working/processed/NonDemented/1b3dddad-67ac-4be3-a95c-e17aa41536f9.png',\n",
              " '/content/drive/MyDrive/image_224x224_no_augmentation/kaggle/working/processed/pituitary/a7923624-3471-4168-83b7-18a65d668f02.png',\n",
              " '/content/drive/MyDrive/image_224x224_no_augmentation/kaggle/working/processed/glioma/f1e2fc29-7886-47fd-a2b6-7419dc305dc7.png',\n",
              " '/content/drive/MyDrive/image_224x224_no_augmentation/kaggle/working/processed/pituitary/d913db39-8298-4988-af8e-34d0a65ef945.png',\n",
              " '/content/drive/MyDrive/image_224x224_no_augmentation/kaggle/working/processed/meningioma/2e23a429-fd11-48f6-a7bb-38340aa669e5.png',\n",
              " '/content/drive/MyDrive/image_224x224_no_augmentation/kaggle/working/processed/glioma/05f063f4-0d74-4f46-a3d2-7585ea6e75a0.png',\n",
              " '/content/drive/MyDrive/image_224x224_no_augmentation/kaggle/working/processed/glioma/cb79c605-918c-41b0-8169-6ea626d1710a.png',\n",
              " '/content/drive/MyDrive/image_224x224_no_augmentation/kaggle/working/processed/MildDemented/7b5a673f-0c69-4982-9db4-b4714af9a705.png',\n",
              " '/content/drive/MyDrive/image_224x224_no_augmentation/kaggle/working/processed/meningioma/58abdacd-4c9b-4b66-b1bf-91ce14159105.png',\n",
              " '/content/drive/MyDrive/image_224x224_no_augmentation/kaggle/working/processed/VeryMildDemented/52753293-616f-451c-9c10-45f00b097af4.png',\n",
              " '/content/drive/MyDrive/image_224x224_no_augmentation/kaggle/working/processed/pituitary/988fa73d-360b-44d5-b5fa-30cbd162f127.png',\n",
              " '/content/drive/MyDrive/image_224x224_no_augmentation/kaggle/working/processed/ModerateDemented/68fe969c-1ec9-48c9-9c62-0d4fdf6c1a7c.png',\n",
              " '/content/drive/MyDrive/image_224x224_no_augmentation/kaggle/working/processed/notumor/93b7071b-91e4-4ebd-863a-84457fec6df8.png',\n",
              " '/content/drive/MyDrive/image_224x224_no_augmentation/kaggle/working/processed/NonDemented/f5879452-2792-4a0d-8702-70416b109d78.png',\n",
              " '/content/drive/MyDrive/image_224x224_no_augmentation/kaggle/working/processed/glioma/23452c0d-01bb-4695-9379-a1767a094e4f.png',\n",
              " '/content/drive/MyDrive/image_224x224_no_augmentation/kaggle/working/processed/NonDemented/abdba5d3-529a-4230-a26d-6f337c6cdb52.png',\n",
              " '/content/drive/MyDrive/image_224x224_no_augmentation/kaggle/working/processed/notumor/04e8c36c-6f8f-48df-b86b-0fd718ce4b93.png',\n",
              " '/content/drive/MyDrive/image_224x224_no_augmentation/kaggle/working/processed/pituitary/2d1a1fd5-6163-4861-a7f0-b4c661287913.png',\n",
              " '/content/drive/MyDrive/image_224x224_no_augmentation/kaggle/working/processed/pituitary/c6323987-280a-4aa2-b901-993f53e99954.png',\n",
              " '/content/drive/MyDrive/image_224x224_no_augmentation/kaggle/working/processed/pituitary/e1d5641a-a24d-433a-8d4c-32d2236522a5.png',\n",
              " '/content/drive/MyDrive/image_224x224_no_augmentation/kaggle/working/processed/glioma/7319a7e1-5a7a-4d36-b7ef-27adb247e744.png',\n",
              " '/content/drive/MyDrive/image_224x224_no_augmentation/kaggle/working/processed/meningioma/25572d6a-4c47-4bb6-8582-84de3f4ff096.png',\n",
              " '/content/drive/MyDrive/image_224x224_no_augmentation/kaggle/working/processed/NonDemented/3df152e5-dbf1-493b-8120-b0d1c6664c69.png',\n",
              " '/content/drive/MyDrive/image_224x224_no_augmentation/kaggle/working/processed/pituitary/55386785-a8d4-4cbd-88c5-d32e6ec17e76.png',\n",
              " '/content/drive/MyDrive/image_224x224_no_augmentation/kaggle/working/processed/NonDemented/5503ad78-8221-4581-af9c-5c30f249a7ca.png',\n",
              " '/content/drive/MyDrive/image_224x224_no_augmentation/kaggle/working/processed/pituitary/132d4fd6-2267-4a40-8437-778b165cb1f8.png',\n",
              " '/content/drive/MyDrive/image_224x224_no_augmentation/kaggle/working/processed/notumor/f7fa8b4b-10d8-4be6-86c1-5d83cd09cc53.png',\n",
              " '/content/drive/MyDrive/image_224x224_no_augmentation/kaggle/working/processed/glioma/784f0c0f-7f53-4402-b021-26ed95046e74.png',\n",
              " '/content/drive/MyDrive/image_224x224_no_augmentation/kaggle/working/processed/glioma/75638efc-12f6-4d19-ac38-6ce32be6b878.png',\n",
              " '/content/drive/MyDrive/image_224x224_no_augmentation/kaggle/working/processed/VeryMildDemented/7cfa5a49-27a1-48e0-9eda-a81314045c99.png',\n",
              " '/content/drive/MyDrive/image_224x224_no_augmentation/kaggle/working/processed/glioma/5b56cb1e-c498-4442-8d3a-600ca43e9534.png',\n",
              " '/content/drive/MyDrive/image_224x224_no_augmentation/kaggle/working/processed/glioma/08d3cce7-d3f3-436c-b0f0-3b7bebb82d00.png',\n",
              " '/content/drive/MyDrive/image_224x224_no_augmentation/kaggle/working/processed/pituitary/5d19485f-6c45-4729-9f71-e88ee57bb553.png',\n",
              " '/content/drive/MyDrive/image_224x224_no_augmentation/kaggle/working/processed/NonDemented/88e7444f-cb1e-4a72-a38a-769c8c713c37.png',\n",
              " '/content/drive/MyDrive/image_224x224_no_augmentation/kaggle/working/processed/ModerateDemented/df4bdf48-0977-4f95-b118-58e1a2ff1437.png',\n",
              " '/content/drive/MyDrive/image_224x224_no_augmentation/kaggle/working/processed/notumor/e5772cce-858c-4816-88e9-73e69b7fa652.png',\n",
              " '/content/drive/MyDrive/image_224x224_no_augmentation/kaggle/working/processed/NonDemented/0428cfa7-8e1f-4c24-a109-9dbcc4476969.png',\n",
              " '/content/drive/MyDrive/image_224x224_no_augmentation/kaggle/working/processed/NonDemented/76c5dd3f-0756-47a5-8868-c9ed58eb7404.png',\n",
              " '/content/drive/MyDrive/image_224x224_no_augmentation/kaggle/working/processed/VeryMildDemented/03966386-c268-4949-b0d6-27c1abf80175.png',\n",
              " '/content/drive/MyDrive/image_224x224_no_augmentation/kaggle/working/processed/meningioma/fa21f3ec-b8b9-428c-b0d8-192c06d22c47.png',\n",
              " '/content/drive/MyDrive/image_224x224_no_augmentation/kaggle/working/processed/meningioma/339b5bee-5a5e-4a68-9ca7-ceb6cc4e175d.png',\n",
              " '/content/drive/MyDrive/image_224x224_no_augmentation/kaggle/working/processed/NonDemented/0e5ce9a9-6e90-4234-a0bb-3b3ba0112996.png',\n",
              " '/content/drive/MyDrive/image_224x224_no_augmentation/kaggle/working/processed/NonDemented/2834037a-f2d6-4103-8c34-2795a80b28ab.png',\n",
              " '/content/drive/MyDrive/image_224x224_no_augmentation/kaggle/working/processed/VeryMildDemented/eb33da8e-89ef-4d0d-86f0-977d146432f4.png',\n",
              " '/content/drive/MyDrive/image_224x224_no_augmentation/kaggle/working/processed/glioma/7afa276c-628e-451c-ad56-0a78b35ea8a8.png',\n",
              " '/content/drive/MyDrive/image_224x224_no_augmentation/kaggle/working/processed/pituitary/06d69b76-9ef1-420b-9e20-5e08126ce65e.png',\n",
              " '/content/drive/MyDrive/image_224x224_no_augmentation/kaggle/working/processed/VeryMildDemented/b5b2b022-7d70-4457-ac7a-0e59b09db1a1.png',\n",
              " '/content/drive/MyDrive/image_224x224_no_augmentation/kaggle/working/processed/meningioma/190602d4-fc3b-426c-9984-bb75410ae067.png',\n",
              " '/content/drive/MyDrive/image_224x224_no_augmentation/kaggle/working/processed/glioma/a9ef0fed-08ac-430a-930a-70db9b701431.png',\n",
              " '/content/drive/MyDrive/image_224x224_no_augmentation/kaggle/working/processed/VeryMildDemented/61c687c3-ba9c-441b-8984-0b0856a72c66.png',\n",
              " '/content/drive/MyDrive/image_224x224_no_augmentation/kaggle/working/processed/NonDemented/06c5b256-7454-47bc-8121-0c968b372eed.png',\n",
              " '/content/drive/MyDrive/image_224x224_no_augmentation/kaggle/working/processed/VeryMildDemented/cbb5e280-d955-4d3e-b177-bb64c9208e43.png',\n",
              " '/content/drive/MyDrive/image_224x224_no_augmentation/kaggle/working/processed/VeryMildDemented/4a097cdd-33e8-44ae-8a0b-82b235b14c24.png',\n",
              " '/content/drive/MyDrive/image_224x224_no_augmentation/kaggle/working/processed/NonDemented/8a839cf4-2c14-49cf-821b-8b18cd92c95a.png',\n",
              " '/content/drive/MyDrive/image_224x224_no_augmentation/kaggle/working/processed/NonDemented/f3e1a1a6-e9c2-4c82-b4cb-8909b928cd5a.png',\n",
              " '/content/drive/MyDrive/image_224x224_no_augmentation/kaggle/working/processed/NonDemented/c3ce8b93-6a3b-4244-8db0-4d9ead967532.png',\n",
              " '/content/drive/MyDrive/image_224x224_no_augmentation/kaggle/working/processed/NonDemented/11b1cd5c-0f3e-46a7-b7ab-a337114fdc6b.png',\n",
              " '/content/drive/MyDrive/image_224x224_no_augmentation/kaggle/working/processed/VeryMildDemented/353fda8d-17b8-4272-aad6-4e2a82d4bb78.png',\n",
              " '/content/drive/MyDrive/image_224x224_no_augmentation/kaggle/working/processed/glioma/e09ade22-a71f-4093-afbc-f4d3d9553d64.png',\n",
              " '/content/drive/MyDrive/image_224x224_no_augmentation/kaggle/working/processed/glioma/3f9c7f28-5eb8-4ae9-be7d-6363ffd29fe8.png',\n",
              " '/content/drive/MyDrive/image_224x224_no_augmentation/kaggle/working/processed/meningioma/c1717be8-34dd-4855-9a6f-e288f0ab7693.png',\n",
              " '/content/drive/MyDrive/image_224x224_no_augmentation/kaggle/working/processed/NonDemented/8d122d25-0562-47f7-80db-d5eb412a21b0.png',\n",
              " '/content/drive/MyDrive/image_224x224_no_augmentation/kaggle/working/processed/notumor/c7fdd80a-0c58-4063-8818-6543cdf90452.png',\n",
              " '/content/drive/MyDrive/image_224x224_no_augmentation/kaggle/working/processed/meningioma/af044552-30d9-4503-81fe-136eab1318d5.png',\n",
              " '/content/drive/MyDrive/image_224x224_no_augmentation/kaggle/working/processed/MildDemented/e1e44d29-4173-4291-99c1-1f52e81b981c.png',\n",
              " '/content/drive/MyDrive/image_224x224_no_augmentation/kaggle/working/processed/VeryMildDemented/9a0b7b67-2a2c-497e-bf93-024a6595b20a.png',\n",
              " '/content/drive/MyDrive/image_224x224_no_augmentation/kaggle/working/processed/glioma/46787859-aca2-4e8b-b00f-56ab799777db.png',\n",
              " '/content/drive/MyDrive/image_224x224_no_augmentation/kaggle/working/processed/notumor/a23b9880-5b32-4da2-9216-61b1b2d10f17.png',\n",
              " '/content/drive/MyDrive/image_224x224_no_augmentation/kaggle/working/processed/pituitary/798539e8-6c5a-4f9b-8684-cd28b4fcd84e.png',\n",
              " '/content/drive/MyDrive/image_224x224_no_augmentation/kaggle/working/processed/meningioma/b08e4ead-2ba0-4853-a61c-298e1a1c4b08.png',\n",
              " '/content/drive/MyDrive/image_224x224_no_augmentation/kaggle/working/processed/meningioma/c811b124-6730-4532-9563-82ca968a1c26.png',\n",
              " '/content/drive/MyDrive/image_224x224_no_augmentation/kaggle/working/processed/glioma/9f985d0f-c56a-43a1-9eaa-e82fcf38d8ab.png',\n",
              " '/content/drive/MyDrive/image_224x224_no_augmentation/kaggle/working/processed/pituitary/c1c3a44f-91c1-4ae7-a4e7-3a2e72421a84.png',\n",
              " '/content/drive/MyDrive/image_224x224_no_augmentation/kaggle/working/processed/NonDemented/df6bf0a0-c0d8-49e7-8010-ac2e6e1f1f47.png',\n",
              " '/content/drive/MyDrive/image_224x224_no_augmentation/kaggle/working/processed/NonDemented/e8e8723b-2c7f-464d-9063-d330db0adf87.png',\n",
              " '/content/drive/MyDrive/image_224x224_no_augmentation/kaggle/working/processed/glioma/9844b61d-d527-4154-a980-b631dd58c00c.png',\n",
              " '/content/drive/MyDrive/image_224x224_no_augmentation/kaggle/working/processed/VeryMildDemented/e71661dc-ef35-472d-a273-fd84d55acf32.png',\n",
              " '/content/drive/MyDrive/image_224x224_no_augmentation/kaggle/working/processed/meningioma/d7a29812-48f6-4469-8d74-6834498c0668.png',\n",
              " '/content/drive/MyDrive/image_224x224_no_augmentation/kaggle/working/processed/NonDemented/532675f9-19c8-4158-95f0-1e3ddd57eb93.png',\n",
              " '/content/drive/MyDrive/image_224x224_no_augmentation/kaggle/working/processed/MildDemented/c8ea474e-010b-4eaa-be1e-d3675e898077.png',\n",
              " '/content/drive/MyDrive/image_224x224_no_augmentation/kaggle/working/processed/NonDemented/c57b921e-5e6b-4d52-9130-d6ebc5a3907f.png',\n",
              " '/content/drive/MyDrive/image_224x224_no_augmentation/kaggle/working/processed/meningioma/b70af35c-7695-4853-947d-adae5d1ebd5c.png',\n",
              " '/content/drive/MyDrive/image_224x224_no_augmentation/kaggle/working/processed/notumor/585a0352-2bb4-468c-a9f8-2c21b4515fb3.png',\n",
              " '/content/drive/MyDrive/image_224x224_no_augmentation/kaggle/working/processed/pituitary/6ab4e932-0b48-48a8-a84e-69136d4b8804.png',\n",
              " '/content/drive/MyDrive/image_224x224_no_augmentation/kaggle/working/processed/VeryMildDemented/e096f1c0-2a57-47fa-b93a-6d1a892afa68.png',\n",
              " '/content/drive/MyDrive/image_224x224_no_augmentation/kaggle/working/processed/MildDemented/09d2e32c-df24-4873-aebc-1d3ca1185827.png',\n",
              " '/content/drive/MyDrive/image_224x224_no_augmentation/kaggle/working/processed/NonDemented/f38b9a12-fc96-4c6c-92f6-c8b22a3d8e3e.png',\n",
              " '/content/drive/MyDrive/image_224x224_no_augmentation/kaggle/working/processed/pituitary/c3de5e03-7761-46a5-94aa-18255574d61e.png',\n",
              " '/content/drive/MyDrive/image_224x224_no_augmentation/kaggle/working/processed/VeryMildDemented/de5cf727-4bc6-42b8-ab61-a1becdbc1e3c.png',\n",
              " '/content/drive/MyDrive/image_224x224_no_augmentation/kaggle/working/processed/NonDemented/081ddfb7-aa28-4b71-918a-66a0fd8fe000.png',\n",
              " '/content/drive/MyDrive/image_224x224_no_augmentation/kaggle/working/processed/NonDemented/408cee9b-076e-41c0-a3ee-631cf515fafb.png',\n",
              " '/content/drive/MyDrive/image_224x224_no_augmentation/kaggle/working/processed/glioma/2d1d9458-80b5-4ec4-8b75-743d9b2913a0.png',\n",
              " '/content/drive/MyDrive/image_224x224_no_augmentation/kaggle/working/processed/VeryMildDemented/1204aae6-0ad9-42c8-a122-f82017cca0e9.png',\n",
              " '/content/drive/MyDrive/image_224x224_no_augmentation/kaggle/working/processed/glioma/f97c562f-24a4-451a-ab14-8347cb880fc8.png',\n",
              " '/content/drive/MyDrive/image_224x224_no_augmentation/kaggle/working/processed/NonDemented/67a7e115-8169-4bfa-936c-355fe22261b2.png',\n",
              " '/content/drive/MyDrive/image_224x224_no_augmentation/kaggle/working/processed/meningioma/3a192c5d-a051-4667-b2f7-a3e78e0de4a3.png',\n",
              " '/content/drive/MyDrive/image_224x224_no_augmentation/kaggle/working/processed/VeryMildDemented/f19fa32c-60d2-4f1e-8c66-578895686aff.png',\n",
              " '/content/drive/MyDrive/image_224x224_no_augmentation/kaggle/working/processed/NonDemented/447fddef-b9e3-417c-8017-f08de5c22a01.png',\n",
              " '/content/drive/MyDrive/image_224x224_no_augmentation/kaggle/working/processed/glioma/8e8778de-96c1-4e85-ad29-85f111a7781f.png',\n",
              " '/content/drive/MyDrive/image_224x224_no_augmentation/kaggle/working/processed/meningioma/f1c9c6cb-fbb3-48b9-b457-a2e326d07c76.png',\n",
              " '/content/drive/MyDrive/image_224x224_no_augmentation/kaggle/working/processed/pituitary/93dfe869-b8a3-449c-b113-0cfa03604eb3.png',\n",
              " '/content/drive/MyDrive/image_224x224_no_augmentation/kaggle/working/processed/meningioma/ddd8849c-db0f-4ab9-ba29-5b2967b0d29a.png',\n",
              " '/content/drive/MyDrive/image_224x224_no_augmentation/kaggle/working/processed/VeryMildDemented/64b4cecb-8c50-42ff-832d-1aa738803756.png',\n",
              " '/content/drive/MyDrive/image_224x224_no_augmentation/kaggle/working/processed/NonDemented/6948a462-6686-4185-921d-e723b42fa834.png',\n",
              " '/content/drive/MyDrive/image_224x224_no_augmentation/kaggle/working/processed/pituitary/fd0d206c-d8ed-4eb9-8bf2-4d7d015417e1.png',\n",
              " '/content/drive/MyDrive/image_224x224_no_augmentation/kaggle/working/processed/meningioma/e4ae227a-3e9b-4ec4-ae9c-1ad0ae99e0a9.png',\n",
              " '/content/drive/MyDrive/image_224x224_no_augmentation/kaggle/working/processed/meningioma/7f7ea358-a30a-4215-afb1-135d85f8ef7c.png',\n",
              " '/content/drive/MyDrive/image_224x224_no_augmentation/kaggle/working/processed/pituitary/3b10ea7d-8d97-4362-a032-8d319441a550.png',\n",
              " '/content/drive/MyDrive/image_224x224_no_augmentation/kaggle/working/processed/MildDemented/a99b2149-5ab1-4203-a2c2-ac261c50531c.png',\n",
              " '/content/drive/MyDrive/image_224x224_no_augmentation/kaggle/working/processed/NonDemented/62102f49-6775-49e3-bb72-46b7a3d1e4bb.png',\n",
              " '/content/drive/MyDrive/image_224x224_no_augmentation/kaggle/working/processed/VeryMildDemented/017f5573-8c86-499b-92b3-859ab8e14931.png',\n",
              " '/content/drive/MyDrive/image_224x224_no_augmentation/kaggle/working/processed/MildDemented/013cb9b7-cb7d-42eb-abff-6a6d28504321.png',\n",
              " '/content/drive/MyDrive/image_224x224_no_augmentation/kaggle/working/processed/meningioma/c366a30b-66c5-4f5f-928e-805f119fc41f.png',\n",
              " '/content/drive/MyDrive/image_224x224_no_augmentation/kaggle/working/processed/meningioma/f92e1872-9686-4f3a-ba8e-de3a67891907.png',\n",
              " '/content/drive/MyDrive/image_224x224_no_augmentation/kaggle/working/processed/notumor/77bd2dbc-6f35-4e1c-bedc-9c58338565c1.png',\n",
              " '/content/drive/MyDrive/image_224x224_no_augmentation/kaggle/working/processed/NonDemented/398d134a-2154-4bcf-94b6-e2af09cadd40.png',\n",
              " '/content/drive/MyDrive/image_224x224_no_augmentation/kaggle/working/processed/meningioma/465c3da9-d0ad-4ad5-8960-492b74407368.png',\n",
              " '/content/drive/MyDrive/image_224x224_no_augmentation/kaggle/working/processed/glioma/ccc8fa92-0c85-4929-b140-8961f9b07a1e.png',\n",
              " '/content/drive/MyDrive/image_224x224_no_augmentation/kaggle/working/processed/VeryMildDemented/d4cbd626-5eee-4dec-bcea-fe590f4eea4e.png',\n",
              " '/content/drive/MyDrive/image_224x224_no_augmentation/kaggle/working/processed/NonDemented/ee002182-bc68-40ba-b980-465dc5a31fd6.png',\n",
              " '/content/drive/MyDrive/image_224x224_no_augmentation/kaggle/working/processed/meningioma/9eab1071-50ce-43b9-90ba-22190e7d2fd9.png',\n",
              " '/content/drive/MyDrive/image_224x224_no_augmentation/kaggle/working/processed/pituitary/37aac3b0-a4d3-4095-bf24-37ac814f4382.png',\n",
              " '/content/drive/MyDrive/image_224x224_no_augmentation/kaggle/working/processed/NonDemented/f27162e9-131b-4a9a-b9fb-23aae5cfee56.png',\n",
              " '/content/drive/MyDrive/image_224x224_no_augmentation/kaggle/working/processed/notumor/dbd76884-a054-4e7a-bbd0-e6c2beb03767.png',\n",
              " '/content/drive/MyDrive/image_224x224_no_augmentation/kaggle/working/processed/meningioma/c110401c-257a-4b49-b668-f50aa7ff93a5.png',\n",
              " '/content/drive/MyDrive/image_224x224_no_augmentation/kaggle/working/processed/pituitary/70cb558e-cea3-4386-a678-9c06790783c4.png',\n",
              " '/content/drive/MyDrive/image_224x224_no_augmentation/kaggle/working/processed/meningioma/7376fef7-fbdd-4c1a-90da-708773bc2025.png',\n",
              " '/content/drive/MyDrive/image_224x224_no_augmentation/kaggle/working/processed/pituitary/fc69d380-92eb-4275-aefe-b0c5d00482ec.png',\n",
              " '/content/drive/MyDrive/image_224x224_no_augmentation/kaggle/working/processed/glioma/c70477f0-50e5-4893-82ae-15bd2d7c463b.png',\n",
              " '/content/drive/MyDrive/image_224x224_no_augmentation/kaggle/working/processed/glioma/fccc3e73-0f55-42d8-8e58-8b916c9ec849.png',\n",
              " '/content/drive/MyDrive/image_224x224_no_augmentation/kaggle/working/processed/NonDemented/1f7af7a0-2a1e-414d-b0bd-492fe5924732.png',\n",
              " '/content/drive/MyDrive/image_224x224_no_augmentation/kaggle/working/processed/glioma/5065c433-f3a7-4d65-89b9-93164189a6ef.png',\n",
              " '/content/drive/MyDrive/image_224x224_no_augmentation/kaggle/working/processed/pituitary/546b3e75-a362-4b9e-af75-ffdd6c066f55.png',\n",
              " '/content/drive/MyDrive/image_224x224_no_augmentation/kaggle/working/processed/notumor/9cfb1e8d-d688-4930-9b93-3b90aab45e2b.png',\n",
              " '/content/drive/MyDrive/image_224x224_no_augmentation/kaggle/working/processed/notumor/4a0749dc-b536-423e-b0b6-b31540074d73.png',\n",
              " '/content/drive/MyDrive/image_224x224_no_augmentation/kaggle/working/processed/glioma/b2d9e002-a0c7-4a30-834f-4b42ff3e0c30.png',\n",
              " '/content/drive/MyDrive/image_224x224_no_augmentation/kaggle/working/processed/VeryMildDemented/be681360-fa5b-4418-bcea-965c02ffe98b.png',\n",
              " '/content/drive/MyDrive/image_224x224_no_augmentation/kaggle/working/processed/pituitary/2740c5fa-d0b2-4fc8-92cc-9c95ac392566.png',\n",
              " '/content/drive/MyDrive/image_224x224_no_augmentation/kaggle/working/processed/NonDemented/4a94a0a5-151d-4fc3-a2f4-7a8814aa7bd8.png',\n",
              " '/content/drive/MyDrive/image_224x224_no_augmentation/kaggle/working/processed/glioma/2b74be8e-8e72-4be4-9026-e5db4ccc23eb.png',\n",
              " '/content/drive/MyDrive/image_224x224_no_augmentation/kaggle/working/processed/NonDemented/e47f2ddc-c005-45ae-abea-9f1a1c57589d.png',\n",
              " '/content/drive/MyDrive/image_224x224_no_augmentation/kaggle/working/processed/meningioma/98dc9641-05a5-4145-baf2-cc69037d6728.png',\n",
              " '/content/drive/MyDrive/image_224x224_no_augmentation/kaggle/working/processed/MildDemented/ce8139f8-e1d2-4841-bd7a-c62d62c418f2.png',\n",
              " '/content/drive/MyDrive/image_224x224_no_augmentation/kaggle/working/processed/VeryMildDemented/34b53199-104b-4d58-b205-6119213ecdac.png',\n",
              " '/content/drive/MyDrive/image_224x224_no_augmentation/kaggle/working/processed/meningioma/e9fa72c7-add2-45d5-9033-446129fc4c5e.png',\n",
              " '/content/drive/MyDrive/image_224x224_no_augmentation/kaggle/working/processed/glioma/5d651589-a02c-4ce3-969c-7da78a831740.png',\n",
              " '/content/drive/MyDrive/image_224x224_no_augmentation/kaggle/working/processed/MildDemented/c734d5dd-e244-4e98-b9ca-25cf7c087d99.png',\n",
              " '/content/drive/MyDrive/image_224x224_no_augmentation/kaggle/working/processed/pituitary/2b55ca4c-3a60-4c2b-99b9-5eff5d3ae8a2.png',\n",
              " '/content/drive/MyDrive/image_224x224_no_augmentation/kaggle/working/processed/pituitary/7f7fb799-074f-483f-871f-48301a131493.png',\n",
              " '/content/drive/MyDrive/image_224x224_no_augmentation/kaggle/working/processed/glioma/e92f4550-b58c-4738-8143-9dbf17e661dd.png',\n",
              " '/content/drive/MyDrive/image_224x224_no_augmentation/kaggle/working/processed/glioma/24bda918-a10e-4a38-8e0f-b1302b6b67e3.png',\n",
              " '/content/drive/MyDrive/image_224x224_no_augmentation/kaggle/working/processed/NonDemented/f2fc41dd-ce8f-4a43-96b4-f058310beca5.png',\n",
              " '/content/drive/MyDrive/image_224x224_no_augmentation/kaggle/working/processed/NonDemented/6c2d9c42-9b45-4414-8b96-16142c22528b.png',\n",
              " '/content/drive/MyDrive/image_224x224_no_augmentation/kaggle/working/processed/VeryMildDemented/c7aaaf67-6ff6-4c17-bcad-94b6b7477463.png',\n",
              " '/content/drive/MyDrive/image_224x224_no_augmentation/kaggle/working/processed/NonDemented/8ecfb8c3-e799-40c7-8396-996585414a97.png',\n",
              " '/content/drive/MyDrive/image_224x224_no_augmentation/kaggle/working/processed/NonDemented/83049fa3-b2e1-4142-80c4-e13185975913.png',\n",
              " '/content/drive/MyDrive/image_224x224_no_augmentation/kaggle/working/processed/meningioma/14483200-227c-4854-b8c6-34e9fa28dc2d.png',\n",
              " '/content/drive/MyDrive/image_224x224_no_augmentation/kaggle/working/processed/pituitary/d1a1876b-4d03-41c6-b5ce-d83d263de2ef.png',\n",
              " '/content/drive/MyDrive/image_224x224_no_augmentation/kaggle/working/processed/glioma/a5c68ef9-87ab-4de7-8fa9-d51a15666afa.png',\n",
              " '/content/drive/MyDrive/image_224x224_no_augmentation/kaggle/working/processed/NonDemented/e7c0aa5d-f290-4a8d-b38d-d5750a5f81c0.png',\n",
              " '/content/drive/MyDrive/image_224x224_no_augmentation/kaggle/working/processed/meningioma/e4ca9de5-b0a1-414d-b461-41ffb6ec1c35.png',\n",
              " '/content/drive/MyDrive/image_224x224_no_augmentation/kaggle/working/processed/glioma/82690803-5a23-4df0-893c-4c7dc598e8b2.png',\n",
              " '/content/drive/MyDrive/image_224x224_no_augmentation/kaggle/working/processed/glioma/a1edd416-a60f-4353-99ca-f7f69c60f88c.png',\n",
              " '/content/drive/MyDrive/image_224x224_no_augmentation/kaggle/working/processed/pituitary/3b2118a6-5213-42b1-a6a2-f48917c95159.png',\n",
              " '/content/drive/MyDrive/image_224x224_no_augmentation/kaggle/working/processed/glioma/c132a9cc-3001-47ee-8ce4-e63abdb893ef.png',\n",
              " '/content/drive/MyDrive/image_224x224_no_augmentation/kaggle/working/processed/meningioma/d6fcae5b-1945-4b44-9aba-a620127b03dc.png',\n",
              " '/content/drive/MyDrive/image_224x224_no_augmentation/kaggle/working/processed/NonDemented/8d376aa2-e25a-4922-b694-7ae6ccf974f2.png',\n",
              " '/content/drive/MyDrive/image_224x224_no_augmentation/kaggle/working/processed/notumor/a92b51bb-0b5f-4543-af84-ea215f5bd896.png',\n",
              " '/content/drive/MyDrive/image_224x224_no_augmentation/kaggle/working/processed/VeryMildDemented/2fdc6070-1795-4d29-aaea-450e946f79e6.png',\n",
              " '/content/drive/MyDrive/image_224x224_no_augmentation/kaggle/working/processed/MildDemented/4234931d-06da-490f-a419-91492b16f03c.png',\n",
              " '/content/drive/MyDrive/image_224x224_no_augmentation/kaggle/working/processed/pituitary/528fe526-8445-4145-90f5-d82ccde30b05.png',\n",
              " '/content/drive/MyDrive/image_224x224_no_augmentation/kaggle/working/processed/glioma/08506054-2df5-4337-ad94-af1424796f04.png',\n",
              " '/content/drive/MyDrive/image_224x224_no_augmentation/kaggle/working/processed/NonDemented/3e1a1501-dd92-40e1-917a-11ba9c2d7010.png',\n",
              " '/content/drive/MyDrive/image_224x224_no_augmentation/kaggle/working/processed/NonDemented/fb457bd3-2202-4cbe-ad07-778989c5822a.png',\n",
              " '/content/drive/MyDrive/image_224x224_no_augmentation/kaggle/working/processed/glioma/7159dcaa-d028-4a46-a909-474de98cb7f9.png',\n",
              " '/content/drive/MyDrive/image_224x224_no_augmentation/kaggle/working/processed/meningioma/9bfa0c5f-b707-4775-b24b-181528d13b7e.png',\n",
              " '/content/drive/MyDrive/image_224x224_no_augmentation/kaggle/working/processed/VeryMildDemented/dbd7e8f2-56af-4e82-a286-faedd8014b81.png',\n",
              " '/content/drive/MyDrive/image_224x224_no_augmentation/kaggle/working/processed/NonDemented/7ea70c92-3b6a-4510-b931-26f51e5103bd.png',\n",
              " '/content/drive/MyDrive/image_224x224_no_augmentation/kaggle/working/processed/notumor/3cf8f3f4-5fac-4754-abe4-a00658b0407b.png',\n",
              " '/content/drive/MyDrive/image_224x224_no_augmentation/kaggle/working/processed/notumor/5f7ac6d5-88a4-4f3f-8277-1d9ac2997c91.png',\n",
              " '/content/drive/MyDrive/image_224x224_no_augmentation/kaggle/working/processed/meningioma/f8488552-d6ce-4f08-81c7-7a9ac045c6ea.png',\n",
              " '/content/drive/MyDrive/image_224x224_no_augmentation/kaggle/working/processed/NonDemented/e26b0098-a74d-4c96-9285-3d2076f99226.png',\n",
              " '/content/drive/MyDrive/image_224x224_no_augmentation/kaggle/working/processed/MildDemented/2e0bafc0-53cd-4446-b121-a4ad58fde8e9.png',\n",
              " '/content/drive/MyDrive/image_224x224_no_augmentation/kaggle/working/processed/VeryMildDemented/409d6411-65a4-4bf1-9dfc-7c3185a2e1a0.png',\n",
              " '/content/drive/MyDrive/image_224x224_no_augmentation/kaggle/working/processed/pituitary/d07107a6-860a-4b33-904f-8cc27a85a7ea.png',\n",
              " '/content/drive/MyDrive/image_224x224_no_augmentation/kaggle/working/processed/NonDemented/30d3f15a-e45f-46f6-833a-84672749921f.png',\n",
              " '/content/drive/MyDrive/image_224x224_no_augmentation/kaggle/working/processed/meningioma/013d24e9-8074-436e-a16b-cea9304bb311.png',\n",
              " '/content/drive/MyDrive/image_224x224_no_augmentation/kaggle/working/processed/meningioma/c3a3b4a7-674e-4a03-a5bf-ab366fab5654.png',\n",
              " '/content/drive/MyDrive/image_224x224_no_augmentation/kaggle/working/processed/notumor/cee23cc9-adae-40d7-ba9f-82d3163aae22.png',\n",
              " '/content/drive/MyDrive/image_224x224_no_augmentation/kaggle/working/processed/glioma/fb7236c1-c4f2-431d-8a16-48fc9a038f74.png',\n",
              " '/content/drive/MyDrive/image_224x224_no_augmentation/kaggle/working/processed/NonDemented/b4ae201c-7c6c-4ea7-9da5-4f8c88604d40.png',\n",
              " '/content/drive/MyDrive/image_224x224_no_augmentation/kaggle/working/processed/NonDemented/ab95b1a7-c7fe-43cb-ac31-e4fdc83211e9.png',\n",
              " '/content/drive/MyDrive/image_224x224_no_augmentation/kaggle/working/processed/NonDemented/b9c91871-6952-4156-a9f3-b4ede0a4ea6a.png',\n",
              " '/content/drive/MyDrive/image_224x224_no_augmentation/kaggle/working/processed/VeryMildDemented/973ccdec-eeb7-4ebe-b429-e8bf6fa2a12c.png',\n",
              " '/content/drive/MyDrive/image_224x224_no_augmentation/kaggle/working/processed/pituitary/bda7c172-76c1-48b5-be2a-ab0333c8946f.png',\n",
              " '/content/drive/MyDrive/image_224x224_no_augmentation/kaggle/working/processed/VeryMildDemented/27ec91d9-e22c-436a-b93b-1759c8f25305.png',\n",
              " '/content/drive/MyDrive/image_224x224_no_augmentation/kaggle/working/processed/notumor/763e30c4-2a0c-4a9b-bcfc-da67e69160df.png',\n",
              " '/content/drive/MyDrive/image_224x224_no_augmentation/kaggle/working/processed/notumor/fd3f9aaa-4a40-4e99-9eb8-d5d47699bf67.png',\n",
              " '/content/drive/MyDrive/image_224x224_no_augmentation/kaggle/working/processed/NonDemented/7223bc3e-b301-4fd0-8e25-81ef6b5a62f8.png',\n",
              " '/content/drive/MyDrive/image_224x224_no_augmentation/kaggle/working/processed/glioma/b45e4a50-0e69-4a4f-9c85-a7bc91d69bfa.png',\n",
              " '/content/drive/MyDrive/image_224x224_no_augmentation/kaggle/working/processed/NonDemented/cca57c08-2bca-49d5-8abd-5a308ed3fd18.png',\n",
              " '/content/drive/MyDrive/image_224x224_no_augmentation/kaggle/working/processed/glioma/f7098249-0d21-4aa3-9180-54f3806a7f9d.png',\n",
              " '/content/drive/MyDrive/image_224x224_no_augmentation/kaggle/working/processed/NonDemented/13ce9cc1-6aae-4bad-b0d3-f04422b63d4a.png',\n",
              " '/content/drive/MyDrive/image_224x224_no_augmentation/kaggle/working/processed/VeryMildDemented/5df6ad69-fb7d-4c97-9e17-57e4d2fb39e3.png',\n",
              " '/content/drive/MyDrive/image_224x224_no_augmentation/kaggle/working/processed/glioma/7a2fd179-2d02-44e7-b6dc-ebe6264c9c52.png',\n",
              " '/content/drive/MyDrive/image_224x224_no_augmentation/kaggle/working/processed/VeryMildDemented/a5230dc4-cd13-4872-b790-aefc89d733ee.png',\n",
              " '/content/drive/MyDrive/image_224x224_no_augmentation/kaggle/working/processed/NonDemented/33fb3ce2-1da0-4e1c-896f-3d348eae2152.png',\n",
              " '/content/drive/MyDrive/image_224x224_no_augmentation/kaggle/working/processed/pituitary/703d843a-c790-4b7a-b308-00f73ebb5ff3.png',\n",
              " '/content/drive/MyDrive/image_224x224_no_augmentation/kaggle/working/processed/NonDemented/b8f84f80-a508-4f20-80c8-30870c775848.png',\n",
              " '/content/drive/MyDrive/image_224x224_no_augmentation/kaggle/working/processed/MildDemented/2188e380-1734-4db6-ad30-598cd216ca4b.png',\n",
              " '/content/drive/MyDrive/image_224x224_no_augmentation/kaggle/working/processed/VeryMildDemented/9c078f9b-086c-41f1-942f-dab04847c71c.png',\n",
              " '/content/drive/MyDrive/image_224x224_no_augmentation/kaggle/working/processed/VeryMildDemented/08602862-d57e-42c1-97b6-4293e6f247ef.png',\n",
              " '/content/drive/MyDrive/image_224x224_no_augmentation/kaggle/working/processed/meningioma/d4b2af84-171b-4191-8572-daef0d6c0fc0.png',\n",
              " '/content/drive/MyDrive/image_224x224_no_augmentation/kaggle/working/processed/NonDemented/2ed63237-fa6e-4231-82f4-550c853ba609.png',\n",
              " '/content/drive/MyDrive/image_224x224_no_augmentation/kaggle/working/processed/MildDemented/3852988d-76aa-4635-9bbe-73ef6d6dc486.png',\n",
              " '/content/drive/MyDrive/image_224x224_no_augmentation/kaggle/working/processed/MildDemented/407cf8bc-e76a-44bb-bf74-4cc33b3cdd3d.png',\n",
              " '/content/drive/MyDrive/image_224x224_no_augmentation/kaggle/working/processed/VeryMildDemented/b6d04fd5-2ab7-402e-80bc-a4f800a5e7c3.png',\n",
              " '/content/drive/MyDrive/image_224x224_no_augmentation/kaggle/working/processed/NonDemented/c3884312-caf9-41ef-8567-6e42c339500f.png',\n",
              " '/content/drive/MyDrive/image_224x224_no_augmentation/kaggle/working/processed/NonDemented/ed14eaf8-5064-4999-96a5-8e89281b3104.png',\n",
              " '/content/drive/MyDrive/image_224x224_no_augmentation/kaggle/working/processed/NonDemented/e02ed51a-b0f9-40d2-8a78-1c83e1decc28.png',\n",
              " '/content/drive/MyDrive/image_224x224_no_augmentation/kaggle/working/processed/glioma/9387a0c1-d817-4f41-bc26-4af56a616732.png',\n",
              " '/content/drive/MyDrive/image_224x224_no_augmentation/kaggle/working/processed/meningioma/77a93f31-e1ec-4fbe-b29c-ac9c3834b2f9.png',\n",
              " '/content/drive/MyDrive/image_224x224_no_augmentation/kaggle/working/processed/glioma/333c6485-78ad-4a0e-8fc2-45869406cecc.png',\n",
              " '/content/drive/MyDrive/image_224x224_no_augmentation/kaggle/working/processed/VeryMildDemented/3a22cd7a-ea48-4f8b-9d76-988d3549f57e.png',\n",
              " '/content/drive/MyDrive/image_224x224_no_augmentation/kaggle/working/processed/pituitary/c3d21d48-b131-4267-8b52-534520958170.png',\n",
              " '/content/drive/MyDrive/image_224x224_no_augmentation/kaggle/working/processed/NonDemented/3e75fca4-67e8-41a4-8f56-d52d5420787c.png',\n",
              " '/content/drive/MyDrive/image_224x224_no_augmentation/kaggle/working/processed/VeryMildDemented/bb987875-7ae6-4ee2-9c76-91c7d5381346.png',\n",
              " '/content/drive/MyDrive/image_224x224_no_augmentation/kaggle/working/processed/meningioma/c5c977aa-eea0-4c6e-8c02-e67921c68c30.png',\n",
              " '/content/drive/MyDrive/image_224x224_no_augmentation/kaggle/working/processed/notumor/d980ab31-6a55-4197-8f85-6a4e8e80f5e3.png',\n",
              " '/content/drive/MyDrive/image_224x224_no_augmentation/kaggle/working/processed/VeryMildDemented/84f98f35-e2ad-46cd-b224-35d4919ebeca.png',\n",
              " '/content/drive/MyDrive/image_224x224_no_augmentation/kaggle/working/processed/NonDemented/d50ad38e-49b1-4326-bdcb-9a24574d037f.png',\n",
              " '/content/drive/MyDrive/image_224x224_no_augmentation/kaggle/working/processed/VeryMildDemented/14f7dd6b-339a-4501-94cc-71ffff860e68.png',\n",
              " '/content/drive/MyDrive/image_224x224_no_augmentation/kaggle/working/processed/VeryMildDemented/2c9b6add-ab32-43a6-8189-2fef2e343551.png',\n",
              " '/content/drive/MyDrive/image_224x224_no_augmentation/kaggle/working/processed/NonDemented/18396f7b-0db4-4302-a872-7bc3c1196ab1.png',\n",
              " '/content/drive/MyDrive/image_224x224_no_augmentation/kaggle/working/processed/VeryMildDemented/f405e4dc-48b7-4994-b52c-47118a398feb.png',\n",
              " '/content/drive/MyDrive/image_224x224_no_augmentation/kaggle/working/processed/notumor/9ff82851-c955-4e7f-a943-fddcba2d7f77.png',\n",
              " '/content/drive/MyDrive/image_224x224_no_augmentation/kaggle/working/processed/NonDemented/bff483e1-79ce-48e7-9801-f3610892f20c.png',\n",
              " '/content/drive/MyDrive/image_224x224_no_augmentation/kaggle/working/processed/glioma/51335dce-1469-4937-aeb1-4de0b702d5c0.png',\n",
              " '/content/drive/MyDrive/image_224x224_no_augmentation/kaggle/working/processed/MildDemented/a9ef549e-979e-4b27-be38-0cf46754d8c1.png',\n",
              " '/content/drive/MyDrive/image_224x224_no_augmentation/kaggle/working/processed/VeryMildDemented/61ae5db3-5630-4a81-96a8-719e9f5c106a.png',\n",
              " '/content/drive/MyDrive/image_224x224_no_augmentation/kaggle/working/processed/notumor/85ef4a34-48f8-4ee1-a90f-d685130d3f09.png',\n",
              " '/content/drive/MyDrive/image_224x224_no_augmentation/kaggle/working/processed/glioma/4b4edb73-db37-44d3-8548-09263850f549.png',\n",
              " '/content/drive/MyDrive/image_224x224_no_augmentation/kaggle/working/processed/VeryMildDemented/27799f23-0c3f-448d-ae1f-41cabed910ce.png',\n",
              " '/content/drive/MyDrive/image_224x224_no_augmentation/kaggle/working/processed/NonDemented/f583d8b6-cfa7-4b85-9286-297cacefb18e.png',\n",
              " '/content/drive/MyDrive/image_224x224_no_augmentation/kaggle/working/processed/NonDemented/ec1aac67-4932-45b1-9a86-f34d64c05624.png',\n",
              " '/content/drive/MyDrive/image_224x224_no_augmentation/kaggle/working/processed/VeryMildDemented/c72c0594-af47-489c-9cca-363bfb6ce6b5.png',\n",
              " '/content/drive/MyDrive/image_224x224_no_augmentation/kaggle/working/processed/notumor/3cfb1501-f9f9-4421-b904-ce1c0d4be5a1.png',\n",
              " '/content/drive/MyDrive/image_224x224_no_augmentation/kaggle/working/processed/glioma/2620eb79-6033-40e4-b6fd-f273f9d56776.png',\n",
              " '/content/drive/MyDrive/image_224x224_no_augmentation/kaggle/working/processed/VeryMildDemented/3793ffd7-6dd5-4249-bb93-dedfe85721d7.png',\n",
              " '/content/drive/MyDrive/image_224x224_no_augmentation/kaggle/working/processed/meningioma/ff421d7a-da74-4e15-b694-ce61dba8e662.png',\n",
              " '/content/drive/MyDrive/image_224x224_no_augmentation/kaggle/working/processed/VeryMildDemented/5e5b5ceb-a1e5-4d20-9ae4-a3c10326c928.png',\n",
              " '/content/drive/MyDrive/image_224x224_no_augmentation/kaggle/working/processed/glioma/44d144fd-7114-4c7c-9769-0c084d7a2964.png',\n",
              " '/content/drive/MyDrive/image_224x224_no_augmentation/kaggle/working/processed/meningioma/986f851b-7ea9-42ad-a83f-31090bf356e9.png',\n",
              " '/content/drive/MyDrive/image_224x224_no_augmentation/kaggle/working/processed/glioma/5bcccced-9490-4a8f-9bfd-f9b51a236d24.png',\n",
              " '/content/drive/MyDrive/image_224x224_no_augmentation/kaggle/working/processed/pituitary/f923ed19-0e00-4f49-88df-92433b713deb.png',\n",
              " '/content/drive/MyDrive/image_224x224_no_augmentation/kaggle/working/processed/pituitary/09a5b25f-8bdc-48a3-9d2c-59dba3a59af2.png',\n",
              " '/content/drive/MyDrive/image_224x224_no_augmentation/kaggle/working/processed/NonDemented/e75344bf-5871-4e7f-a69a-a376808bebb8.png',\n",
              " '/content/drive/MyDrive/image_224x224_no_augmentation/kaggle/working/processed/glioma/8d3714ec-a8bc-40e1-b804-195208e93694.png',\n",
              " '/content/drive/MyDrive/image_224x224_no_augmentation/kaggle/working/processed/VeryMildDemented/7400b572-5ebf-4a77-8635-34a6090a9ceb.png',\n",
              " '/content/drive/MyDrive/image_224x224_no_augmentation/kaggle/working/processed/pituitary/2798d5fc-fd1c-450e-bbcb-0e5396cc8e22.png',\n",
              " '/content/drive/MyDrive/image_224x224_no_augmentation/kaggle/working/processed/VeryMildDemented/13a1fdb7-933b-4aa2-94a4-a84eeee5d088.png',\n",
              " '/content/drive/MyDrive/image_224x224_no_augmentation/kaggle/working/processed/VeryMildDemented/682f3d12-9f47-4ab2-9229-53bccaaced5a.png',\n",
              " '/content/drive/MyDrive/image_224x224_no_augmentation/kaggle/working/processed/NonDemented/9b4c2b15-3d14-42f0-8cf0-cd79cdeb024f.png',\n",
              " '/content/drive/MyDrive/image_224x224_no_augmentation/kaggle/working/processed/meningioma/08c55e13-9b15-47a5-a420-85ce58926cd3.png',\n",
              " '/content/drive/MyDrive/image_224x224_no_augmentation/kaggle/working/processed/VeryMildDemented/1e1dd09e-4460-4735-ad85-53128766d63d.png',\n",
              " '/content/drive/MyDrive/image_224x224_no_augmentation/kaggle/working/processed/VeryMildDemented/07b57fe8-5fbc-4c68-b9d6-b437bdad002a.png',\n",
              " '/content/drive/MyDrive/image_224x224_no_augmentation/kaggle/working/processed/glioma/59942aea-4283-4e3b-bcef-2945445d1677.png',\n",
              " '/content/drive/MyDrive/image_224x224_no_augmentation/kaggle/working/processed/NonDemented/f9e7cb8d-59aa-4311-9f84-62cba7889135.png',\n",
              " '/content/drive/MyDrive/image_224x224_no_augmentation/kaggle/working/processed/meningioma/79b0375b-7436-43ff-a655-489ba14a1166.png',\n",
              " '/content/drive/MyDrive/image_224x224_no_augmentation/kaggle/working/processed/VeryMildDemented/8afb1391-d550-4507-8808-1853443f6841.png',\n",
              " '/content/drive/MyDrive/image_224x224_no_augmentation/kaggle/working/processed/glioma/19b3f633-6c1b-46e8-99b8-67381da77415.png',\n",
              " '/content/drive/MyDrive/image_224x224_no_augmentation/kaggle/working/processed/pituitary/5f100658-a206-4575-8f08-07cf8bc0e0d0.png',\n",
              " '/content/drive/MyDrive/image_224x224_no_augmentation/kaggle/working/processed/pituitary/674c5c65-8c46-41d4-9dce-b558efe2448f.png',\n",
              " '/content/drive/MyDrive/image_224x224_no_augmentation/kaggle/working/processed/pituitary/3f681000-b1af-4af8-a89b-25019f142288.png',\n",
              " '/content/drive/MyDrive/image_224x224_no_augmentation/kaggle/working/processed/notumor/8fed4dcf-0c49-40bc-88af-98c87faedae1.png',\n",
              " '/content/drive/MyDrive/image_224x224_no_augmentation/kaggle/working/processed/VeryMildDemented/9613e5e3-a222-476e-b9a0-0876d650f78e.png',\n",
              " '/content/drive/MyDrive/image_224x224_no_augmentation/kaggle/working/processed/NonDemented/5bb5dc7f-255d-4ea1-9b2b-4fe6916bb9e2.png',\n",
              " '/content/drive/MyDrive/image_224x224_no_augmentation/kaggle/working/processed/glioma/45c8204a-a35e-470d-a3ea-81c0f2caad81.png',\n",
              " '/content/drive/MyDrive/image_224x224_no_augmentation/kaggle/working/processed/meningioma/c33a4834-7fb5-457a-acf6-c643da973cde.png',\n",
              " '/content/drive/MyDrive/image_224x224_no_augmentation/kaggle/working/processed/pituitary/b38f7f40-bd9b-4a4f-89f2-40d929c5a8a5.png',\n",
              " '/content/drive/MyDrive/image_224x224_no_augmentation/kaggle/working/processed/notumor/6fc4293c-6370-4945-94dd-4e767fb4bbbd.png',\n",
              " '/content/drive/MyDrive/image_224x224_no_augmentation/kaggle/working/processed/VeryMildDemented/216fd3ae-7392-47d6-9fac-6873fe0aea10.png',\n",
              " '/content/drive/MyDrive/image_224x224_no_augmentation/kaggle/working/processed/NonDemented/809e9571-d71b-4f23-8dcf-0f271e628798.png',\n",
              " '/content/drive/MyDrive/image_224x224_no_augmentation/kaggle/working/processed/glioma/86e78142-a06f-47da-a4e8-1b20f9121ad4.png',\n",
              " '/content/drive/MyDrive/image_224x224_no_augmentation/kaggle/working/processed/VeryMildDemented/bf4330e8-51d3-43d7-b274-98be26590fc9.png',\n",
              " '/content/drive/MyDrive/image_224x224_no_augmentation/kaggle/working/processed/glioma/5817638b-bd03-4c87-a8b9-cf29d80287ea.png',\n",
              " '/content/drive/MyDrive/image_224x224_no_augmentation/kaggle/working/processed/NonDemented/f2c17fb7-e56b-4413-8b5b-2842f418c947.png',\n",
              " '/content/drive/MyDrive/image_224x224_no_augmentation/kaggle/working/processed/NonDemented/e166986c-de16-4518-b3bc-753a1d7783f8.png',\n",
              " '/content/drive/MyDrive/image_224x224_no_augmentation/kaggle/working/processed/pituitary/a700a56d-1f1a-46ef-9b7a-652b84814aaf.png',\n",
              " '/content/drive/MyDrive/image_224x224_no_augmentation/kaggle/working/processed/glioma/d85b6bd1-e559-4187-9760-720c3e927722.png',\n",
              " '/content/drive/MyDrive/image_224x224_no_augmentation/kaggle/working/processed/glioma/6e54d2ca-3471-4b8e-b37e-ce35eaa2c8c0.png',\n",
              " '/content/drive/MyDrive/image_224x224_no_augmentation/kaggle/working/processed/VeryMildDemented/e8ddeaa5-eef3-42bd-badc-67cfea62accc.png',\n",
              " '/content/drive/MyDrive/image_224x224_no_augmentation/kaggle/working/processed/pituitary/15ab8c1a-3dfa-44aa-872a-85df9f8b5b9c.png',\n",
              " '/content/drive/MyDrive/image_224x224_no_augmentation/kaggle/working/processed/pituitary/ffea6b32-2116-4af5-81d3-74f74e2cee7f.png',\n",
              " '/content/drive/MyDrive/image_224x224_no_augmentation/kaggle/working/processed/pituitary/1492a72d-780f-47a5-b8a9-7429b1f27e49.png',\n",
              " '/content/drive/MyDrive/image_224x224_no_augmentation/kaggle/working/processed/notumor/643f02a5-7aed-412a-9b83-3fd3bf633fb2.png',\n",
              " '/content/drive/MyDrive/image_224x224_no_augmentation/kaggle/working/processed/glioma/dde15ceb-da67-402b-b69d-9da80e4c83fa.png',\n",
              " '/content/drive/MyDrive/image_224x224_no_augmentation/kaggle/working/processed/NonDemented/50641d79-bf95-4727-8746-ec7ff474ae3f.png',\n",
              " '/content/drive/MyDrive/image_224x224_no_augmentation/kaggle/working/processed/glioma/88ac5b84-7212-490d-9734-05a2c8e93757.png',\n",
              " '/content/drive/MyDrive/image_224x224_no_augmentation/kaggle/working/processed/MildDemented/679464b9-1fb9-43be-84e3-3d4d017dcbd0.png',\n",
              " '/content/drive/MyDrive/image_224x224_no_augmentation/kaggle/working/processed/notumor/4bf3235d-fa68-490c-abd4-2f05418c6671.png',\n",
              " '/content/drive/MyDrive/image_224x224_no_augmentation/kaggle/working/processed/NonDemented/939a1636-e24d-4ddc-a766-201039a1d1d1.png',\n",
              " '/content/drive/MyDrive/image_224x224_no_augmentation/kaggle/working/processed/MildDemented/b74bbfbd-f4cf-46cd-92a2-55e952a3b044.png',\n",
              " '/content/drive/MyDrive/image_224x224_no_augmentation/kaggle/working/processed/glioma/f71a06df-5d48-40db-a2cd-4a4501947fc9.png',\n",
              " '/content/drive/MyDrive/image_224x224_no_augmentation/kaggle/working/processed/notumor/7a233d76-9ec4-486d-9116-0606f7ef8869.png',\n",
              " '/content/drive/MyDrive/image_224x224_no_augmentation/kaggle/working/processed/MildDemented/53d5d436-e7b6-484c-ad05-27ccce2576ea.png',\n",
              " '/content/drive/MyDrive/image_224x224_no_augmentation/kaggle/working/processed/pituitary/ad34de86-cf6c-4394-ad03-d1800745f9d6.png',\n",
              " '/content/drive/MyDrive/image_224x224_no_augmentation/kaggle/working/processed/NonDemented/d829a7af-752d-443e-a1dd-2d0ae4d6e185.png',\n",
              " '/content/drive/MyDrive/image_224x224_no_augmentation/kaggle/working/processed/VeryMildDemented/9b7dd3fe-92fd-4fae-a70b-a0a7ba9a02cb.png',\n",
              " '/content/drive/MyDrive/image_224x224_no_augmentation/kaggle/working/processed/meningioma/44300abf-ebf3-4844-82a9-9dc086e56b20.png',\n",
              " '/content/drive/MyDrive/image_224x224_no_augmentation/kaggle/working/processed/glioma/7fd9e90f-b1d5-4838-93a1-35c2da20bee2.png',\n",
              " '/content/drive/MyDrive/image_224x224_no_augmentation/kaggle/working/processed/pituitary/7466ac92-4b7b-44b8-a83c-18d7e3da901b.png',\n",
              " '/content/drive/MyDrive/image_224x224_no_augmentation/kaggle/working/processed/meningioma/32874681-b845-47c0-90c3-72427c413b81.png',\n",
              " '/content/drive/MyDrive/image_224x224_no_augmentation/kaggle/working/processed/VeryMildDemented/d03c3d16-c435-43fb-92bd-b75c23a3eeed.png',\n",
              " '/content/drive/MyDrive/image_224x224_no_augmentation/kaggle/working/processed/pituitary/fdb24425-98b8-4a21-bf02-85885a578cd3.png',\n",
              " '/content/drive/MyDrive/image_224x224_no_augmentation/kaggle/working/processed/NonDemented/1248c4e8-f6f6-4150-8f56-874a9cb9c978.png',\n",
              " '/content/drive/MyDrive/image_224x224_no_augmentation/kaggle/working/processed/NonDemented/38809903-9e25-4fdd-b479-d700df8de302.png',\n",
              " '/content/drive/MyDrive/image_224x224_no_augmentation/kaggle/working/processed/meningioma/70302a29-c6bc-4274-b276-d8602c4c5144.png',\n",
              " '/content/drive/MyDrive/image_224x224_no_augmentation/kaggle/working/processed/MildDemented/58bcaaba-e549-4687-b5ab-8464b3416d7f.png',\n",
              " '/content/drive/MyDrive/image_224x224_no_augmentation/kaggle/working/processed/glioma/72adf51c-c037-43cf-80c4-66bd25162eea.png',\n",
              " '/content/drive/MyDrive/image_224x224_no_augmentation/kaggle/working/processed/glioma/19b22252-ed95-4e64-8f52-223710ba7fdc.png',\n",
              " '/content/drive/MyDrive/image_224x224_no_augmentation/kaggle/working/processed/notumor/2ba3c760-45c9-46e7-9976-0ac699eb7476.png',\n",
              " '/content/drive/MyDrive/image_224x224_no_augmentation/kaggle/working/processed/NonDemented/195cc584-9202-4998-a729-07a6816face6.png',\n",
              " '/content/drive/MyDrive/image_224x224_no_augmentation/kaggle/working/processed/NonDemented/3d2c398a-46ff-4629-bca2-8546d2954dc1.png',\n",
              " '/content/drive/MyDrive/image_224x224_no_augmentation/kaggle/working/processed/pituitary/3814fc92-03ad-40b3-b539-9847068b6a54.png',\n",
              " '/content/drive/MyDrive/image_224x224_no_augmentation/kaggle/working/processed/NonDemented/0fcee906-0845-46af-a783-3f9cc8814b67.png',\n",
              " '/content/drive/MyDrive/image_224x224_no_augmentation/kaggle/working/processed/NonDemented/a27056e0-53e1-4de6-85c4-f631bfc31cdc.png',\n",
              " '/content/drive/MyDrive/image_224x224_no_augmentation/kaggle/working/processed/VeryMildDemented/c52f52c7-7690-4169-8c9a-fe514b48e446.png',\n",
              " '/content/drive/MyDrive/image_224x224_no_augmentation/kaggle/working/processed/MildDemented/c524b8cc-fc47-42ec-bf6a-2d28e688387c.png',\n",
              " '/content/drive/MyDrive/image_224x224_no_augmentation/kaggle/working/processed/NonDemented/3bd1eda2-9126-4336-8f45-63d2a30d6b9d.png',\n",
              " '/content/drive/MyDrive/image_224x224_no_augmentation/kaggle/working/processed/meningioma/65f94ce9-7b10-48c7-a6ec-fc95e7cc0d5d.png',\n",
              " '/content/drive/MyDrive/image_224x224_no_augmentation/kaggle/working/processed/pituitary/a33cf869-a8fc-41b7-9e67-b3fd5476b1fa.png',\n",
              " '/content/drive/MyDrive/image_224x224_no_augmentation/kaggle/working/processed/NonDemented/ddb94fa8-24b7-4a58-ae35-69ba4dadb542.png',\n",
              " '/content/drive/MyDrive/image_224x224_no_augmentation/kaggle/working/processed/glioma/25c74d47-b7de-4e8c-a91d-b00d3d248bbb.png',\n",
              " '/content/drive/MyDrive/image_224x224_no_augmentation/kaggle/working/processed/VeryMildDemented/4b85c839-2538-4b1f-8383-4cbf45d9c363.png',\n",
              " '/content/drive/MyDrive/image_224x224_no_augmentation/kaggle/working/processed/NonDemented/6fb8cc66-a790-4233-bdbe-9dda710f1c09.png',\n",
              " '/content/drive/MyDrive/image_224x224_no_augmentation/kaggle/working/processed/glioma/2308ca21-6320-4aaf-8ae4-a58e7e6dc5a9.png',\n",
              " '/content/drive/MyDrive/image_224x224_no_augmentation/kaggle/working/processed/VeryMildDemented/d4829d2b-1687-49b8-8ba0-1be5a3b85e4e.png',\n",
              " '/content/drive/MyDrive/image_224x224_no_augmentation/kaggle/working/processed/VeryMildDemented/0eec47e4-d5ac-4902-855b-17b8a1b5d94d.png',\n",
              " '/content/drive/MyDrive/image_224x224_no_augmentation/kaggle/working/processed/NonDemented/33a2fc67-6418-432d-af99-85d39a439f45.png',\n",
              " '/content/drive/MyDrive/image_224x224_no_augmentation/kaggle/working/processed/NonDemented/882e09b5-d699-4822-bb3c-f55f09768f29.png',\n",
              " '/content/drive/MyDrive/image_224x224_no_augmentation/kaggle/working/processed/NonDemented/49f4974d-3f6c-488d-ac5a-7cd7b13242a6.png',\n",
              " '/content/drive/MyDrive/image_224x224_no_augmentation/kaggle/working/processed/MildDemented/749dd92a-940a-456f-abb8-eb11f1307e5d.png',\n",
              " '/content/drive/MyDrive/image_224x224_no_augmentation/kaggle/working/processed/glioma/14eceff1-79e3-4b51-afde-5c3d8771484d.png',\n",
              " '/content/drive/MyDrive/image_224x224_no_augmentation/kaggle/working/processed/pituitary/364085ef-fb40-4f30-b59b-715d89a1dc9f.png',\n",
              " '/content/drive/MyDrive/image_224x224_no_augmentation/kaggle/working/processed/meningioma/348bbe76-f2db-42e7-95cb-948149b181d5.png',\n",
              " '/content/drive/MyDrive/image_224x224_no_augmentation/kaggle/working/processed/VeryMildDemented/664be6ee-e9a0-407e-b222-1673eb84c15f.png',\n",
              " '/content/drive/MyDrive/image_224x224_no_augmentation/kaggle/working/processed/VeryMildDemented/589ede97-49e5-4b18-af44-7dbd8e4d9d2e.png',\n",
              " '/content/drive/MyDrive/image_224x224_no_augmentation/kaggle/working/processed/NonDemented/e9047dea-bf94-4161-9b95-11a22da5ce90.png',\n",
              " '/content/drive/MyDrive/image_224x224_no_augmentation/kaggle/working/processed/notumor/687fe325-a9a5-4c75-a384-d5ad1091d03e.png',\n",
              " '/content/drive/MyDrive/image_224x224_no_augmentation/kaggle/working/processed/pituitary/0ba6f20e-e663-4591-84f1-1a16099f8102.png',\n",
              " '/content/drive/MyDrive/image_224x224_no_augmentation/kaggle/working/processed/VeryMildDemented/2acce7bd-0a46-40c2-b7e4-01d0d1c0b58b.png',\n",
              " '/content/drive/MyDrive/image_224x224_no_augmentation/kaggle/working/processed/glioma/baeead21-a51a-4b3a-abba-880573cc822d.png',\n",
              " '/content/drive/MyDrive/image_224x224_no_augmentation/kaggle/working/processed/VeryMildDemented/1167ce1d-5479-4004-89a3-b6502e752f50.png',\n",
              " '/content/drive/MyDrive/image_224x224_no_augmentation/kaggle/working/processed/pituitary/c7cd4c32-9bb1-4afe-b74f-16e3b0caed26.png',\n",
              " '/content/drive/MyDrive/image_224x224_no_augmentation/kaggle/working/processed/NonDemented/9095f604-59b6-4ca1-8ec9-d09b85bc14ea.png',\n",
              " '/content/drive/MyDrive/image_224x224_no_augmentation/kaggle/working/processed/meningioma/8899efaf-6ddd-4cd0-a568-5f821c1efb7c.png',\n",
              " '/content/drive/MyDrive/image_224x224_no_augmentation/kaggle/working/processed/VeryMildDemented/0b8b4ff3-a5eb-456f-9668-3b939b235f7d.png',\n",
              " '/content/drive/MyDrive/image_224x224_no_augmentation/kaggle/working/processed/NonDemented/09738457-4a00-44de-a0b6-f1a0319eb05c.png',\n",
              " '/content/drive/MyDrive/image_224x224_no_augmentation/kaggle/working/processed/NonDemented/d0adf13f-77e6-49a2-90bb-bce33174be28.png',\n",
              " '/content/drive/MyDrive/image_224x224_no_augmentation/kaggle/working/processed/VeryMildDemented/32c024c7-c635-4d10-b5bf-2fdf0b54f719.png',\n",
              " '/content/drive/MyDrive/image_224x224_no_augmentation/kaggle/working/processed/meningioma/c82c16d1-f01c-4733-84d7-07cf4af40309.png',\n",
              " '/content/drive/MyDrive/image_224x224_no_augmentation/kaggle/working/processed/ModerateDemented/b151f5de-af18-4945-a664-7093b8ad2498.png',\n",
              " '/content/drive/MyDrive/image_224x224_no_augmentation/kaggle/working/processed/meningioma/dd95f50c-3658-4cfa-a39f-f5d038c63e86.png',\n",
              " '/content/drive/MyDrive/image_224x224_no_augmentation/kaggle/working/processed/glioma/d8a1849d-450c-40c6-8e5a-d377f73a1833.png',\n",
              " '/content/drive/MyDrive/image_224x224_no_augmentation/kaggle/working/processed/NonDemented/b277c7aa-5d86-4841-9e07-f9ab245416da.png',\n",
              " '/content/drive/MyDrive/image_224x224_no_augmentation/kaggle/working/processed/glioma/0fc79fc4-a824-4634-8eb7-35d3012295a7.png',\n",
              " '/content/drive/MyDrive/image_224x224_no_augmentation/kaggle/working/processed/pituitary/aa2f6f4b-04ec-46a3-b532-0b1252e57902.png',\n",
              " '/content/drive/MyDrive/image_224x224_no_augmentation/kaggle/working/processed/glioma/ac721f4b-dc10-4108-8fe9-fd66e49eb984.png',\n",
              " '/content/drive/MyDrive/image_224x224_no_augmentation/kaggle/working/processed/NonDemented/9e2f1ff8-3a0c-4c2d-b663-fc9b474f4c25.png',\n",
              " '/content/drive/MyDrive/image_224x224_no_augmentation/kaggle/working/processed/glioma/436ca5cf-dc7e-44cd-874b-9b13580e14e8.png',\n",
              " '/content/drive/MyDrive/image_224x224_no_augmentation/kaggle/working/processed/NonDemented/8dc3cd36-27e3-41fe-8bf5-96055003194c.png',\n",
              " '/content/drive/MyDrive/image_224x224_no_augmentation/kaggle/working/processed/VeryMildDemented/9cee5645-75ff-416e-91bb-f0a0f8b28b85.png',\n",
              " '/content/drive/MyDrive/image_224x224_no_augmentation/kaggle/working/processed/VeryMildDemented/10365332-eb13-4fb2-83a6-c800e1e06f83.png',\n",
              " '/content/drive/MyDrive/image_224x224_no_augmentation/kaggle/working/processed/pituitary/a2eba0eb-8f50-4bd7-9f53-c487c0311360.png',\n",
              " '/content/drive/MyDrive/image_224x224_no_augmentation/kaggle/working/processed/pituitary/d20e8d0f-0b86-4cb5-9ee1-e906a4b1245b.png',\n",
              " '/content/drive/MyDrive/image_224x224_no_augmentation/kaggle/working/processed/NonDemented/fe6eb811-0ab8-47c2-a06e-e1ae7b20300a.png',\n",
              " '/content/drive/MyDrive/image_224x224_no_augmentation/kaggle/working/processed/glioma/11d1c9de-f3d4-4f73-9d9d-c45e09069e01.png',\n",
              " '/content/drive/MyDrive/image_224x224_no_augmentation/kaggle/working/processed/NonDemented/e8847159-d65f-4ef6-85b2-13ae3aa8681a.png',\n",
              " '/content/drive/MyDrive/image_224x224_no_augmentation/kaggle/working/processed/meningioma/6e748257-c597-494b-86a9-4cb7612c4131.png',\n",
              " '/content/drive/MyDrive/image_224x224_no_augmentation/kaggle/working/processed/VeryMildDemented/2cda8196-8072-49ac-9b16-91a14d61b8f2.png',\n",
              " '/content/drive/MyDrive/image_224x224_no_augmentation/kaggle/working/processed/pituitary/b65330aa-68f4-46d9-885f-9a38d0ada990.png',\n",
              " '/content/drive/MyDrive/image_224x224_no_augmentation/kaggle/working/processed/VeryMildDemented/46238cb0-b264-4df8-b53f-783849244f84.png',\n",
              " '/content/drive/MyDrive/image_224x224_no_augmentation/kaggle/working/processed/meningioma/8992df9b-922b-481e-be66-22df3fb53dd1.png',\n",
              " '/content/drive/MyDrive/image_224x224_no_augmentation/kaggle/working/processed/NonDemented/3b37818c-0449-4047-bfab-649d3515bc9f.png',\n",
              " '/content/drive/MyDrive/image_224x224_no_augmentation/kaggle/working/processed/meningioma/6736a74e-8f30-47a5-8231-69e58d3e67eb.png',\n",
              " '/content/drive/MyDrive/image_224x224_no_augmentation/kaggle/working/processed/meningioma/8fbeabc3-ef0f-4b24-84c8-d3622f775389.png',\n",
              " '/content/drive/MyDrive/image_224x224_no_augmentation/kaggle/working/processed/NonDemented/d317ab72-f402-4236-9906-3a4b4b2ee908.png',\n",
              " '/content/drive/MyDrive/image_224x224_no_augmentation/kaggle/working/processed/pituitary/6d7f0c33-5762-4048-8ce6-98e4b9d2293e.png',\n",
              " '/content/drive/MyDrive/image_224x224_no_augmentation/kaggle/working/processed/notumor/e7d60952-df6e-4c98-a3d4-661ee11d06f9.png',\n",
              " '/content/drive/MyDrive/image_224x224_no_augmentation/kaggle/working/processed/NonDemented/77c09499-4682-4950-afd8-ed2811a9f467.png',\n",
              " '/content/drive/MyDrive/image_224x224_no_augmentation/kaggle/working/processed/VeryMildDemented/b8842e6a-1f7b-4691-b684-8debccbdb37a.png',\n",
              " '/content/drive/MyDrive/image_224x224_no_augmentation/kaggle/working/processed/NonDemented/3b32bb92-647a-4c74-921f-4962550d0530.png',\n",
              " '/content/drive/MyDrive/image_224x224_no_augmentation/kaggle/working/processed/pituitary/e6cad983-38c6-49e0-88fa-c36420159615.png',\n",
              " '/content/drive/MyDrive/image_224x224_no_augmentation/kaggle/working/processed/glioma/66c81f48-dc64-4c8a-a75e-ec9cafc8a0a4.png',\n",
              " '/content/drive/MyDrive/image_224x224_no_augmentation/kaggle/working/processed/VeryMildDemented/7734898e-f11e-49b8-a482-c9a6ca07afaf.png',\n",
              " '/content/drive/MyDrive/image_224x224_no_augmentation/kaggle/working/processed/notumor/2ed2dc8a-cf4c-4385-978b-19518d6acc8e.png',\n",
              " '/content/drive/MyDrive/image_224x224_no_augmentation/kaggle/working/processed/glioma/43e125b3-9a46-41f4-b30a-3ce24c4ae50b.png',\n",
              " '/content/drive/MyDrive/image_224x224_no_augmentation/kaggle/working/processed/meningioma/cdcd849b-4065-41e4-94f0-55072e075b6b.png',\n",
              " '/content/drive/MyDrive/image_224x224_no_augmentation/kaggle/working/processed/MildDemented/0bef5cf8-c1d7-4e0c-b12c-741cd4d63f4b.png',\n",
              " '/content/drive/MyDrive/image_224x224_no_augmentation/kaggle/working/processed/NonDemented/48712950-e75d-4781-b39d-ba18d8182807.png',\n",
              " '/content/drive/MyDrive/image_224x224_no_augmentation/kaggle/working/processed/MildDemented/747b9283-6971-49a9-9884-5953871bfd58.png',\n",
              " '/content/drive/MyDrive/image_224x224_no_augmentation/kaggle/working/processed/glioma/eda907bf-fce0-4957-bd80-8e7336fdd182.png',\n",
              " '/content/drive/MyDrive/image_224x224_no_augmentation/kaggle/working/processed/meningioma/aab3a9c6-e498-4dcc-891d-844787aa7e0b.png',\n",
              " '/content/drive/MyDrive/image_224x224_no_augmentation/kaggle/working/processed/MildDemented/2c322d73-3ef9-4091-b551-d6e5a012944f.png',\n",
              " '/content/drive/MyDrive/image_224x224_no_augmentation/kaggle/working/processed/VeryMildDemented/6357e6a9-fef3-4a9c-838f-13d563bb58d3.png',\n",
              " '/content/drive/MyDrive/image_224x224_no_augmentation/kaggle/working/processed/NonDemented/5cab9a28-874d-41ef-aa23-aea67312b067.png',\n",
              " '/content/drive/MyDrive/image_224x224_no_augmentation/kaggle/working/processed/VeryMildDemented/35a09048-0a8e-4f2e-bfaa-9f24abf93e1e.png',\n",
              " '/content/drive/MyDrive/image_224x224_no_augmentation/kaggle/working/processed/NonDemented/b8e20448-3198-4ab3-b789-5e6e9ed95fcf.png',\n",
              " '/content/drive/MyDrive/image_224x224_no_augmentation/kaggle/working/processed/glioma/ca074d68-c6c1-44e9-ae0a-79bf84085492.png',\n",
              " '/content/drive/MyDrive/image_224x224_no_augmentation/kaggle/working/processed/pituitary/345e08eb-6bf8-4306-9fee-64563a5ecaa6.png',\n",
              " '/content/drive/MyDrive/image_224x224_no_augmentation/kaggle/working/processed/NonDemented/e6f202e9-1c4a-4639-b257-d19af1035d7d.png',\n",
              " '/content/drive/MyDrive/image_224x224_no_augmentation/kaggle/working/processed/NonDemented/5124945e-28a8-43c5-aa22-d0da8b6826f0.png',\n",
              " '/content/drive/MyDrive/image_224x224_no_augmentation/kaggle/working/processed/NonDemented/d351e6e8-7f68-4b9b-9894-570be6fd4b7e.png',\n",
              " '/content/drive/MyDrive/image_224x224_no_augmentation/kaggle/working/processed/glioma/eff57cd9-e42f-4241-876b-64dc2d87fc0a.png',\n",
              " '/content/drive/MyDrive/image_224x224_no_augmentation/kaggle/working/processed/MildDemented/b171ef11-3893-423a-94c0-6202a0401172.png',\n",
              " '/content/drive/MyDrive/image_224x224_no_augmentation/kaggle/working/processed/glioma/5816c683-5960-4e49-b869-0309a5d05da3.png',\n",
              " '/content/drive/MyDrive/image_224x224_no_augmentation/kaggle/working/processed/notumor/d61bb25a-8fee-4d17-a862-0f4f86224682.png',\n",
              " '/content/drive/MyDrive/image_224x224_no_augmentation/kaggle/working/processed/NonDemented/6cdfeb2d-8a0c-4232-b8bc-1c231d8306bf.png',\n",
              " '/content/drive/MyDrive/image_224x224_no_augmentation/kaggle/working/processed/NonDemented/ad38d75d-42d8-48a4-bfb9-77c71fb7bcc6.png',\n",
              " '/content/drive/MyDrive/image_224x224_no_augmentation/kaggle/working/processed/meningioma/fbc932e0-90a6-4f47-a4b5-f1208271b319.png',\n",
              " '/content/drive/MyDrive/image_224x224_no_augmentation/kaggle/working/processed/VeryMildDemented/bee1dada-3f82-465a-ad01-669d4b9cf1fd.png',\n",
              " '/content/drive/MyDrive/image_224x224_no_augmentation/kaggle/working/processed/glioma/2cb1a693-46c6-4ca6-9346-987f50874e7c.png',\n",
              " '/content/drive/MyDrive/image_224x224_no_augmentation/kaggle/working/processed/VeryMildDemented/15fe2dac-a453-41cf-a603-ccd0be18feb4.png',\n",
              " '/content/drive/MyDrive/image_224x224_no_augmentation/kaggle/working/processed/NonDemented/de45dbf7-d726-4680-8a56-8dfee934ab77.png',\n",
              " '/content/drive/MyDrive/image_224x224_no_augmentation/kaggle/working/processed/pituitary/ef557acf-5ccc-4b82-afb0-93882483b3d3.png',\n",
              " '/content/drive/MyDrive/image_224x224_no_augmentation/kaggle/working/processed/MildDemented/74491fe0-2502-4dbe-a623-8bd8988483d1.png',\n",
              " '/content/drive/MyDrive/image_224x224_no_augmentation/kaggle/working/processed/glioma/e38f5988-cab3-46d3-a9fb-d77ebec86fc2.png',\n",
              " '/content/drive/MyDrive/image_224x224_no_augmentation/kaggle/working/processed/NonDemented/b14cedd2-7987-4be0-9efd-998a3e3d607a.png',\n",
              " '/content/drive/MyDrive/image_224x224_no_augmentation/kaggle/working/processed/meningioma/6344a5bf-4459-41ef-a0a2-63fdac5e929d.png',\n",
              " '/content/drive/MyDrive/image_224x224_no_augmentation/kaggle/working/processed/NonDemented/ad47bada-5a89-4845-8efd-bd8b7c2de0ad.png',\n",
              " '/content/drive/MyDrive/image_224x224_no_augmentation/kaggle/working/processed/meningioma/e7ece37a-6bcb-4309-af08-7f234dc0b11f.png',\n",
              " '/content/drive/MyDrive/image_224x224_no_augmentation/kaggle/working/processed/VeryMildDemented/9a415b1b-5e00-478f-94e6-9693e9f09386.png',\n",
              " '/content/drive/MyDrive/image_224x224_no_augmentation/kaggle/working/processed/meningioma/e817a963-bcba-4a82-9dde-8b31fabd63a2.png',\n",
              " '/content/drive/MyDrive/image_224x224_no_augmentation/kaggle/working/processed/pituitary/254cc070-362f-47ac-9825-8b92f68aed4a.png',\n",
              " '/content/drive/MyDrive/image_224x224_no_augmentation/kaggle/working/processed/MildDemented/8ca367ce-b967-4b6e-b9bb-81ffb67ea529.png',\n",
              " '/content/drive/MyDrive/image_224x224_no_augmentation/kaggle/working/processed/notumor/2e080ce0-8763-45ff-9322-2e7897f42529.png',\n",
              " '/content/drive/MyDrive/image_224x224_no_augmentation/kaggle/working/processed/pituitary/a68090d4-d3c6-4e69-9007-be3505e7bcea.png',\n",
              " '/content/drive/MyDrive/image_224x224_no_augmentation/kaggle/working/processed/notumor/bd2e9db5-9b1b-4817-8830-b8440534fa10.png',\n",
              " '/content/drive/MyDrive/image_224x224_no_augmentation/kaggle/working/processed/VeryMildDemented/1019b49e-78c6-43cc-a46f-f9f2040e1d72.png',\n",
              " '/content/drive/MyDrive/image_224x224_no_augmentation/kaggle/working/processed/notumor/824f0cda-009c-487a-b933-44229fb36e73.png',\n",
              " '/content/drive/MyDrive/image_224x224_no_augmentation/kaggle/working/processed/NonDemented/eb9aeec9-551f-4cd1-b1b4-2789047cdc98.png',\n",
              " '/content/drive/MyDrive/image_224x224_no_augmentation/kaggle/working/processed/NonDemented/eb9cd7a3-7df0-4a00-be9b-3bb2c2e719e9.png',\n",
              " '/content/drive/MyDrive/image_224x224_no_augmentation/kaggle/working/processed/glioma/3cfee0e0-8fc8-4c64-a2a2-9ab99981cca3.png',\n",
              " '/content/drive/MyDrive/image_224x224_no_augmentation/kaggle/working/processed/pituitary/e7d924c7-5497-4b59-90dd-1b1bf1c24c96.png',\n",
              " '/content/drive/MyDrive/image_224x224_no_augmentation/kaggle/working/processed/NonDemented/c6896926-52ad-4509-8e12-03c60d8ea863.png',\n",
              " '/content/drive/MyDrive/image_224x224_no_augmentation/kaggle/working/processed/glioma/52c7d78d-767c-41e5-9d1a-56d511e67a7f.png',\n",
              " '/content/drive/MyDrive/image_224x224_no_augmentation/kaggle/working/processed/NonDemented/9dc759fe-6b24-45de-8c7e-99b9965ecbad.png',\n",
              " '/content/drive/MyDrive/image_224x224_no_augmentation/kaggle/working/processed/glioma/294fb001-619e-49a6-86cc-cc9c8039a888.png',\n",
              " '/content/drive/MyDrive/image_224x224_no_augmentation/kaggle/working/processed/notumor/a650b491-5b75-43b4-8acf-3d3744d022ea.png',\n",
              " '/content/drive/MyDrive/image_224x224_no_augmentation/kaggle/working/processed/pituitary/9d623e69-154e-4d5c-9a85-afa6cfe15ac2.png',\n",
              " '/content/drive/MyDrive/image_224x224_no_augmentation/kaggle/working/processed/NonDemented/ccce2c34-19c7-427b-9cb5-e11db92c31a3.png',\n",
              " '/content/drive/MyDrive/image_224x224_no_augmentation/kaggle/working/processed/NonDemented/8934976f-dc7a-4754-ba47-3cfc7a292109.png',\n",
              " '/content/drive/MyDrive/image_224x224_no_augmentation/kaggle/working/processed/glioma/07a55712-0dc9-4e7d-b7a9-43959a2496b1.png',\n",
              " '/content/drive/MyDrive/image_224x224_no_augmentation/kaggle/working/processed/meningioma/0d061c86-f8fb-41f5-89ca-61802e32505d.png',\n",
              " '/content/drive/MyDrive/image_224x224_no_augmentation/kaggle/working/processed/MildDemented/a4b97005-e676-4f65-ac50-4e25e26d036f.png',\n",
              " '/content/drive/MyDrive/image_224x224_no_augmentation/kaggle/working/processed/meningioma/a94c7816-3abc-4bd7-bbdd-328936948181.png',\n",
              " '/content/drive/MyDrive/image_224x224_no_augmentation/kaggle/working/processed/VeryMildDemented/c3b09803-b103-4244-86fc-60973019eee1.png',\n",
              " '/content/drive/MyDrive/image_224x224_no_augmentation/kaggle/working/processed/notumor/b8c6f4a2-34a4-4dfd-b3ce-4eff6f3f8f91.png',\n",
              " '/content/drive/MyDrive/image_224x224_no_augmentation/kaggle/working/processed/MildDemented/1dd7694c-1487-487a-9b4e-02aa7861e35a.png',\n",
              " '/content/drive/MyDrive/image_224x224_no_augmentation/kaggle/working/processed/MildDemented/585bd3b0-48fe-42fd-ac5c-12f3f73c40c6.png',\n",
              " '/content/drive/MyDrive/image_224x224_no_augmentation/kaggle/working/processed/pituitary/0340ead0-fef7-42d6-9742-5bc35e7f3cc0.png',\n",
              " '/content/drive/MyDrive/image_224x224_no_augmentation/kaggle/working/processed/glioma/37a706f1-4dac-4cf5-884b-d184be607247.png',\n",
              " '/content/drive/MyDrive/image_224x224_no_augmentation/kaggle/working/processed/NonDemented/2c18fcfd-9b5d-453e-8ba6-9409e7516882.png',\n",
              " '/content/drive/MyDrive/image_224x224_no_augmentation/kaggle/working/processed/VeryMildDemented/79c73f18-b451-4b54-91ba-b6f1f0a9df19.png',\n",
              " '/content/drive/MyDrive/image_224x224_no_augmentation/kaggle/working/processed/notumor/36986f44-7ce4-4741-ae12-fa87601392a4.png',\n",
              " '/content/drive/MyDrive/image_224x224_no_augmentation/kaggle/working/processed/meningioma/f5a499fb-a58b-4695-8449-f8b563893462.png',\n",
              " '/content/drive/MyDrive/image_224x224_no_augmentation/kaggle/working/processed/glioma/e59ba044-b8e7-4702-b584-3d3ba388acd1.png',\n",
              " '/content/drive/MyDrive/image_224x224_no_augmentation/kaggle/working/processed/NonDemented/f183ba00-9e9c-478f-b2bf-85f5c75cffdf.png',\n",
              " '/content/drive/MyDrive/image_224x224_no_augmentation/kaggle/working/processed/pituitary/c4a9abe8-4eb4-495f-874f-31b3e2a9389d.png',\n",
              " '/content/drive/MyDrive/image_224x224_no_augmentation/kaggle/working/processed/NonDemented/052f2ab2-3e06-45f6-bd5f-4c3cbdd8bf59.png',\n",
              " '/content/drive/MyDrive/image_224x224_no_augmentation/kaggle/working/processed/meningioma/e9388551-71de-4194-bf1f-46855d693423.png',\n",
              " '/content/drive/MyDrive/image_224x224_no_augmentation/kaggle/working/processed/glioma/8fa58468-76f6-4065-92bd-06843701ddbe.png',\n",
              " '/content/drive/MyDrive/image_224x224_no_augmentation/kaggle/working/processed/glioma/f9ac56bd-80bb-4344-952c-8909e527da8f.png',\n",
              " '/content/drive/MyDrive/image_224x224_no_augmentation/kaggle/working/processed/meningioma/81321a3d-0295-439d-ac85-9ae5d22b50c7.png',\n",
              " '/content/drive/MyDrive/image_224x224_no_augmentation/kaggle/working/processed/notumor/b63cc364-17fb-4148-a144-5fa023f209af.png',\n",
              " '/content/drive/MyDrive/image_224x224_no_augmentation/kaggle/working/processed/VeryMildDemented/b540ae41-e751-438d-86fd-7581659813c9.png',\n",
              " '/content/drive/MyDrive/image_224x224_no_augmentation/kaggle/working/processed/NonDemented/1ef9c679-ab01-43c3-ad76-cb9d641f8a47.png',\n",
              " '/content/drive/MyDrive/image_224x224_no_augmentation/kaggle/working/processed/pituitary/7239a5e0-5001-47dc-8616-e90a47837e32.png',\n",
              " '/content/drive/MyDrive/image_224x224_no_augmentation/kaggle/working/processed/pituitary/916ae259-a068-4689-990d-4b834ded26a3.png',\n",
              " '/content/drive/MyDrive/image_224x224_no_augmentation/kaggle/working/processed/NonDemented/13fa59f5-8eb7-4403-9b60-494d42b1c131.png',\n",
              " '/content/drive/MyDrive/image_224x224_no_augmentation/kaggle/working/processed/MildDemented/f89f4de9-1970-4fd8-b124-2b1c5dd8da2e.png',\n",
              " '/content/drive/MyDrive/image_224x224_no_augmentation/kaggle/working/processed/glioma/807a96cb-b867-4607-86a9-478206cfeeb1.png',\n",
              " '/content/drive/MyDrive/image_224x224_no_augmentation/kaggle/working/processed/NonDemented/136c6e1c-05a9-47da-9bb0-7ecf1acc1dbb.png',\n",
              " '/content/drive/MyDrive/image_224x224_no_augmentation/kaggle/working/processed/meningioma/5b066bee-70ee-4b29-bea8-0e1f9c3a67e2.png',\n",
              " '/content/drive/MyDrive/image_224x224_no_augmentation/kaggle/working/processed/pituitary/ee99d0e6-630f-4ac4-8ddd-378427549e37.png',\n",
              " '/content/drive/MyDrive/image_224x224_no_augmentation/kaggle/working/processed/pituitary/9e145db6-8aba-48d0-8aa9-d63ac98dc715.png',\n",
              " '/content/drive/MyDrive/image_224x224_no_augmentation/kaggle/working/processed/glioma/1891996f-3ce9-4723-b4ea-79599cb90e37.png',\n",
              " '/content/drive/MyDrive/image_224x224_no_augmentation/kaggle/working/processed/NonDemented/7ea32c67-f1b8-4678-aaae-170e3b905a76.png',\n",
              " '/content/drive/MyDrive/image_224x224_no_augmentation/kaggle/working/processed/pituitary/964a4516-767f-4a06-9089-ca5ddf9ff97d.png',\n",
              " '/content/drive/MyDrive/image_224x224_no_augmentation/kaggle/working/processed/MildDemented/31e55577-3de3-45e5-aad5-274ac096cf0d.png',\n",
              " '/content/drive/MyDrive/image_224x224_no_augmentation/kaggle/working/processed/NonDemented/161d197d-7f47-41c0-a3b8-e3ca9b43cef3.png',\n",
              " '/content/drive/MyDrive/image_224x224_no_augmentation/kaggle/working/processed/NonDemented/65a2ef50-b2a7-476a-b8ef-0f576671d72e.png',\n",
              " '/content/drive/MyDrive/image_224x224_no_augmentation/kaggle/working/processed/VeryMildDemented/38e8e79c-ac58-4807-8419-f3611a7b3ece.png',\n",
              " '/content/drive/MyDrive/image_224x224_no_augmentation/kaggle/working/processed/notumor/8153eda9-60d6-4d73-9d16-bbb91939496d.png',\n",
              " '/content/drive/MyDrive/image_224x224_no_augmentation/kaggle/working/processed/glioma/4bf69b10-f199-48c7-bc94-5cdfc33725ce.png',\n",
              " '/content/drive/MyDrive/image_224x224_no_augmentation/kaggle/working/processed/meningioma/abdf7dbb-2b46-43ee-a446-21aa83a7c529.png',\n",
              " '/content/drive/MyDrive/image_224x224_no_augmentation/kaggle/working/processed/meningioma/de836d6c-da2d-4567-837e-144fd60b181a.png',\n",
              " '/content/drive/MyDrive/image_224x224_no_augmentation/kaggle/working/processed/MildDemented/1413b748-a69e-49ed-918c-c9495023b022.png',\n",
              " '/content/drive/MyDrive/image_224x224_no_augmentation/kaggle/working/processed/notumor/60f5e116-19eb-4c79-aa3f-b3d22ce05537.png',\n",
              " '/content/drive/MyDrive/image_224x224_no_augmentation/kaggle/working/processed/glioma/9763d560-59d5-4101-b74f-64ab3478856f.png',\n",
              " '/content/drive/MyDrive/image_224x224_no_augmentation/kaggle/working/processed/VeryMildDemented/014366b9-db47-44fb-a290-7a8083922d2a.png',\n",
              " '/content/drive/MyDrive/image_224x224_no_augmentation/kaggle/working/processed/glioma/76671cf9-0715-45ec-ad53-8c1cf16ca119.png',\n",
              " '/content/drive/MyDrive/image_224x224_no_augmentation/kaggle/working/processed/pituitary/88a9ea17-a1a7-435f-8138-5b50971fe6f4.png',\n",
              " '/content/drive/MyDrive/image_224x224_no_augmentation/kaggle/working/processed/NonDemented/2089c6c3-5e2d-4802-b2fd-aff7a0453f4f.png',\n",
              " '/content/drive/MyDrive/image_224x224_no_augmentation/kaggle/working/processed/glioma/a99cb338-9f07-4cfb-a2ba-bb844a627036.png',\n",
              " '/content/drive/MyDrive/image_224x224_no_augmentation/kaggle/working/processed/NonDemented/46e04f4d-0897-473c-b0fd-c9241bcdb6aa.png',\n",
              " '/content/drive/MyDrive/image_224x224_no_augmentation/kaggle/working/processed/VeryMildDemented/c6caaa41-9f3f-4f46-a30b-faf87e0ea211.png',\n",
              " '/content/drive/MyDrive/image_224x224_no_augmentation/kaggle/working/processed/meningioma/e97307dc-a79e-4468-8faf-99be3b0be403.png',\n",
              " '/content/drive/MyDrive/image_224x224_no_augmentation/kaggle/working/processed/notumor/cc4b1174-54da-4ffe-a68a-6736f882961e.png',\n",
              " '/content/drive/MyDrive/image_224x224_no_augmentation/kaggle/working/processed/meningioma/5291d234-b3dc-4ed7-85e3-6e28a0898726.png',\n",
              " '/content/drive/MyDrive/image_224x224_no_augmentation/kaggle/working/processed/NonDemented/707146c0-6eab-4d83-9051-47cd5b659068.png',\n",
              " '/content/drive/MyDrive/image_224x224_no_augmentation/kaggle/working/processed/meningioma/d9dcfa65-72d0-4a66-97c2-3bf0110532ce.png',\n",
              " '/content/drive/MyDrive/image_224x224_no_augmentation/kaggle/working/processed/pituitary/f526a049-1337-41d7-b160-354b9235d6a8.png',\n",
              " '/content/drive/MyDrive/image_224x224_no_augmentation/kaggle/working/processed/VeryMildDemented/c5ce9ef4-92fc-4ddb-bcd8-95510d8aeb89.png',\n",
              " '/content/drive/MyDrive/image_224x224_no_augmentation/kaggle/working/processed/meningioma/0ab81bb9-8024-477e-ad32-06837ed2a42c.png',\n",
              " '/content/drive/MyDrive/image_224x224_no_augmentation/kaggle/working/processed/MildDemented/0316f2f8-fbb6-40ab-bb3b-bed20006d08b.png',\n",
              " '/content/drive/MyDrive/image_224x224_no_augmentation/kaggle/working/processed/meningioma/a9c2c6b1-6b4a-44f3-8432-c804d256a784.png',\n",
              " '/content/drive/MyDrive/image_224x224_no_augmentation/kaggle/working/processed/NonDemented/003c50d0-2ece-4e6a-86c5-637fea2cdd3a.png',\n",
              " '/content/drive/MyDrive/image_224x224_no_augmentation/kaggle/working/processed/VeryMildDemented/427c64ce-cbcf-443c-9729-439c2db5b32d.png',\n",
              " '/content/drive/MyDrive/image_224x224_no_augmentation/kaggle/working/processed/VeryMildDemented/735e0a2d-1c86-4fd5-a282-a76e4acfcac9.png',\n",
              " '/content/drive/MyDrive/image_224x224_no_augmentation/kaggle/working/processed/NonDemented/baca3d39-b512-419d-a37b-494686e40417.png',\n",
              " '/content/drive/MyDrive/image_224x224_no_augmentation/kaggle/working/processed/NonDemented/7498c1ca-ab8c-46bc-bf89-69d33a2c532a.png',\n",
              " '/content/drive/MyDrive/image_224x224_no_augmentation/kaggle/working/processed/VeryMildDemented/bb5c3d92-c3ca-4aff-afc7-8d78cbe69099.png',\n",
              " '/content/drive/MyDrive/image_224x224_no_augmentation/kaggle/working/processed/NonDemented/cebc030f-3c9e-41b1-aa1a-718eb28447dd.png',\n",
              " '/content/drive/MyDrive/image_224x224_no_augmentation/kaggle/working/processed/VeryMildDemented/53b5419f-97b8-4e01-976a-016a37de99b8.png',\n",
              " '/content/drive/MyDrive/image_224x224_no_augmentation/kaggle/working/processed/NonDemented/6ebaded8-ce71-4560-ab62-10b123c4c204.png',\n",
              " '/content/drive/MyDrive/image_224x224_no_augmentation/kaggle/working/processed/NonDemented/a017e40d-d67a-4cc7-879a-9c94ab5ce528.png',\n",
              " '/content/drive/MyDrive/image_224x224_no_augmentation/kaggle/working/processed/meningioma/c91e83b1-f78d-4c4a-b0de-edf1e795d023.png',\n",
              " '/content/drive/MyDrive/image_224x224_no_augmentation/kaggle/working/processed/NonDemented/a67ceb21-2e80-4bf5-9268-de12429b4848.png',\n",
              " '/content/drive/MyDrive/image_224x224_no_augmentation/kaggle/working/processed/VeryMildDemented/f2d66f20-7cb0-456c-9590-8051d1827f39.png',\n",
              " '/content/drive/MyDrive/image_224x224_no_augmentation/kaggle/working/processed/meningioma/956ee89f-2a21-43ce-b7d2-d0412a4e7fa6.png',\n",
              " '/content/drive/MyDrive/image_224x224_no_augmentation/kaggle/working/processed/NonDemented/517769c1-ec47-4ad3-9d9f-a04046a86de4.png',\n",
              " '/content/drive/MyDrive/image_224x224_no_augmentation/kaggle/working/processed/notumor/099d25e0-89d8-45aa-92a2-4b18a4d64eb3.png',\n",
              " '/content/drive/MyDrive/image_224x224_no_augmentation/kaggle/working/processed/glioma/144ad54d-fddd-45fd-b182-6231de0e8760.png',\n",
              " '/content/drive/MyDrive/image_224x224_no_augmentation/kaggle/working/processed/notumor/3d64247c-3b64-4bbb-824a-56aa6a91c427.png',\n",
              " '/content/drive/MyDrive/image_224x224_no_augmentation/kaggle/working/processed/notumor/20cf12ea-67ed-4132-9e24-bcaa1e543660.png',\n",
              " '/content/drive/MyDrive/image_224x224_no_augmentation/kaggle/working/processed/pituitary/b038c98a-1140-414b-a975-8040e16aaa18.png',\n",
              " '/content/drive/MyDrive/image_224x224_no_augmentation/kaggle/working/processed/meningioma/569d8e92-8356-49d9-9f85-c08c2279e847.png',\n",
              " '/content/drive/MyDrive/image_224x224_no_augmentation/kaggle/working/processed/MildDemented/fa456ee5-0d21-4d37-b44f-d1bc2b8cdcc0.png',\n",
              " '/content/drive/MyDrive/image_224x224_no_augmentation/kaggle/working/processed/NonDemented/bb5a88d5-c511-4fe6-a6bf-60a8f376b2c2.png',\n",
              " '/content/drive/MyDrive/image_224x224_no_augmentation/kaggle/working/processed/pituitary/c0501473-feb8-4306-b2af-d03298d56c59.png',\n",
              " '/content/drive/MyDrive/image_224x224_no_augmentation/kaggle/working/processed/NonDemented/707d6137-d5a2-4544-84ea-1a3a572125da.png',\n",
              " '/content/drive/MyDrive/image_224x224_no_augmentation/kaggle/working/processed/MildDemented/036dd1fd-aeec-4d1a-b0b6-881dfa3a31c3.png',\n",
              " '/content/drive/MyDrive/image_224x224_no_augmentation/kaggle/working/processed/NonDemented/74af13fa-81ff-4c14-8194-7240ac5fb9c8.png',\n",
              " '/content/drive/MyDrive/image_224x224_no_augmentation/kaggle/working/processed/glioma/d19ae26e-4fa4-462d-b754-5629115f44ec.png',\n",
              " '/content/drive/MyDrive/image_224x224_no_augmentation/kaggle/working/processed/NonDemented/90bbcf6b-006e-4af1-aba5-f03f981568fd.png',\n",
              " '/content/drive/MyDrive/image_224x224_no_augmentation/kaggle/working/processed/glioma/c1a15341-44b8-4d4b-9020-886af8fa37fb.png',\n",
              " '/content/drive/MyDrive/image_224x224_no_augmentation/kaggle/working/processed/NonDemented/dc1653ee-512c-4726-8469-fc56808a9d42.png',\n",
              " '/content/drive/MyDrive/image_224x224_no_augmentation/kaggle/working/processed/meningioma/62603794-8bb8-46c0-978a-9fa2d22288d9.png',\n",
              " '/content/drive/MyDrive/image_224x224_no_augmentation/kaggle/working/processed/VeryMildDemented/58727422-a9cb-4172-9879-a042f48328f1.png',\n",
              " '/content/drive/MyDrive/image_224x224_no_augmentation/kaggle/working/processed/meningioma/dfa804bd-65fd-43bd-bbb5-125fc38d6379.png',\n",
              " '/content/drive/MyDrive/image_224x224_no_augmentation/kaggle/working/processed/notumor/1e1913c6-bb52-46cf-8faa-83430d02cd58.png',\n",
              " '/content/drive/MyDrive/image_224x224_no_augmentation/kaggle/working/processed/NonDemented/7ec1a70a-3300-4428-b8a0-11923869549e.png',\n",
              " '/content/drive/MyDrive/image_224x224_no_augmentation/kaggle/working/processed/notumor/7d57136c-c57f-4d07-9453-6a075a96adec.png',\n",
              " '/content/drive/MyDrive/image_224x224_no_augmentation/kaggle/working/processed/NonDemented/cf942d26-65b3-4b1e-861d-b3477c3ba756.png',\n",
              " '/content/drive/MyDrive/image_224x224_no_augmentation/kaggle/working/processed/NonDemented/53b0f919-ba09-4889-aa0a-adca6264877b.png',\n",
              " '/content/drive/MyDrive/image_224x224_no_augmentation/kaggle/working/processed/pituitary/acc14825-b028-4726-a72c-c51fa5781f26.png',\n",
              " '/content/drive/MyDrive/image_224x224_no_augmentation/kaggle/working/processed/MildDemented/066c9f94-ce9e-460b-a102-2b72cfdd492a.png',\n",
              " '/content/drive/MyDrive/image_224x224_no_augmentation/kaggle/working/processed/notumor/d6ed82ac-8d1c-4e56-b4f9-f7f0fee6ccf5.png',\n",
              " '/content/drive/MyDrive/image_224x224_no_augmentation/kaggle/working/processed/meningioma/97d0cf1f-c8da-4c1f-ae7d-31a4594a50a7.png',\n",
              " '/content/drive/MyDrive/image_224x224_no_augmentation/kaggle/working/processed/pituitary/934ca9e2-bf13-4255-a6f5-d14260ea185f.png',\n",
              " '/content/drive/MyDrive/image_224x224_no_augmentation/kaggle/working/processed/glioma/17e6800d-09ee-4e12-bd27-cc29ec9fe8ee.png',\n",
              " '/content/drive/MyDrive/image_224x224_no_augmentation/kaggle/working/processed/NonDemented/58144d2b-2963-48e3-8cfb-4d79fbf544d8.png',\n",
              " '/content/drive/MyDrive/image_224x224_no_augmentation/kaggle/working/processed/meningioma/900fe41b-8e48-4be0-92a8-94035db49bb1.png',\n",
              " '/content/drive/MyDrive/image_224x224_no_augmentation/kaggle/working/processed/VeryMildDemented/b172fd6a-59ee-4e9f-b921-cef1cc5f7402.png',\n",
              " '/content/drive/MyDrive/image_224x224_no_augmentation/kaggle/working/processed/NonDemented/f9e73ec8-0bab-425d-a676-facfa98355e8.png',\n",
              " '/content/drive/MyDrive/image_224x224_no_augmentation/kaggle/working/processed/VeryMildDemented/dbf3cc90-a1ba-43eb-a873-12590ad0c9ba.png',\n",
              " '/content/drive/MyDrive/image_224x224_no_augmentation/kaggle/working/processed/pituitary/be796b21-9927-4a6b-8685-7ae719a29037.png',\n",
              " '/content/drive/MyDrive/image_224x224_no_augmentation/kaggle/working/processed/VeryMildDemented/787eb7d7-79b9-415c-bf47-fb5b7f167ffe.png',\n",
              " '/content/drive/MyDrive/image_224x224_no_augmentation/kaggle/working/processed/notumor/75342389-157e-4eaa-a237-f5c405a75bac.png',\n",
              " '/content/drive/MyDrive/image_224x224_no_augmentation/kaggle/working/processed/pituitary/d264a799-e14d-4102-87ad-ca9292c3014f.png',\n",
              " '/content/drive/MyDrive/image_224x224_no_augmentation/kaggle/working/processed/NonDemented/c70ba130-c357-4146-941b-0f5b59c4ceed.png',\n",
              " '/content/drive/MyDrive/image_224x224_no_augmentation/kaggle/working/processed/meningioma/355b7ed8-cbb8-4cfb-8c97-e2e7b398fb47.png',\n",
              " '/content/drive/MyDrive/image_224x224_no_augmentation/kaggle/working/processed/VeryMildDemented/cc1032b7-a427-4b5c-90de-f9451162fdfa.png',\n",
              " '/content/drive/MyDrive/image_224x224_no_augmentation/kaggle/working/processed/notumor/f6497639-81b8-4699-8473-0da196a3268d.png',\n",
              " '/content/drive/MyDrive/image_224x224_no_augmentation/kaggle/working/processed/glioma/fa5d7924-2598-4352-98ea-918d31784dcb.png',\n",
              " '/content/drive/MyDrive/image_224x224_no_augmentation/kaggle/working/processed/NonDemented/e04def46-5deb-4006-bcbe-ee96cf9e5431.png',\n",
              " '/content/drive/MyDrive/image_224x224_no_augmentation/kaggle/working/processed/meningioma/80498ead-7793-42e4-af95-1ae08c888c52.png',\n",
              " '/content/drive/MyDrive/image_224x224_no_augmentation/kaggle/working/processed/pituitary/8ae4de94-e047-423d-899c-be8bec072121.png',\n",
              " '/content/drive/MyDrive/image_224x224_no_augmentation/kaggle/working/processed/meningioma/6743fd71-05bc-486c-acc4-cc05fd869ed2.png',\n",
              " '/content/drive/MyDrive/image_224x224_no_augmentation/kaggle/working/processed/NonDemented/219d5447-f7d1-44f3-a8e1-6991d3d0fc7c.png',\n",
              " '/content/drive/MyDrive/image_224x224_no_augmentation/kaggle/working/processed/meningioma/4ab2d4d4-eded-423b-9de3-2f623c737dee.png',\n",
              " '/content/drive/MyDrive/image_224x224_no_augmentation/kaggle/working/processed/pituitary/4941524c-4ceb-4628-80ca-f0f4e149d5b7.png',\n",
              " '/content/drive/MyDrive/image_224x224_no_augmentation/kaggle/working/processed/NonDemented/e897daa3-0a73-4946-97fc-53dfa0c54394.png',\n",
              " '/content/drive/MyDrive/image_224x224_no_augmentation/kaggle/working/processed/NonDemented/8e2c2700-cdd2-422b-97bd-72894007422d.png',\n",
              " '/content/drive/MyDrive/image_224x224_no_augmentation/kaggle/working/processed/meningioma/5c416d17-ce47-4c6f-9c27-5309c784675f.png',\n",
              " '/content/drive/MyDrive/image_224x224_no_augmentation/kaggle/working/processed/pituitary/a8786e8e-8b8c-4307-9582-e7f6f3d78949.png',\n",
              " '/content/drive/MyDrive/image_224x224_no_augmentation/kaggle/working/processed/notumor/b13d1489-e9d0-4024-9ca0-05d64f83fdd3.png',\n",
              " '/content/drive/MyDrive/image_224x224_no_augmentation/kaggle/working/processed/glioma/e154134f-8bc4-4afd-abe6-c4d17c7af557.png',\n",
              " '/content/drive/MyDrive/image_224x224_no_augmentation/kaggle/working/processed/notumor/d79a7c6b-16b8-4824-a4c3-7ae81c175432.png',\n",
              " '/content/drive/MyDrive/image_224x224_no_augmentation/kaggle/working/processed/MildDemented/e904a4f8-3c18-471b-8bfe-353e52508873.png',\n",
              " '/content/drive/MyDrive/image_224x224_no_augmentation/kaggle/working/processed/NonDemented/1d7dde50-abb5-4cc2-800d-c88b3b834a5c.png',\n",
              " '/content/drive/MyDrive/image_224x224_no_augmentation/kaggle/working/processed/glioma/b0599fb3-4b69-4711-a1cc-2dc02bc0b9fd.png',\n",
              " '/content/drive/MyDrive/image_224x224_no_augmentation/kaggle/working/processed/pituitary/b52c974e-112e-4164-a2aa-876e99f4823e.png',\n",
              " '/content/drive/MyDrive/image_224x224_no_augmentation/kaggle/working/processed/glioma/ee178f08-44c8-42e4-8b2d-73dfb813544d.png',\n",
              " '/content/drive/MyDrive/image_224x224_no_augmentation/kaggle/working/processed/VeryMildDemented/847a3e99-d074-43d4-a2a9-8ba0bab13dc5.png',\n",
              " '/content/drive/MyDrive/image_224x224_no_augmentation/kaggle/working/processed/pituitary/35888dcc-8089-4d60-9e68-89a18d291292.png',\n",
              " '/content/drive/MyDrive/image_224x224_no_augmentation/kaggle/working/processed/VeryMildDemented/b4a7137f-9495-4c82-8b50-2a35e85db5be.png',\n",
              " '/content/drive/MyDrive/image_224x224_no_augmentation/kaggle/working/processed/meningioma/573e9526-2f5f-4e34-822d-8bb4cffb1a44.png',\n",
              " '/content/drive/MyDrive/image_224x224_no_augmentation/kaggle/working/processed/VeryMildDemented/1eaaa43d-97f3-4fd8-b6bb-5229ea4c21e1.png',\n",
              " '/content/drive/MyDrive/image_224x224_no_augmentation/kaggle/working/processed/NonDemented/3097dfa4-5f38-449d-9c76-47d76dfef463.png',\n",
              " '/content/drive/MyDrive/image_224x224_no_augmentation/kaggle/working/processed/pituitary/71d49789-a3b2-4ff9-886b-514a3d6a8bcf.png',\n",
              " '/content/drive/MyDrive/image_224x224_no_augmentation/kaggle/working/processed/glioma/8452e9d9-29da-4041-9b73-a8faa3554fe8.png',\n",
              " '/content/drive/MyDrive/image_224x224_no_augmentation/kaggle/working/processed/NonDemented/5bda0a01-6ab8-48a6-b424-327ceec28efa.png',\n",
              " '/content/drive/MyDrive/image_224x224_no_augmentation/kaggle/working/processed/NonDemented/382ebaf0-936c-4c1f-b7f6-5f436bb8743c.png',\n",
              " '/content/drive/MyDrive/image_224x224_no_augmentation/kaggle/working/processed/MildDemented/f1a63bf3-8991-4907-9882-fe5b3f75de84.png',\n",
              " '/content/drive/MyDrive/image_224x224_no_augmentation/kaggle/working/processed/glioma/114cd303-ec65-49fa-b8b7-048a33b7a22f.png',\n",
              " '/content/drive/MyDrive/image_224x224_no_augmentation/kaggle/working/processed/pituitary/4dfe9ca0-164f-4120-9271-06e00acf4c70.png',\n",
              " '/content/drive/MyDrive/image_224x224_no_augmentation/kaggle/working/processed/VeryMildDemented/f9393aa1-465f-4a87-89e1-24f2da9d6ea5.png',\n",
              " '/content/drive/MyDrive/image_224x224_no_augmentation/kaggle/working/processed/glioma/0e81771f-97d7-4018-8575-69f12b624518.png',\n",
              " '/content/drive/MyDrive/image_224x224_no_augmentation/kaggle/working/processed/MildDemented/f349f4da-8f9b-44c1-8f31-c90154aa9b88.png',\n",
              " '/content/drive/MyDrive/image_224x224_no_augmentation/kaggle/working/processed/VeryMildDemented/25c87ca7-8140-4e9b-844f-a6115be7edc9.png',\n",
              " '/content/drive/MyDrive/image_224x224_no_augmentation/kaggle/working/processed/MildDemented/fd6c8921-39c4-44b3-9739-71b69a5ce09a.png',\n",
              " '/content/drive/MyDrive/image_224x224_no_augmentation/kaggle/working/processed/NonDemented/63fbf733-cfbe-426d-a028-cfbe5746c040.png',\n",
              " '/content/drive/MyDrive/image_224x224_no_augmentation/kaggle/working/processed/pituitary/996431c1-b1e5-4e6b-a9b8-5ceb585b7a71.png',\n",
              " '/content/drive/MyDrive/image_224x224_no_augmentation/kaggle/working/processed/ModerateDemented/4b31061f-d705-45b3-b180-4a3b4456aec0.png',\n",
              " '/content/drive/MyDrive/image_224x224_no_augmentation/kaggle/working/processed/VeryMildDemented/fb456dfc-b941-4cf8-8eec-ed5677bab3ed.png',\n",
              " '/content/drive/MyDrive/image_224x224_no_augmentation/kaggle/working/processed/VeryMildDemented/536c9251-83e1-4a21-a5cf-9c681a68b00f.png',\n",
              " '/content/drive/MyDrive/image_224x224_no_augmentation/kaggle/working/processed/MildDemented/87412a00-9c9a-459f-93c0-9ef17f53f43a.png',\n",
              " '/content/drive/MyDrive/image_224x224_no_augmentation/kaggle/working/processed/notumor/8084b841-eca8-4d0f-8304-5b1c573dd33e.png',\n",
              " '/content/drive/MyDrive/image_224x224_no_augmentation/kaggle/working/processed/NonDemented/76418196-215e-4fec-b14d-c837c4cfc5bb.png',\n",
              " '/content/drive/MyDrive/image_224x224_no_augmentation/kaggle/working/processed/meningioma/53c19a09-c343-4688-a26f-13eee4af6112.png',\n",
              " '/content/drive/MyDrive/image_224x224_no_augmentation/kaggle/working/processed/meningioma/9f4aeebb-82a3-47bf-af21-43f9ff70fad1.png',\n",
              " '/content/drive/MyDrive/image_224x224_no_augmentation/kaggle/working/processed/notumor/4844f7e5-b379-4d8b-bfab-20d8a2296cc6.png',\n",
              " '/content/drive/MyDrive/image_224x224_no_augmentation/kaggle/working/processed/meningioma/2f002950-e908-4c16-991e-6684aa5a2d4d.png',\n",
              " '/content/drive/MyDrive/image_224x224_no_augmentation/kaggle/working/processed/NonDemented/16607883-3ade-4b6d-a4e2-836a214ce58a.png',\n",
              " '/content/drive/MyDrive/image_224x224_no_augmentation/kaggle/working/processed/meningioma/fbe300d4-8c21-42ce-b710-41f643721ee6.png',\n",
              " '/content/drive/MyDrive/image_224x224_no_augmentation/kaggle/working/processed/glioma/7f5d2e1a-d415-4c54-b240-0dac3a102e70.png',\n",
              " '/content/drive/MyDrive/image_224x224_no_augmentation/kaggle/working/processed/VeryMildDemented/8a7153fd-e072-4626-abb4-d14342238728.png',\n",
              " '/content/drive/MyDrive/image_224x224_no_augmentation/kaggle/working/processed/NonDemented/50601c88-02c6-4f2d-be4e-ce969254bded.png',\n",
              " '/content/drive/MyDrive/image_224x224_no_augmentation/kaggle/working/processed/VeryMildDemented/d9ab16d1-8ebf-4ba3-ab47-5b4ca4199694.png',\n",
              " '/content/drive/MyDrive/image_224x224_no_augmentation/kaggle/working/processed/pituitary/f3a45194-5f06-4dda-8d63-258059f6012b.png',\n",
              " '/content/drive/MyDrive/image_224x224_no_augmentation/kaggle/working/processed/notumor/7cc1afe4-76e1-4b55-83cb-71c1a863ea31.png',\n",
              " '/content/drive/MyDrive/image_224x224_no_augmentation/kaggle/working/processed/NonDemented/b230f9cf-6863-4be5-864a-55f553636ecd.png',\n",
              " '/content/drive/MyDrive/image_224x224_no_augmentation/kaggle/working/processed/meningioma/91049ebd-4870-4631-b940-bf2388c70dfa.png',\n",
              " '/content/drive/MyDrive/image_224x224_no_augmentation/kaggle/working/processed/MildDemented/d74c5249-61fb-47f7-b96c-497db7bf7150.png',\n",
              " '/content/drive/MyDrive/image_224x224_no_augmentation/kaggle/working/processed/notumor/ba932996-e7a8-4bb7-966c-ec554205c570.png',\n",
              " '/content/drive/MyDrive/image_224x224_no_augmentation/kaggle/working/processed/NonDemented/4ae4c31f-b5e3-400d-a1ed-1b2481458227.png',\n",
              " '/content/drive/MyDrive/image_224x224_no_augmentation/kaggle/working/processed/glioma/fa6a9a99-59fe-47c3-953f-f94e51b72d5a.png',\n",
              " '/content/drive/MyDrive/image_224x224_no_augmentation/kaggle/working/processed/glioma/357168ee-16f0-4630-9133-3ad03ae15ed9.png',\n",
              " '/content/drive/MyDrive/image_224x224_no_augmentation/kaggle/working/processed/VeryMildDemented/d086c43e-2911-4ccf-b3f9-01bfcb8f56a1.png',\n",
              " '/content/drive/MyDrive/image_224x224_no_augmentation/kaggle/working/processed/notumor/9b5b60a8-1c8d-441f-b74a-58a9620d0d4d.png',\n",
              " '/content/drive/MyDrive/image_224x224_no_augmentation/kaggle/working/processed/notumor/991518d5-7fd7-4534-889a-2253bfda99c4.png',\n",
              " '/content/drive/MyDrive/image_224x224_no_augmentation/kaggle/working/processed/VeryMildDemented/2259932a-cb46-4a45-a3eb-279e81e15417.png',\n",
              " '/content/drive/MyDrive/image_224x224_no_augmentation/kaggle/working/processed/glioma/ac9974fc-7b6c-48bc-8e48-9cbae4649202.png',\n",
              " '/content/drive/MyDrive/image_224x224_no_augmentation/kaggle/working/processed/VeryMildDemented/859d92aa-5907-456f-ac2d-9f3aaa1eb789.png',\n",
              " '/content/drive/MyDrive/image_224x224_no_augmentation/kaggle/working/processed/MildDemented/e1bb405b-de41-425d-b30c-676181f6194a.png',\n",
              " '/content/drive/MyDrive/image_224x224_no_augmentation/kaggle/working/processed/pituitary/63ac9e69-f232-441b-a6e8-558409e0ac36.png',\n",
              " '/content/drive/MyDrive/image_224x224_no_augmentation/kaggle/working/processed/meningioma/21ab65d4-b4da-4093-8d41-f64c683fc6be.png',\n",
              " '/content/drive/MyDrive/image_224x224_no_augmentation/kaggle/working/processed/NonDemented/ab495bde-1f2a-416d-b2df-1c70f2abf3f2.png',\n",
              " '/content/drive/MyDrive/image_224x224_no_augmentation/kaggle/working/processed/pituitary/4794a4e9-26f9-453a-9586-4c94c55608e0.png',\n",
              " '/content/drive/MyDrive/image_224x224_no_augmentation/kaggle/working/processed/NonDemented/f4758d20-d6ed-4694-9ed7-51f9b5bb9715.png',\n",
              " '/content/drive/MyDrive/image_224x224_no_augmentation/kaggle/working/processed/NonDemented/408aa5c9-3cea-484d-a23c-3eac54799aac.png',\n",
              " '/content/drive/MyDrive/image_224x224_no_augmentation/kaggle/working/processed/MildDemented/b9b148a7-5af9-427a-afd9-8aef5cd6c3e3.png',\n",
              " '/content/drive/MyDrive/image_224x224_no_augmentation/kaggle/working/processed/VeryMildDemented/16f074fe-0710-40d1-8264-904343d25139.png',\n",
              " '/content/drive/MyDrive/image_224x224_no_augmentation/kaggle/working/processed/meningioma/20ab10e0-b832-402b-b4f3-f3d2b9cc4cca.png',\n",
              " '/content/drive/MyDrive/image_224x224_no_augmentation/kaggle/working/processed/glioma/76658880-9e39-4d3b-aa3a-bdd13380ecab.png',\n",
              " '/content/drive/MyDrive/image_224x224_no_augmentation/kaggle/working/processed/meningioma/43164b52-cae4-4371-8378-3e985be9a063.png',\n",
              " '/content/drive/MyDrive/image_224x224_no_augmentation/kaggle/working/processed/meningioma/bdafbce8-f53d-4d02-9a73-465adca07bab.png',\n",
              " '/content/drive/MyDrive/image_224x224_no_augmentation/kaggle/working/processed/NonDemented/ec83c182-7a4a-4020-ac45-bc7d92a87782.png',\n",
              " '/content/drive/MyDrive/image_224x224_no_augmentation/kaggle/working/processed/glioma/a94d3983-be43-47ba-884b-71c1f95103ab.png',\n",
              " '/content/drive/MyDrive/image_224x224_no_augmentation/kaggle/working/processed/VeryMildDemented/24fc3046-7e68-4fef-8a3f-d0fcf11e7e20.png',\n",
              " '/content/drive/MyDrive/image_224x224_no_augmentation/kaggle/working/processed/notumor/7de4d05c-3cd6-48f1-adc9-ec67abe4d2af.png',\n",
              " '/content/drive/MyDrive/image_224x224_no_augmentation/kaggle/working/processed/VeryMildDemented/86061f24-bccf-4b8f-9247-7fd5c2379103.png',\n",
              " '/content/drive/MyDrive/image_224x224_no_augmentation/kaggle/working/processed/meningioma/37ee7083-2ad8-4de3-a0fa-fcd0a9993ea1.png',\n",
              " '/content/drive/MyDrive/image_224x224_no_augmentation/kaggle/working/processed/glioma/b5e4e372-322b-4a7a-af0d-a3014f4fcef1.png',\n",
              " '/content/drive/MyDrive/image_224x224_no_augmentation/kaggle/working/processed/VeryMildDemented/0661aa6a-165b-46d5-91cc-92c73d77f98c.png',\n",
              " '/content/drive/MyDrive/image_224x224_no_augmentation/kaggle/working/processed/meningioma/35d6645a-84c7-408c-99a6-d3c585bcc109.png',\n",
              " '/content/drive/MyDrive/image_224x224_no_augmentation/kaggle/working/processed/pituitary/52ae89cc-c000-40b7-861b-c8d90f19358e.png',\n",
              " '/content/drive/MyDrive/image_224x224_no_augmentation/kaggle/working/processed/meningioma/2de89816-e1d8-431a-afd9-4cef2ad8f3ce.png',\n",
              " '/content/drive/MyDrive/image_224x224_no_augmentation/kaggle/working/processed/pituitary/bf241742-8bb2-45c9-b430-2d4ca881c95c.png',\n",
              " '/content/drive/MyDrive/image_224x224_no_augmentation/kaggle/working/processed/glioma/80aad400-b8dd-4dbf-936e-2935e796ebf6.png',\n",
              " '/content/drive/MyDrive/image_224x224_no_augmentation/kaggle/working/processed/pituitary/b832dd38-c3f7-4abe-bbc4-93089c62904d.png',\n",
              " '/content/drive/MyDrive/image_224x224_no_augmentation/kaggle/working/processed/meningioma/b94bb1cf-fb6d-4ce3-bf85-81a25669797d.png',\n",
              " '/content/drive/MyDrive/image_224x224_no_augmentation/kaggle/working/processed/meningioma/501ae56a-122d-4f6a-b8c1-6acadd3e21e9.png',\n",
              " '/content/drive/MyDrive/image_224x224_no_augmentation/kaggle/working/processed/MildDemented/8eb3ecdf-1f40-4653-a625-85361fe2f37a.png',\n",
              " '/content/drive/MyDrive/image_224x224_no_augmentation/kaggle/working/processed/glioma/abd7c391-46c2-4c77-b01a-889be8c72bcf.png',\n",
              " '/content/drive/MyDrive/image_224x224_no_augmentation/kaggle/working/processed/NonDemented/53fb2f3c-ee63-47e3-970f-466ffa06abc6.png',\n",
              " '/content/drive/MyDrive/image_224x224_no_augmentation/kaggle/working/processed/NonDemented/882c9d29-4d63-41d1-a0ab-4651f16dc4ab.png',\n",
              " '/content/drive/MyDrive/image_224x224_no_augmentation/kaggle/working/processed/VeryMildDemented/11016941-64d3-4f27-884a-a78ed2c75fbd.png',\n",
              " '/content/drive/MyDrive/image_224x224_no_augmentation/kaggle/working/processed/NonDemented/b7e30004-21c7-4e68-aae1-1cc8baa9d01e.png',\n",
              " '/content/drive/MyDrive/image_224x224_no_augmentation/kaggle/working/processed/MildDemented/ddf10522-9980-4c19-8408-9b1307e1ee16.png',\n",
              " '/content/drive/MyDrive/image_224x224_no_augmentation/kaggle/working/processed/NonDemented/32cd5a69-0000-4944-bce6-a5ca45b21acd.png',\n",
              " '/content/drive/MyDrive/image_224x224_no_augmentation/kaggle/working/processed/NonDemented/3d101c6c-4337-4475-bddc-83a1be0b5b2d.png',\n",
              " '/content/drive/MyDrive/image_224x224_no_augmentation/kaggle/working/processed/NonDemented/3929923d-2ac1-4b6d-9aaa-511b2ca75705.png',\n",
              " '/content/drive/MyDrive/image_224x224_no_augmentation/kaggle/working/processed/notumor/8172f8d3-e705-4cbb-8907-ae9dc089c5b2.png',\n",
              " '/content/drive/MyDrive/image_224x224_no_augmentation/kaggle/working/processed/glioma/3bea2bcd-a6ef-459d-84c4-c7f00c2812ca.png',\n",
              " '/content/drive/MyDrive/image_224x224_no_augmentation/kaggle/working/processed/meningioma/96a88da4-bf90-4e84-b55b-6242f2b93d19.png',\n",
              " '/content/drive/MyDrive/image_224x224_no_augmentation/kaggle/working/processed/pituitary/b8e55a06-e61d-4321-a587-992542661715.png',\n",
              " '/content/drive/MyDrive/image_224x224_no_augmentation/kaggle/working/processed/meningioma/e33a3bc4-e6ac-4464-84bb-c01fe69abbc4.png',\n",
              " '/content/drive/MyDrive/image_224x224_no_augmentation/kaggle/working/processed/VeryMildDemented/dd1845c0-74ab-466b-aa68-1a75fda2c817.png',\n",
              " '/content/drive/MyDrive/image_224x224_no_augmentation/kaggle/working/processed/glioma/0572659b-bb59-4bb1-b479-f85a9395a295.png',\n",
              " '/content/drive/MyDrive/image_224x224_no_augmentation/kaggle/working/processed/glioma/c8087491-f0aa-4a16-811c-a8560348d709.png',\n",
              " '/content/drive/MyDrive/image_224x224_no_augmentation/kaggle/working/processed/glioma/ba5b2781-f33c-4b0b-bd53-8b7cfec98201.png',\n",
              " '/content/drive/MyDrive/image_224x224_no_augmentation/kaggle/working/processed/VeryMildDemented/1d156b30-63ec-4f88-9231-0d7249f58149.png',\n",
              " '/content/drive/MyDrive/image_224x224_no_augmentation/kaggle/working/processed/NonDemented/d648e4d2-79d6-489f-b7f7-1bae3931dea7.png',\n",
              " '/content/drive/MyDrive/image_224x224_no_augmentation/kaggle/working/processed/glioma/62ebb2b2-3a4a-43cd-9acc-ee6436049463.png',\n",
              " '/content/drive/MyDrive/image_224x224_no_augmentation/kaggle/working/processed/VeryMildDemented/ab9095e7-6fac-46b3-a12a-f3a4b7179ba3.png',\n",
              " '/content/drive/MyDrive/image_224x224_no_augmentation/kaggle/working/processed/glioma/509be84b-ef55-473c-a43f-f6358e848168.png',\n",
              " '/content/drive/MyDrive/image_224x224_no_augmentation/kaggle/working/processed/NonDemented/489fed4b-71f0-4b00-882d-56c0f9b84444.png',\n",
              " '/content/drive/MyDrive/image_224x224_no_augmentation/kaggle/working/processed/NonDemented/256c6e28-19df-4b36-ac8e-9a83c1da79d0.png',\n",
              " '/content/drive/MyDrive/image_224x224_no_augmentation/kaggle/working/processed/VeryMildDemented/b397f9e0-3d07-4aa3-baf7-77786674757e.png',\n",
              " '/content/drive/MyDrive/image_224x224_no_augmentation/kaggle/working/processed/NonDemented/62eb58c4-57ca-4aac-87d8-53799ca8356e.png',\n",
              " '/content/drive/MyDrive/image_224x224_no_augmentation/kaggle/working/processed/notumor/013c3087-ee1e-478a-b589-84050c4c0d47.png',\n",
              " '/content/drive/MyDrive/image_224x224_no_augmentation/kaggle/working/processed/pituitary/a4db5f73-8e16-4c59-8a07-19fb1445fd0e.png',\n",
              " '/content/drive/MyDrive/image_224x224_no_augmentation/kaggle/working/processed/glioma/7d43beef-cdde-4ecc-97b9-914dcee808e2.png',\n",
              " '/content/drive/MyDrive/image_224x224_no_augmentation/kaggle/working/processed/glioma/814ee034-9f42-4b23-9a61-2bdb79722842.png',\n",
              " '/content/drive/MyDrive/image_224x224_no_augmentation/kaggle/working/processed/glioma/f3d0c181-e6bd-4921-90b3-a85b1013916d.png',\n",
              " '/content/drive/MyDrive/image_224x224_no_augmentation/kaggle/working/processed/pituitary/2c140268-6a90-4be0-bb8e-b9047bd04271.png',\n",
              " '/content/drive/MyDrive/image_224x224_no_augmentation/kaggle/working/processed/VeryMildDemented/d4d196ff-bff4-4e19-a396-7b0b18835dbb.png',\n",
              " '/content/drive/MyDrive/image_224x224_no_augmentation/kaggle/working/processed/NonDemented/09c456af-bb1c-4050-bd9a-d0d7b1004ba5.png',\n",
              " '/content/drive/MyDrive/image_224x224_no_augmentation/kaggle/working/processed/glioma/d5672aeb-5067-479c-a389-58625302f0c2.png',\n",
              " '/content/drive/MyDrive/image_224x224_no_augmentation/kaggle/working/processed/meningioma/54aaf575-07c1-4290-a962-8655623a2a2f.png',\n",
              " '/content/drive/MyDrive/image_224x224_no_augmentation/kaggle/working/processed/meningioma/88b63f80-37ec-4554-beb3-39316f521c14.png',\n",
              " '/content/drive/MyDrive/image_224x224_no_augmentation/kaggle/working/processed/notumor/6e84e051-70c8-4c07-af9c-654f81a48384.png',\n",
              " '/content/drive/MyDrive/image_224x224_no_augmentation/kaggle/working/processed/meningioma/9da70faa-2351-41e2-9478-beaf24a81430.png',\n",
              " '/content/drive/MyDrive/image_224x224_no_augmentation/kaggle/working/processed/pituitary/02e9557d-1a9f-4998-9397-0a9432d05a6b.png',\n",
              " '/content/drive/MyDrive/image_224x224_no_augmentation/kaggle/working/processed/notumor/00086496-0657-482c-b100-ae865cc81bbf.png',\n",
              " '/content/drive/MyDrive/image_224x224_no_augmentation/kaggle/working/processed/meningioma/2f648c3b-8251-45c8-bf5e-1c285a0d1b43.png',\n",
              " '/content/drive/MyDrive/image_224x224_no_augmentation/kaggle/working/processed/glioma/6fe901f8-98c5-4ec4-babf-2d6fa720cf02.png',\n",
              " '/content/drive/MyDrive/image_224x224_no_augmentation/kaggle/working/processed/NonDemented/927834ca-7b2d-4362-b75e-866e2daa208c.png',\n",
              " '/content/drive/MyDrive/image_224x224_no_augmentation/kaggle/working/processed/NonDemented/a51a7920-fdc6-4deb-b49d-d95acf50273d.png',\n",
              " '/content/drive/MyDrive/image_224x224_no_augmentation/kaggle/working/processed/notumor/6240658a-08e4-4fab-bd1c-751e7791b1d5.png',\n",
              " '/content/drive/MyDrive/image_224x224_no_augmentation/kaggle/working/processed/VeryMildDemented/9bf27d5d-4ddd-428d-90fd-33d69282694f.png',\n",
              " '/content/drive/MyDrive/image_224x224_no_augmentation/kaggle/working/processed/VeryMildDemented/aadadfdf-96a3-4685-a9fb-f97357db98c2.png',\n",
              " '/content/drive/MyDrive/image_224x224_no_augmentation/kaggle/working/processed/glioma/bdbc645c-8938-4d80-9592-6ce0e46403fe.png',\n",
              " '/content/drive/MyDrive/image_224x224_no_augmentation/kaggle/working/processed/pituitary/f810734a-c9d5-479b-a745-4f2202589c02.png',\n",
              " '/content/drive/MyDrive/image_224x224_no_augmentation/kaggle/working/processed/VeryMildDemented/9e429aa1-1545-4f28-a199-7c175a6e01df.png',\n",
              " '/content/drive/MyDrive/image_224x224_no_augmentation/kaggle/working/processed/NonDemented/60b9e47b-47ee-4d02-8122-220e2925f1c0.png',\n",
              " '/content/drive/MyDrive/image_224x224_no_augmentation/kaggle/working/processed/NonDemented/16b3724d-7046-450a-8f49-bb0130336a0e.png',\n",
              " '/content/drive/MyDrive/image_224x224_no_augmentation/kaggle/working/processed/pituitary/32739703-a248-406f-9ce0-7d9fe7ccc896.png',\n",
              " '/content/drive/MyDrive/image_224x224_no_augmentation/kaggle/working/processed/pituitary/1adad2ca-47ef-453c-89a2-194a4835e30f.png',\n",
              " '/content/drive/MyDrive/image_224x224_no_augmentation/kaggle/working/processed/NonDemented/c6a5e8f8-2f25-468a-b00c-392e4b29ba3c.png',\n",
              " '/content/drive/MyDrive/image_224x224_no_augmentation/kaggle/working/processed/NonDemented/fcd45e4c-1008-47fb-ae5b-f43be3d0aefd.png',\n",
              " '/content/drive/MyDrive/image_224x224_no_augmentation/kaggle/working/processed/NonDemented/b17af8d2-9760-4000-8358-a11a13218d7a.png',\n",
              " '/content/drive/MyDrive/image_224x224_no_augmentation/kaggle/working/processed/meningioma/c47342ea-0270-4af3-ba6e-ca76bdc69896.png',\n",
              " '/content/drive/MyDrive/image_224x224_no_augmentation/kaggle/working/processed/NonDemented/08154816-832f-4f73-9c4c-e41673046cf1.png',\n",
              " '/content/drive/MyDrive/image_224x224_no_augmentation/kaggle/working/processed/NonDemented/5028cac2-c7d0-4d74-a084-4e610d89ed46.png',\n",
              " '/content/drive/MyDrive/image_224x224_no_augmentation/kaggle/working/processed/NonDemented/469a85fd-78b9-4be5-85cf-4d06d1013e60.png',\n",
              " '/content/drive/MyDrive/image_224x224_no_augmentation/kaggle/working/processed/NonDemented/1d034611-a9b9-454d-a88a-8661e56cae19.png',\n",
              " '/content/drive/MyDrive/image_224x224_no_augmentation/kaggle/working/processed/glioma/7043bf35-49af-4005-a217-3d92c443ee4f.png',\n",
              " '/content/drive/MyDrive/image_224x224_no_augmentation/kaggle/working/processed/NonDemented/9c8d7c0e-e2bd-47fc-bfc3-251aada6cf8f.png',\n",
              " '/content/drive/MyDrive/image_224x224_no_augmentation/kaggle/working/processed/ModerateDemented/87ae852f-c915-4398-a082-4739c379a500.png',\n",
              " '/content/drive/MyDrive/image_224x224_no_augmentation/kaggle/working/processed/NonDemented/9279caaa-ff36-4d76-9593-dc124b4c3534.png',\n",
              " '/content/drive/MyDrive/image_224x224_no_augmentation/kaggle/working/processed/VeryMildDemented/0cbc1008-3b92-4454-a199-f6705fcca0fd.png',\n",
              " '/content/drive/MyDrive/image_224x224_no_augmentation/kaggle/working/processed/glioma/5264bc92-8344-4c4f-ab5c-2b963f8b2447.png',\n",
              " '/content/drive/MyDrive/image_224x224_no_augmentation/kaggle/working/processed/meningioma/173eaec3-dd3e-4c3f-ac24-685edcfabd5e.png',\n",
              " '/content/drive/MyDrive/image_224x224_no_augmentation/kaggle/working/processed/NonDemented/627bbcb1-e638-440e-8a12-5ffb8e8e88eb.png',\n",
              " '/content/drive/MyDrive/image_224x224_no_augmentation/kaggle/working/processed/NonDemented/b0deda1d-a182-48ce-903a-814f8b0b8074.png',\n",
              " '/content/drive/MyDrive/image_224x224_no_augmentation/kaggle/working/processed/pituitary/e1cdee6e-37b9-4fe4-a21d-d2f8afa52ad8.png',\n",
              " '/content/drive/MyDrive/image_224x224_no_augmentation/kaggle/working/processed/NonDemented/b6176323-5a8c-4da0-9596-c75f6e1f1fc7.png',\n",
              " '/content/drive/MyDrive/image_224x224_no_augmentation/kaggle/working/processed/glioma/a9b0eff5-0c30-4bf2-b375-5b80cfcf5af3.png',\n",
              " '/content/drive/MyDrive/image_224x224_no_augmentation/kaggle/working/processed/glioma/7ad98b90-aef2-4f84-82b8-94a9be6591d4.png',\n",
              " '/content/drive/MyDrive/image_224x224_no_augmentation/kaggle/working/processed/pituitary/f5a2a9b5-ba9f-4156-8bda-e7f990703220.png',\n",
              " '/content/drive/MyDrive/image_224x224_no_augmentation/kaggle/working/processed/glioma/11a9c454-ddba-4854-aea1-4453563170f3.png',\n",
              " '/content/drive/MyDrive/image_224x224_no_augmentation/kaggle/working/processed/NonDemented/51b15e84-acd1-4673-8a51-23eee0ac9845.png',\n",
              " '/content/drive/MyDrive/image_224x224_no_augmentation/kaggle/working/processed/pituitary/1b08e633-57f0-4c23-b67f-dd19eb0cd9e2.png',\n",
              " '/content/drive/MyDrive/image_224x224_no_augmentation/kaggle/working/processed/VeryMildDemented/f1cdcdce-1cea-4210-834b-9a6b1cb73319.png',\n",
              " '/content/drive/MyDrive/image_224x224_no_augmentation/kaggle/working/processed/notumor/522bde74-cf8f-4166-8de8-aa4d698e7204.png',\n",
              " '/content/drive/MyDrive/image_224x224_no_augmentation/kaggle/working/processed/MildDemented/077dc9d6-ff74-4c65-8da7-d7e4b2be2be1.png',\n",
              " '/content/drive/MyDrive/image_224x224_no_augmentation/kaggle/working/processed/glioma/c2fceb8e-2254-4cdd-9907-f2f076953aa9.png',\n",
              " '/content/drive/MyDrive/image_224x224_no_augmentation/kaggle/working/processed/pituitary/75e5de0e-1ae5-4dc1-8760-87088d1d6f87.png',\n",
              " '/content/drive/MyDrive/image_224x224_no_augmentation/kaggle/working/processed/notumor/5b9e5f84-0496-4226-b22b-466dbf1b8a8d.png',\n",
              " '/content/drive/MyDrive/image_224x224_no_augmentation/kaggle/working/processed/pituitary/45200725-caed-43ea-9472-a263cd38b04b.png',\n",
              " '/content/drive/MyDrive/image_224x224_no_augmentation/kaggle/working/processed/NonDemented/57e17460-79f5-4f76-9ad8-81891aa25835.png',\n",
              " '/content/drive/MyDrive/image_224x224_no_augmentation/kaggle/working/processed/NonDemented/cd826be8-30a6-4bc8-ac24-129b101ac33d.png',\n",
              " '/content/drive/MyDrive/image_224x224_no_augmentation/kaggle/working/processed/VeryMildDemented/f7726807-33ec-4310-8327-61cd6d1428bf.png',\n",
              " '/content/drive/MyDrive/image_224x224_no_augmentation/kaggle/working/processed/pituitary/a98b5e81-e3c6-4440-aa57-0f4db55c58e3.png',\n",
              " '/content/drive/MyDrive/image_224x224_no_augmentation/kaggle/working/processed/VeryMildDemented/6be37572-97dc-4bb4-a798-e4b8d7b21b29.png',\n",
              " '/content/drive/MyDrive/image_224x224_no_augmentation/kaggle/working/processed/notumor/2306c391-320b-4dfd-a2cb-568b2dba5fdc.png',\n",
              " '/content/drive/MyDrive/image_224x224_no_augmentation/kaggle/working/processed/glioma/6dfb37e3-6bc6-4015-9b07-993fc1eade8d.png',\n",
              " '/content/drive/MyDrive/image_224x224_no_augmentation/kaggle/working/processed/pituitary/938fffab-1e36-455b-b289-f41f9027f50a.png',\n",
              " '/content/drive/MyDrive/image_224x224_no_augmentation/kaggle/working/processed/VeryMildDemented/044838e5-8c0f-40dc-a060-78078587c6e5.png',\n",
              " '/content/drive/MyDrive/image_224x224_no_augmentation/kaggle/working/processed/VeryMildDemented/825b7795-1670-4a4f-a854-5a357746c9ac.png',\n",
              " '/content/drive/MyDrive/image_224x224_no_augmentation/kaggle/working/processed/glioma/e2de8323-bd49-4a20-aa72-5fd3f4add801.png',\n",
              " '/content/drive/MyDrive/image_224x224_no_augmentation/kaggle/working/processed/glioma/028b6e16-8b0f-40b0-a627-b585da6acdd8.png',\n",
              " '/content/drive/MyDrive/image_224x224_no_augmentation/kaggle/working/processed/notumor/6d973324-471d-4857-8c13-e23b1ba21fe9.png',\n",
              " '/content/drive/MyDrive/image_224x224_no_augmentation/kaggle/working/processed/VeryMildDemented/77a823b4-f07d-4bd9-bf25-3bf083bbbf3e.png',\n",
              " '/content/drive/MyDrive/image_224x224_no_augmentation/kaggle/working/processed/VeryMildDemented/dcf8899e-71cb-4d6e-b195-5c46eae1f88d.png',\n",
              " '/content/drive/MyDrive/image_224x224_no_augmentation/kaggle/working/processed/pituitary/693112ae-4ab2-4a0c-9cc3-98f05f436f4d.png',\n",
              " '/content/drive/MyDrive/image_224x224_no_augmentation/kaggle/working/processed/NonDemented/bd7d92c4-dd50-49d0-a178-8b06c11ffb69.png',\n",
              " '/content/drive/MyDrive/image_224x224_no_augmentation/kaggle/working/processed/NonDemented/0848cce6-2c63-451c-a7ba-c711b90046f2.png',\n",
              " '/content/drive/MyDrive/image_224x224_no_augmentation/kaggle/working/processed/meningioma/45fac6b0-dddd-426f-9615-fc49bf642fe8.png',\n",
              " '/content/drive/MyDrive/image_224x224_no_augmentation/kaggle/working/processed/notumor/3206a4c4-625f-42c4-9b66-22295fcc6db7.png',\n",
              " '/content/drive/MyDrive/image_224x224_no_augmentation/kaggle/working/processed/NonDemented/6f49f3d4-ac59-43fd-8f3e-d6232c636504.png',\n",
              " '/content/drive/MyDrive/image_224x224_no_augmentation/kaggle/working/processed/pituitary/d440d143-23f1-4c1b-8fb7-a55630a3e23f.png',\n",
              " '/content/drive/MyDrive/image_224x224_no_augmentation/kaggle/working/processed/NonDemented/fd2bd20b-4594-418e-9b57-43e288f815d2.png',\n",
              " '/content/drive/MyDrive/image_224x224_no_augmentation/kaggle/working/processed/NonDemented/257c2aa6-31b1-4286-bb19-e62863ac7d7a.png',\n",
              " '/content/drive/MyDrive/image_224x224_no_augmentation/kaggle/working/processed/meningioma/84b8a837-b048-4aff-9180-14b167a01e9b.png',\n",
              " '/content/drive/MyDrive/image_224x224_no_augmentation/kaggle/working/processed/NonDemented/e5f65ca0-37ab-4db1-a3ae-68ee55318bb3.png',\n",
              " '/content/drive/MyDrive/image_224x224_no_augmentation/kaggle/working/processed/glioma/cc4d65e8-2fee-4aa2-a1e6-83599f5d7db1.png',\n",
              " '/content/drive/MyDrive/image_224x224_no_augmentation/kaggle/working/processed/pituitary/ab4045ec-686a-4b28-addf-b760b3046f12.png',\n",
              " '/content/drive/MyDrive/image_224x224_no_augmentation/kaggle/working/processed/MildDemented/a889e605-3257-4408-86af-bc2117ddb4e3.png',\n",
              " '/content/drive/MyDrive/image_224x224_no_augmentation/kaggle/working/processed/NonDemented/ce6cf082-d7e4-43a5-8ebd-79c1c50f0ab8.png',\n",
              " '/content/drive/MyDrive/image_224x224_no_augmentation/kaggle/working/processed/glioma/de7bed71-a023-4845-8126-6119da313917.png',\n",
              " '/content/drive/MyDrive/image_224x224_no_augmentation/kaggle/working/processed/meningioma/0fad220f-6fbc-4d81-b729-f2645e942b92.png',\n",
              " '/content/drive/MyDrive/image_224x224_no_augmentation/kaggle/working/processed/NonDemented/4e458765-470b-4540-8eb4-2887b87d4179.png',\n",
              " '/content/drive/MyDrive/image_224x224_no_augmentation/kaggle/working/processed/VeryMildDemented/f1e56347-c1a1-4b1a-b54b-3abbc20769e3.png',\n",
              " '/content/drive/MyDrive/image_224x224_no_augmentation/kaggle/working/processed/NonDemented/18963ef5-9399-482a-b259-5802a574c45a.png',\n",
              " '/content/drive/MyDrive/image_224x224_no_augmentation/kaggle/working/processed/NonDemented/95322cd4-8df7-47ee-98b3-412bbc329ad0.png',\n",
              " '/content/drive/MyDrive/image_224x224_no_augmentation/kaggle/working/processed/NonDemented/8fe51c87-ddef-421e-b75d-9992351e651e.png',\n",
              " '/content/drive/MyDrive/image_224x224_no_augmentation/kaggle/working/processed/glioma/c4d2c59b-14d0-47a3-b1df-4fa776b51c4f.png',\n",
              " '/content/drive/MyDrive/image_224x224_no_augmentation/kaggle/working/processed/pituitary/bbe361de-4951-4df5-8c98-31d11dbf6d4b.png',\n",
              " '/content/drive/MyDrive/image_224x224_no_augmentation/kaggle/working/processed/VeryMildDemented/36424902-6335-49b2-aa1c-a8489080c606.png',\n",
              " '/content/drive/MyDrive/image_224x224_no_augmentation/kaggle/working/processed/NonDemented/c522755e-514a-4b0f-8631-118680493620.png',\n",
              " '/content/drive/MyDrive/image_224x224_no_augmentation/kaggle/working/processed/glioma/242b84a0-76fd-4bfd-a2c2-595d50225e63.png',\n",
              " '/content/drive/MyDrive/image_224x224_no_augmentation/kaggle/working/processed/glioma/4c062194-e0c8-4e38-90fc-34edaed4493b.png',\n",
              " '/content/drive/MyDrive/image_224x224_no_augmentation/kaggle/working/processed/meningioma/f5c14a38-bf1e-4fd2-91f0-a2a1e0df3db4.png',\n",
              " '/content/drive/MyDrive/image_224x224_no_augmentation/kaggle/working/processed/meningioma/f7169997-a583-43f9-9184-adbb4b3df8f3.png',\n",
              " '/content/drive/MyDrive/image_224x224_no_augmentation/kaggle/working/processed/NonDemented/4c654c6f-5284-4a9e-ab1c-194700b76e65.png',\n",
              " '/content/drive/MyDrive/image_224x224_no_augmentation/kaggle/working/processed/meningioma/f5b6782d-8144-46eb-8b6f-e91bbbfbddf4.png',\n",
              " '/content/drive/MyDrive/image_224x224_no_augmentation/kaggle/working/processed/pituitary/17c73fca-ddf1-4d0a-98f3-f8dbc8d4d4fd.png',\n",
              " '/content/drive/MyDrive/image_224x224_no_augmentation/kaggle/working/processed/glioma/879b4ea1-b895-46e4-9394-b4d7a5d76c2c.png',\n",
              " '/content/drive/MyDrive/image_224x224_no_augmentation/kaggle/working/processed/glioma/d32eace8-521a-423c-af98-d2bf82262833.png',\n",
              " '/content/drive/MyDrive/image_224x224_no_augmentation/kaggle/working/processed/pituitary/0cb6817f-7976-4948-ba41-8b64262e7fc9.png',\n",
              " '/content/drive/MyDrive/image_224x224_no_augmentation/kaggle/working/processed/NonDemented/99093f0f-8dfc-4566-9b47-0d32d4408bdd.png',\n",
              " '/content/drive/MyDrive/image_224x224_no_augmentation/kaggle/working/processed/VeryMildDemented/31482c2f-1e9c-410f-958f-bc7a07ec7275.png',\n",
              " '/content/drive/MyDrive/image_224x224_no_augmentation/kaggle/working/processed/VeryMildDemented/2830b9b1-6b10-4df2-adab-0f6830c36e6d.png',\n",
              " '/content/drive/MyDrive/image_224x224_no_augmentation/kaggle/working/processed/VeryMildDemented/d885a1d1-72ae-4446-b571-600c5515a6d1.png',\n",
              " '/content/drive/MyDrive/image_224x224_no_augmentation/kaggle/working/processed/NonDemented/5db619e1-c427-49de-bfb0-a7bcdd8b80d1.png',\n",
              " '/content/drive/MyDrive/image_224x224_no_augmentation/kaggle/working/processed/VeryMildDemented/131f5f87-94d8-493e-88bb-e3cbf9ec1404.png',\n",
              " '/content/drive/MyDrive/image_224x224_no_augmentation/kaggle/working/processed/VeryMildDemented/93437b20-79ec-4883-ac3a-68f0bb01a58f.png',\n",
              " '/content/drive/MyDrive/image_224x224_no_augmentation/kaggle/working/processed/glioma/cb5c502e-9a18-4c3e-90a6-d1adde27cd2d.png',\n",
              " '/content/drive/MyDrive/image_224x224_no_augmentation/kaggle/working/processed/meningioma/86ff1ff3-772b-4d09-94d2-e4d17f953ea6.png',\n",
              " '/content/drive/MyDrive/image_224x224_no_augmentation/kaggle/working/processed/NonDemented/ae5fe613-1974-4f40-8306-1c0500a67401.png',\n",
              " '/content/drive/MyDrive/image_224x224_no_augmentation/kaggle/working/processed/meningioma/e1fa9f67-63d9-4358-89a9-de57418fc537.png',\n",
              " '/content/drive/MyDrive/image_224x224_no_augmentation/kaggle/working/processed/VeryMildDemented/62e40d14-1d0d-4bd5-a7c0-d29154999e50.png',\n",
              " '/content/drive/MyDrive/image_224x224_no_augmentation/kaggle/working/processed/notumor/8a6bfd01-49a3-49bf-a5cd-f166a8a1c7ce.png',\n",
              " '/content/drive/MyDrive/image_224x224_no_augmentation/kaggle/working/processed/notumor/41faff3c-6910-4191-a1d0-5e9a461f8798.png',\n",
              " '/content/drive/MyDrive/image_224x224_no_augmentation/kaggle/working/processed/glioma/d94aaeee-f818-4a64-a444-566c81c71e79.png',\n",
              " '/content/drive/MyDrive/image_224x224_no_augmentation/kaggle/working/processed/VeryMildDemented/bd734cc0-312c-4e1e-86ce-5b98080b234f.png',\n",
              " '/content/drive/MyDrive/image_224x224_no_augmentation/kaggle/working/processed/VeryMildDemented/d20a0bd8-bc26-4b67-a0e7-3729111004b9.png',\n",
              " '/content/drive/MyDrive/image_224x224_no_augmentation/kaggle/working/processed/NonDemented/6c806045-05e2-4b3b-b2e0-ddf92ebb90c5.png',\n",
              " '/content/drive/MyDrive/image_224x224_no_augmentation/kaggle/working/processed/VeryMildDemented/bb103139-90f2-4b0e-af5f-3ab8a14dd32e.png',\n",
              " '/content/drive/MyDrive/image_224x224_no_augmentation/kaggle/working/processed/glioma/853ce4d4-66d9-4d1c-9fa8-7f688505549f.png',\n",
              " '/content/drive/MyDrive/image_224x224_no_augmentation/kaggle/working/processed/meningioma/fd60eaff-cb75-496e-b28e-a2cc8d0b05ff.png',\n",
              " '/content/drive/MyDrive/image_224x224_no_augmentation/kaggle/working/processed/meningioma/1f84cd54-fad9-4b5b-81db-8368a0becae4.png',\n",
              " '/content/drive/MyDrive/image_224x224_no_augmentation/kaggle/working/processed/meningioma/fe699b90-648e-4825-8cfd-2b46bbd73598.png',\n",
              " '/content/drive/MyDrive/image_224x224_no_augmentation/kaggle/working/processed/meningioma/0127f889-a962-4c53-a096-9921760d3e3a.png',\n",
              " '/content/drive/MyDrive/image_224x224_no_augmentation/kaggle/working/processed/NonDemented/5e3eec0d-6197-486b-b96e-2b4905fcd019.png',\n",
              " '/content/drive/MyDrive/image_224x224_no_augmentation/kaggle/working/processed/VeryMildDemented/04981754-724d-49ab-b2c4-50f2c55f12c8.png',\n",
              " '/content/drive/MyDrive/image_224x224_no_augmentation/kaggle/working/processed/NonDemented/9d10307e-ba79-45ab-9605-a03d04635272.png',\n",
              " '/content/drive/MyDrive/image_224x224_no_augmentation/kaggle/working/processed/meningioma/74c4c48d-4a8a-4783-abe0-41def0813974.png',\n",
              " '/content/drive/MyDrive/image_224x224_no_augmentation/kaggle/working/processed/NonDemented/b310f788-fadd-44ee-ae83-3d20095f27cb.png',\n",
              " '/content/drive/MyDrive/image_224x224_no_augmentation/kaggle/working/processed/pituitary/6bfc2a40-ecbc-49ad-a7c4-01ecaa3700ae.png',\n",
              " '/content/drive/MyDrive/image_224x224_no_augmentation/kaggle/working/processed/VeryMildDemented/964f9b85-f43d-40d9-9978-a5ce388030a8.png',\n",
              " '/content/drive/MyDrive/image_224x224_no_augmentation/kaggle/working/processed/VeryMildDemented/876e3646-d705-46e6-b95e-df6df5dac0be.png',\n",
              " '/content/drive/MyDrive/image_224x224_no_augmentation/kaggle/working/processed/VeryMildDemented/60da0d99-3ce9-4745-85ec-9c166957205a.png',\n",
              " '/content/drive/MyDrive/image_224x224_no_augmentation/kaggle/working/processed/glioma/4be3ce09-9f39-43e5-8a58-2e5e86e9830b.png',\n",
              " '/content/drive/MyDrive/image_224x224_no_augmentation/kaggle/working/processed/VeryMildDemented/717ee123-3575-47f4-bd0f-c71504cac1fb.png',\n",
              " '/content/drive/MyDrive/image_224x224_no_augmentation/kaggle/working/processed/NonDemented/0f7e6325-dab6-4d9e-ba4c-45a870cc3910.png',\n",
              " '/content/drive/MyDrive/image_224x224_no_augmentation/kaggle/working/processed/glioma/7141344f-8230-435f-b541-860d8f68bcca.png',\n",
              " '/content/drive/MyDrive/image_224x224_no_augmentation/kaggle/working/processed/NonDemented/3961f354-a9e7-4de9-89fc-6e2c3f37f97f.png',\n",
              " '/content/drive/MyDrive/image_224x224_no_augmentation/kaggle/working/processed/pituitary/9001d9b0-df43-4ece-9078-e99c5b0eebcd.png',\n",
              " '/content/drive/MyDrive/image_224x224_no_augmentation/kaggle/working/processed/NonDemented/991ab2e7-56df-4ccc-b53b-07171865762e.png',\n",
              " '/content/drive/MyDrive/image_224x224_no_augmentation/kaggle/working/processed/NonDemented/2c9fdf0d-f527-4f5f-9f8c-4ab979c95df7.png',\n",
              " '/content/drive/MyDrive/image_224x224_no_augmentation/kaggle/working/processed/VeryMildDemented/9f7386a6-00d6-4268-9958-c6d62d3e278f.png',\n",
              " '/content/drive/MyDrive/image_224x224_no_augmentation/kaggle/working/processed/meningioma/3905746a-0894-42ba-a175-ec89547d24d5.png',\n",
              " '/content/drive/MyDrive/image_224x224_no_augmentation/kaggle/working/processed/pituitary/e3e2f5ef-e419-4433-9821-a13c6fbecd29.png',\n",
              " '/content/drive/MyDrive/image_224x224_no_augmentation/kaggle/working/processed/NonDemented/d0bcb4bd-af00-4d32-9f42-fb59e0851653.png',\n",
              " '/content/drive/MyDrive/image_224x224_no_augmentation/kaggle/working/processed/NonDemented/b47538d9-3233-48ce-a4ee-f6046872ed5e.png',\n",
              " '/content/drive/MyDrive/image_224x224_no_augmentation/kaggle/working/processed/MildDemented/835f5f9a-57d3-41f2-a31e-85a056078666.png',\n",
              " '/content/drive/MyDrive/image_224x224_no_augmentation/kaggle/working/processed/meningioma/81481854-2972-4515-81e4-446ac3e7e4e3.png',\n",
              " '/content/drive/MyDrive/image_224x224_no_augmentation/kaggle/working/processed/NonDemented/1d6fb6ae-97b8-477d-b51d-195b7afb2123.png',\n",
              " '/content/drive/MyDrive/image_224x224_no_augmentation/kaggle/working/processed/glioma/92fef962-a14b-4274-a4e2-8a8acf6bcb2a.png',\n",
              " '/content/drive/MyDrive/image_224x224_no_augmentation/kaggle/working/processed/VeryMildDemented/cf922d8e-d1c2-4afd-82f0-3717a2526840.png',\n",
              " '/content/drive/MyDrive/image_224x224_no_augmentation/kaggle/working/processed/glioma/e5bce385-bbb8-4703-8cb7-ee99d0ad00f9.png',\n",
              " '/content/drive/MyDrive/image_224x224_no_augmentation/kaggle/working/processed/pituitary/24e850c0-7e6c-4ac6-9d58-0b9bb148c3e3.png',\n",
              " '/content/drive/MyDrive/image_224x224_no_augmentation/kaggle/working/processed/meningioma/d6764be5-f300-4090-ac12-66f150fea584.png',\n",
              " '/content/drive/MyDrive/image_224x224_no_augmentation/kaggle/working/processed/NonDemented/573e6dbf-93c9-4e0e-964b-5a9c44be5451.png',\n",
              " '/content/drive/MyDrive/image_224x224_no_augmentation/kaggle/working/processed/notumor/0a8e16f4-37f9-4e20-be5f-22fef58ea2b3.png',\n",
              " '/content/drive/MyDrive/image_224x224_no_augmentation/kaggle/working/processed/MildDemented/cf93594e-df3c-4303-b17a-1b6fafc705bc.png',\n",
              " '/content/drive/MyDrive/image_224x224_no_augmentation/kaggle/working/processed/NonDemented/4a4eecb6-522d-4d22-843f-ec8ee0dee0bc.png',\n",
              " '/content/drive/MyDrive/image_224x224_no_augmentation/kaggle/working/processed/NonDemented/25bb3e7e-4d46-4cd0-b64e-6f26d67c68c3.png',\n",
              " '/content/drive/MyDrive/image_224x224_no_augmentation/kaggle/working/processed/meningioma/cfa4e039-1f8b-4904-ad1e-b5242d554e6d.png',\n",
              " '/content/drive/MyDrive/image_224x224_no_augmentation/kaggle/working/processed/notumor/9f4c8013-5ec7-4969-809f-537903eafa8b.png',\n",
              " '/content/drive/MyDrive/image_224x224_no_augmentation/kaggle/working/processed/notumor/7ca1e437-e0fe-40d8-898b-7be5cbc8093f.png',\n",
              " '/content/drive/MyDrive/image_224x224_no_augmentation/kaggle/working/processed/VeryMildDemented/bec9aafe-979f-4e08-8b91-20fa5d0905df.png',\n",
              " '/content/drive/MyDrive/image_224x224_no_augmentation/kaggle/working/processed/NonDemented/b047fec2-d56b-438c-b761-3e2979c50d08.png',\n",
              " '/content/drive/MyDrive/image_224x224_no_augmentation/kaggle/working/processed/NonDemented/c7d52aa0-dea5-4310-8700-2a885edf8da2.png',\n",
              " '/content/drive/MyDrive/image_224x224_no_augmentation/kaggle/working/processed/notumor/b160a3e4-9a3b-4d2c-b784-a3c7188ca097.png',\n",
              " '/content/drive/MyDrive/image_224x224_no_augmentation/kaggle/working/processed/glioma/e44b2f26-3fec-458a-ae45-f766285f734a.png',\n",
              " '/content/drive/MyDrive/image_224x224_no_augmentation/kaggle/working/processed/MildDemented/5d99dd2c-8034-4d40-97d8-33e9dec72e46.png',\n",
              " '/content/drive/MyDrive/image_224x224_no_augmentation/kaggle/working/processed/NonDemented/d1aeb3f3-ed0f-49ef-9cbb-c39688abfeed.png',\n",
              " '/content/drive/MyDrive/image_224x224_no_augmentation/kaggle/working/processed/pituitary/f02f8dc4-b0a9-4ace-8713-b55ee8eed2b8.png',\n",
              " '/content/drive/MyDrive/image_224x224_no_augmentation/kaggle/working/processed/NonDemented/c3bcc761-7c42-43bb-ac7a-a7a8ef13725f.png',\n",
              " '/content/drive/MyDrive/image_224x224_no_augmentation/kaggle/working/processed/pituitary/2d509152-e4f8-4d96-bbf1-5f60556366f1.png',\n",
              " '/content/drive/MyDrive/image_224x224_no_augmentation/kaggle/working/processed/notumor/7cefe487-7329-45e8-b9ad-8c56aafbf89e.png',\n",
              " '/content/drive/MyDrive/image_224x224_no_augmentation/kaggle/working/processed/glioma/f3300d72-df56-444e-bc11-9ad6e07bede3.png',\n",
              " '/content/drive/MyDrive/image_224x224_no_augmentation/kaggle/working/processed/NonDemented/622c0de1-1262-4c16-9a91-95ac8bb20214.png',\n",
              " '/content/drive/MyDrive/image_224x224_no_augmentation/kaggle/working/processed/notumor/94e78e8e-8d01-4172-be84-6a5b01764979.png',\n",
              " '/content/drive/MyDrive/image_224x224_no_augmentation/kaggle/working/processed/MildDemented/5de46c17-a384-4d49-8adc-612496463e4a.png',\n",
              " '/content/drive/MyDrive/image_224x224_no_augmentation/kaggle/working/processed/meningioma/b4b2b8e0-b29d-4c10-8f84-153c81df3127.png',\n",
              " '/content/drive/MyDrive/image_224x224_no_augmentation/kaggle/working/processed/pituitary/e68c62ff-6f1a-4656-8371-c4aada4415d7.png',\n",
              " '/content/drive/MyDrive/image_224x224_no_augmentation/kaggle/working/processed/meningioma/cb226c14-6451-4349-9ca2-f88070868ac8.png',\n",
              " '/content/drive/MyDrive/image_224x224_no_augmentation/kaggle/working/processed/VeryMildDemented/3e3a5116-05ba-4fc5-9ca5-27708816b716.png',\n",
              " '/content/drive/MyDrive/image_224x224_no_augmentation/kaggle/working/processed/meningioma/2bcb1b82-56bc-4903-8202-2fcec0db617d.png',\n",
              " '/content/drive/MyDrive/image_224x224_no_augmentation/kaggle/working/processed/glioma/394cd081-cac4-42be-b806-a22518251a19.png',\n",
              " '/content/drive/MyDrive/image_224x224_no_augmentation/kaggle/working/processed/meningioma/08c50c6c-12e0-4ae2-bdcd-a00bfb89560c.png',\n",
              " '/content/drive/MyDrive/image_224x224_no_augmentation/kaggle/working/processed/meningioma/89851ab1-7d15-4273-964a-4d21d1c15a1b.png',\n",
              " '/content/drive/MyDrive/image_224x224_no_augmentation/kaggle/working/processed/NonDemented/057f093b-e9ec-4ee3-9413-11bcc9377e72.png',\n",
              " '/content/drive/MyDrive/image_224x224_no_augmentation/kaggle/working/processed/pituitary/3b8c2c8a-1c9f-4978-919c-7a3bfbfdaed9.png',\n",
              " '/content/drive/MyDrive/image_224x224_no_augmentation/kaggle/working/processed/NonDemented/5f5b2235-f3f3-4459-ba15-0649c7dd8928.png',\n",
              " ...]"
            ]
          },
          "metadata": {},
          "execution_count": 30
        }
      ],
      "source": [
        "x_test"
      ]
    },
    {
      "cell_type": "code",
      "execution_count": null,
      "metadata": {
        "id": "tM66Kbe0yyTM"
      },
      "outputs": [],
      "source": [
        "def create_data_batches(x, y=None, batch_size=BATCH_SIZE, valid_data=False, test_data=False):\n",
        "    if test_data:\n",
        "        print(\"Creating test data batches...\")\n",
        "        data = tf.data.Dataset.from_tensor_slices((tf.constant(x)))\n",
        "        data = data.map(preprocess_test)\n",
        "        data = data.batch(batch_size)\n",
        "        return data\n",
        "\n",
        "    elif valid_data:\n",
        "        print(\"Creating validation data batches...\")\n",
        "        y=converting_labels_to_tensor(y)\n",
        "        data = tf.data.Dataset.from_tensor_slices((tf.constant(x), tf.constant(y)))\n",
        "        data = data.shuffle(buffer_size=len(x))\n",
        "        data = data.map(preprocess)\n",
        "        data = data.batch(batch_size)\n",
        "        return data\n",
        "\n",
        "    else:\n",
        "        print(\"Creating training data batches...\")\n",
        "        y=converting_labels_to_tensor(y)\n",
        "        data = tf.data.Dataset.from_tensor_slices((tf.constant(x), tf.constant(y)))\n",
        "        data = data.shuffle(buffer_size=len(x))\n",
        "        data = data.map(preprocess)\n",
        "        data = data.batch(batch_size)\n",
        "        return data\n"
      ]
    },
    {
      "cell_type": "code",
      "execution_count": null,
      "metadata": {
        "colab": {
          "base_uri": "https://localhost:8080/"
        },
        "id": "hkJqiZWsy2Rc",
        "outputId": "ed0c42cb-f5a5-4844-8f13-08d68bf1a946"
      },
      "outputs": [
        {
          "output_type": "stream",
          "name": "stdout",
          "text": [
            "Creating training data batches...\n",
            "Creating validation data batches...\n",
            "Creating test data batches...\n"
          ]
        }
      ],
      "source": [
        "train_data=create_data_batches(x_train,y_train)\n",
        "val_data=create_data_batches(x_val,y_val,valid_data=True)\n",
        "test_data=create_data_batches(x_test,test_data=True)"
      ]
    },
    {
      "cell_type": "code",
      "source": [
        "def string_to_number(data):\n",
        "  num=[]\n",
        "  for i in data:\n",
        "    num.append(dict_label[i])\n",
        "  return num"
      ],
      "metadata": {
        "id": "SfppEbi56v6f"
      },
      "execution_count": null,
      "outputs": []
    },
    {
      "cell_type": "code",
      "source": [
        "y_test=string_to_number(y_test)"
      ],
      "metadata": {
        "id": "oydriX2H6uQK"
      },
      "execution_count": null,
      "outputs": []
    },
    {
      "cell_type": "code",
      "source": [
        "y_test"
      ],
      "metadata": {
        "id": "4XSpSBLt7BsG",
        "colab": {
          "base_uri": "https://localhost:8080/"
        },
        "outputId": "5f1139bc-9483-4067-fb12-7e978d9054c0"
      },
      "execution_count": null,
      "outputs": [
        {
          "output_type": "execute_result",
          "data": {
            "text/plain": [
              "[5,\n",
              " 4,\n",
              " 6,\n",
              " 3,\n",
              " 4,\n",
              " 2,\n",
              " 4,\n",
              " 4,\n",
              " 0,\n",
              " 0,\n",
              " 2,\n",
              " 3,\n",
              " 6,\n",
              " 3,\n",
              " 6,\n",
              " 2,\n",
              " 6,\n",
              " 0,\n",
              " 2,\n",
              " 2,\n",
              " 0,\n",
              " 3,\n",
              " 2,\n",
              " 2,\n",
              " 5,\n",
              " 7,\n",
              " 5,\n",
              " 2,\n",
              " 6,\n",
              " 3,\n",
              " 3,\n",
              " 3,\n",
              " 4,\n",
              " 4,\n",
              " 2,\n",
              " 2,\n",
              " 2,\n",
              " 2,\n",
              " 4,\n",
              " 5,\n",
              " 3,\n",
              " 4,\n",
              " 4,\n",
              " 0,\n",
              " 6,\n",
              " 0,\n",
              " 0,\n",
              " 2,\n",
              " 3,\n",
              " 3,\n",
              " 7,\n",
              " 0,\n",
              " 4,\n",
              " 0,\n",
              " 2,\n",
              " 3,\n",
              " 2,\n",
              " 3,\n",
              " 7,\n",
              " 2,\n",
              " 2,\n",
              " 6,\n",
              " 0,\n",
              " 4,\n",
              " 2,\n",
              " 4,\n",
              " 4,\n",
              " 4,\n",
              " 5,\n",
              " 7,\n",
              " 6,\n",
              " 5,\n",
              " 7,\n",
              " 5,\n",
              " 3,\n",
              " 0,\n",
              " 4,\n",
              " 5,\n",
              " 5,\n",
              " 3,\n",
              " 2,\n",
              " 2,\n",
              " 5,\n",
              " 3,\n",
              " 7,\n",
              " 2,\n",
              " 6,\n",
              " 3,\n",
              " 3,\n",
              " 5,\n",
              " 7,\n",
              " 0,\n",
              " 5,\n",
              " 0,\n",
              " 7,\n",
              " 5,\n",
              " 2,\n",
              " 7,\n",
              " 4,\n",
              " 7,\n",
              " 5,\n",
              " 4,\n",
              " 4,\n",
              " 0,\n",
              " 5,\n",
              " 3,\n",
              " 7,\n",
              " 1,\n",
              " 6,\n",
              " 2,\n",
              " 4,\n",
              " 2,\n",
              " 6,\n",
              " 7,\n",
              " 7,\n",
              " 7,\n",
              " 4,\n",
              " 5,\n",
              " 2,\n",
              " 7,\n",
              " 2,\n",
              " 7,\n",
              " 6,\n",
              " 4,\n",
              " 4,\n",
              " 3,\n",
              " 4,\n",
              " 4,\n",
              " 7,\n",
              " 2,\n",
              " 1,\n",
              " 6,\n",
              " 2,\n",
              " 2,\n",
              " 3,\n",
              " 5,\n",
              " 5,\n",
              " 2,\n",
              " 2,\n",
              " 3,\n",
              " 4,\n",
              " 7,\n",
              " 3,\n",
              " 5,\n",
              " 4,\n",
              " 3,\n",
              " 2,\n",
              " 3,\n",
              " 3,\n",
              " 2,\n",
              " 2,\n",
              " 2,\n",
              " 2,\n",
              " 3,\n",
              " 4,\n",
              " 4,\n",
              " 5,\n",
              " 2,\n",
              " 6,\n",
              " 5,\n",
              " 0,\n",
              " 3,\n",
              " 4,\n",
              " 6,\n",
              " 7,\n",
              " 5,\n",
              " 5,\n",
              " 4,\n",
              " 7,\n",
              " 2,\n",
              " 2,\n",
              " 4,\n",
              " 3,\n",
              " 5,\n",
              " 2,\n",
              " 0,\n",
              " 2,\n",
              " 5,\n",
              " 6,\n",
              " 7,\n",
              " 3,\n",
              " 0,\n",
              " 2,\n",
              " 7,\n",
              " 3,\n",
              " 2,\n",
              " 2,\n",
              " 4,\n",
              " 3,\n",
              " 4,\n",
              " 2,\n",
              " 5,\n",
              " 3,\n",
              " 2,\n",
              " 4,\n",
              " 5,\n",
              " 7,\n",
              " 5,\n",
              " 3,\n",
              " 2,\n",
              " 7,\n",
              " 5,\n",
              " 5,\n",
              " 7,\n",
              " 0,\n",
              " 2,\n",
              " 3,\n",
              " 0,\n",
              " 5,\n",
              " 5,\n",
              " 6,\n",
              " 2,\n",
              " 5,\n",
              " 4,\n",
              " 3,\n",
              " 2,\n",
              " 5,\n",
              " 7,\n",
              " 2,\n",
              " 6,\n",
              " 5,\n",
              " 7,\n",
              " 5,\n",
              " 7,\n",
              " 4,\n",
              " 4,\n",
              " 2,\n",
              " 4,\n",
              " 7,\n",
              " 6,\n",
              " 6,\n",
              " 4,\n",
              " 3,\n",
              " 7,\n",
              " 2,\n",
              " 4,\n",
              " 2,\n",
              " 5,\n",
              " 0,\n",
              " 3,\n",
              " 5,\n",
              " 4,\n",
              " 0,\n",
              " 7,\n",
              " 7,\n",
              " 4,\n",
              " 4,\n",
              " 2,\n",
              " 2,\n",
              " 3,\n",
              " 2,\n",
              " 2,\n",
              " 5,\n",
              " 7,\n",
              " 4,\n",
              " 2,\n",
              " 5,\n",
              " 4,\n",
              " 4,\n",
              " 7,\n",
              " 4,\n",
              " 5,\n",
              " 2,\n",
              " 6,\n",
              " 3,\n",
              " 0,\n",
              " 7,\n",
              " 4,\n",
              " 2,\n",
              " 2,\n",
              " 4,\n",
              " 5,\n",
              " 3,\n",
              " 2,\n",
              " 6,\n",
              " 6,\n",
              " 5,\n",
              " 2,\n",
              " 0,\n",
              " 3,\n",
              " 7,\n",
              " 2,\n",
              " 5,\n",
              " 5,\n",
              " 6,\n",
              " 4,\n",
              " 2,\n",
              " 2,\n",
              " 2,\n",
              " 3,\n",
              " 7,\n",
              " 3,\n",
              " 6,\n",
              " 6,\n",
              " 2,\n",
              " 4,\n",
              " 2,\n",
              " 4,\n",
              " 2,\n",
              " 3,\n",
              " 4,\n",
              " 3,\n",
              " 2,\n",
              " 7,\n",
              " 2,\n",
              " 0,\n",
              " 3,\n",
              " 3,\n",
              " 5,\n",
              " 2,\n",
              " 0,\n",
              " 0,\n",
              " 3,\n",
              " 2,\n",
              " 2,\n",
              " 2,\n",
              " 4,\n",
              " 5,\n",
              " 4,\n",
              " 3,\n",
              " 7,\n",
              " 2,\n",
              " 3,\n",
              " 5,\n",
              " 6,\n",
              " 3,\n",
              " 2,\n",
              " 3,\n",
              " 3,\n",
              " 2,\n",
              " 3,\n",
              " 6,\n",
              " 2,\n",
              " 4,\n",
              " 0,\n",
              " 3,\n",
              " 6,\n",
              " 4,\n",
              " 3,\n",
              " 2,\n",
              " 2,\n",
              " 3,\n",
              " 6,\n",
              " 4,\n",
              " 3,\n",
              " 5,\n",
              " 3,\n",
              " 4,\n",
              " 5,\n",
              " 4,\n",
              " 7,\n",
              " 7,\n",
              " 2,\n",
              " 4,\n",
              " 3,\n",
              " 7,\n",
              " 3,\n",
              " 3,\n",
              " 2,\n",
              " 5,\n",
              " 3,\n",
              " 3,\n",
              " 4,\n",
              " 2,\n",
              " 5,\n",
              " 3,\n",
              " 4,\n",
              " 7,\n",
              " 7,\n",
              " 7,\n",
              " 6,\n",
              " 3,\n",
              " 2,\n",
              " 4,\n",
              " 5,\n",
              " 7,\n",
              " 6,\n",
              " 3,\n",
              " 2,\n",
              " 4,\n",
              " 3,\n",
              " 4,\n",
              " 2,\n",
              " 2,\n",
              " 7,\n",
              " 4,\n",
              " 4,\n",
              " 3,\n",
              " 7,\n",
              " 7,\n",
              " 7,\n",
              " 6,\n",
              " 4,\n",
              " 2,\n",
              " 4,\n",
              " 0,\n",
              " 6,\n",
              " 2,\n",
              " 0,\n",
              " 4,\n",
              " 6,\n",
              " 0,\n",
              " 7,\n",
              " 2,\n",
              " 3,\n",
              " 5,\n",
              " 4,\n",
              " 7,\n",
              " 5,\n",
              " 3,\n",
              " 7,\n",
              " 2,\n",
              " 2,\n",
              " 5,\n",
              " 0,\n",
              " 4,\n",
              " 4,\n",
              " 6,\n",
              " 2,\n",
              " 2,\n",
              " 7,\n",
              " 2,\n",
              " 2,\n",
              " 3,\n",
              " 0,\n",
              " 2,\n",
              " 5,\n",
              " 7,\n",
              " 2,\n",
              " 4,\n",
              " 3,\n",
              " 2,\n",
              " 4,\n",
              " 3,\n",
              " 3,\n",
              " 2,\n",
              " 2,\n",
              " 2,\n",
              " 0,\n",
              " 4,\n",
              " 7,\n",
              " 5,\n",
              " 3,\n",
              " 3,\n",
              " 2,\n",
              " 6,\n",
              " 7,\n",
              " 3,\n",
              " 4,\n",
              " 3,\n",
              " 7,\n",
              " 2,\n",
              " 5,\n",
              " 3,\n",
              " 2,\n",
              " 2,\n",
              " 3,\n",
              " 5,\n",
              " 1,\n",
              " 5,\n",
              " 4,\n",
              " 2,\n",
              " 4,\n",
              " 7,\n",
              " 4,\n",
              " 2,\n",
              " 4,\n",
              " 2,\n",
              " 3,\n",
              " 3,\n",
              " 7,\n",
              " 7,\n",
              " 2,\n",
              " 4,\n",
              " 2,\n",
              " 5,\n",
              " 3,\n",
              " 7,\n",
              " 3,\n",
              " 5,\n",
              " 2,\n",
              " 5,\n",
              " 5,\n",
              " 2,\n",
              " 7,\n",
              " 6,\n",
              " 2,\n",
              " 3,\n",
              " 2,\n",
              " 7,\n",
              " 4,\n",
              " 3,\n",
              " 6,\n",
              " 4,\n",
              " 5,\n",
              " 0,\n",
              " 2,\n",
              " 0,\n",
              " 4,\n",
              " 5,\n",
              " 0,\n",
              " 3,\n",
              " 2,\n",
              " 3,\n",
              " 2,\n",
              " 4,\n",
              " 7,\n",
              " 2,\n",
              " 2,\n",
              " 2,\n",
              " 4,\n",
              " 0,\n",
              " 4,\n",
              " 6,\n",
              " 2,\n",
              " 2,\n",
              " 5,\n",
              " 3,\n",
              " 4,\n",
              " 3,\n",
              " 2,\n",
              " 7,\n",
              " 0,\n",
              " 4,\n",
              " 2,\n",
              " 5,\n",
              " 2,\n",
              " 5,\n",
              " 3,\n",
              " 5,\n",
              " 7,\n",
              " 0,\n",
              " 6,\n",
              " 7,\n",
              " 6,\n",
              " 3,\n",
              " 6,\n",
              " 2,\n",
              " 2,\n",
              " 4,\n",
              " 7,\n",
              " 2,\n",
              " 4,\n",
              " 2,\n",
              " 4,\n",
              " 6,\n",
              " 7,\n",
              " 2,\n",
              " 2,\n",
              " 4,\n",
              " 5,\n",
              " 0,\n",
              " 5,\n",
              " 3,\n",
              " 6,\n",
              " 0,\n",
              " 0,\n",
              " 7,\n",
              " 4,\n",
              " 2,\n",
              " 3,\n",
              " 6,\n",
              " 5,\n",
              " 4,\n",
              " 2,\n",
              " 7,\n",
              " 2,\n",
              " 5,\n",
              " 4,\n",
              " 4,\n",
              " 5,\n",
              " 6,\n",
              " 3,\n",
              " 2,\n",
              " 7,\n",
              " 7,\n",
              " 2,\n",
              " 0,\n",
              " 4,\n",
              " 2,\n",
              " 5,\n",
              " 7,\n",
              " 7,\n",
              " 4,\n",
              " 2,\n",
              " 7,\n",
              " 0,\n",
              " 2,\n",
              " 2,\n",
              " 3,\n",
              " 6,\n",
              " 4,\n",
              " 5,\n",
              " 5,\n",
              " 0,\n",
              " 6,\n",
              " 4,\n",
              " 3,\n",
              " 4,\n",
              " 7,\n",
              " 2,\n",
              " 4,\n",
              " 2,\n",
              " 3,\n",
              " 5,\n",
              " 6,\n",
              " 5,\n",
              " 2,\n",
              " 5,\n",
              " 7,\n",
              " 3,\n",
              " 5,\n",
              " 0,\n",
              " 5,\n",
              " 2,\n",
              " 3,\n",
              " 3,\n",
              " 2,\n",
              " 2,\n",
              " 3,\n",
              " 2,\n",
              " 3,\n",
              " 2,\n",
              " 2,\n",
              " 5,\n",
              " 2,\n",
              " 3,\n",
              " 5,\n",
              " 2,\n",
              " 6,\n",
              " 4,\n",
              " 6,\n",
              " 6,\n",
              " 7,\n",
              " 5,\n",
              " 0,\n",
              " 2,\n",
              " 7,\n",
              " 2,\n",
              " 0,\n",
              " 2,\n",
              " 4,\n",
              " 2,\n",
              " 4,\n",
              " 2,\n",
              " 5,\n",
              " 3,\n",
              " 5,\n",
              " 6,\n",
              " 2,\n",
              " 6,\n",
              " 2,\n",
              " 2,\n",
              " 7,\n",
              " 0,\n",
              " 6,\n",
              " 5,\n",
              " 7,\n",
              " 4,\n",
              " 2,\n",
              " 5,\n",
              " 3,\n",
              " 2,\n",
              " 3,\n",
              " 7,\n",
              " 3,\n",
              " 6,\n",
              " 7,\n",
              " 2,\n",
              " 5,\n",
              " 3,\n",
              " 6,\n",
              " 4,\n",
              " 2,\n",
              " 5,\n",
              " 7,\n",
              " 5,\n",
              " 2,\n",
              " 5,\n",
              " 7,\n",
              " 2,\n",
              " 2,\n",
              " 5,\n",
              " 7,\n",
              " 6,\n",
              " 4,\n",
              " 6,\n",
              " 0,\n",
              " 2,\n",
              " 4,\n",
              " 7,\n",
              " 4,\n",
              " 3,\n",
              " 7,\n",
              " 3,\n",
              " 5,\n",
              " 3,\n",
              " 2,\n",
              " 7,\n",
              " 4,\n",
              " 2,\n",
              " 2,\n",
              " 0,\n",
              " 4,\n",
              " 7,\n",
              " 3,\n",
              " 4,\n",
              " 0,\n",
              " 3,\n",
              " 0,\n",
              " 2,\n",
              " 7,\n",
              " 1,\n",
              " 3,\n",
              " 3,\n",
              " 0,\n",
              " 6,\n",
              " 2,\n",
              " 5,\n",
              " 5,\n",
              " 6,\n",
              " 5,\n",
              " 2,\n",
              " 5,\n",
              " 4,\n",
              " 3,\n",
              " 2,\n",
              " 3,\n",
              " 7,\n",
              " 6,\n",
              " 2,\n",
              " 5,\n",
              " 0,\n",
              " 6,\n",
              " 2,\n",
              " 4,\n",
              " 4,\n",
              " 3,\n",
              " 6,\n",
              " 6,\n",
              " 3,\n",
              " 4,\n",
              " 3,\n",
              " 0,\n",
              " 7,\n",
              " 5,\n",
              " 2,\n",
              " 7,\n",
              " 2,\n",
              " 2,\n",
              " 0,\n",
              " 3,\n",
              " 5,\n",
              " 4,\n",
              " 5,\n",
              " 5,\n",
              " 2,\n",
              " 4,\n",
              " 3,\n",
              " 6,\n",
              " 3,\n",
              " 5,\n",
              " 4,\n",
              " 3,\n",
              " 5,\n",
              " 7,\n",
              " 5,\n",
              " 7,\n",
              " 4,\n",
              " 7,\n",
              " 5,\n",
              " 5,\n",
              " 0,\n",
              " 4,\n",
              " 2,\n",
              " 2,\n",
              " 3,\n",
              " 2,\n",
              " 0,\n",
              " 2,\n",
              " 2,\n",
              " 2,\n",
              " 6,\n",
              " 4,\n",
              " 5,\n",
              " 7,\n",
              " 5,\n",
              " 3,\n",
              " 4,\n",
              " 4,\n",
              " 4,\n",
              " 3,\n",
              " 2,\n",
              " 4,\n",
              " 3,\n",
              " 4,\n",
              " 2,\n",
              " 2,\n",
              " 3,\n",
              " 2,\n",
              " 6,\n",
              " 7,\n",
              " 4,\n",
              " 4,\n",
              " 4,\n",
              " 7,\n",
              " 3,\n",
              " 2,\n",
              " 4,\n",
              " 5,\n",
              " 5,\n",
              " 6,\n",
              " 5,\n",
              " 7,\n",
              " 6,\n",
              " 5,\n",
              " 4,\n",
              " 2,\n",
              " 2,\n",
              " 6,\n",
              " 3,\n",
              " 3,\n",
              " 4,\n",
              " 7,\n",
              " 3,\n",
              " 2,\n",
              " 2,\n",
              " 7,\n",
              " 7,\n",
              " 2,\n",
              " 2,\n",
              " 2,\n",
              " 5,\n",
              " 2,\n",
              " 2,\n",
              " 2,\n",
              " 2,\n",
              " 4,\n",
              " 2,\n",
              " 1,\n",
              " 2,\n",
              " 3,\n",
              " 4,\n",
              " 5,\n",
              " 2,\n",
              " 2,\n",
              " 7,\n",
              " 2,\n",
              " 4,\n",
              " 4,\n",
              " 7,\n",
              " 4,\n",
              " 2,\n",
              " 7,\n",
              " 3,\n",
              " 6,\n",
              " 0,\n",
              " 4,\n",
              " 7,\n",
              " 6,\n",
              " 7,\n",
              " 2,\n",
              " 2,\n",
              " 3,\n",
              " 7,\n",
              " 3,\n",
              " 6,\n",
              " 4,\n",
              " 7,\n",
              " 3,\n",
              " 3,\n",
              " 4,\n",
              " 4,\n",
              " 6,\n",
              " 3,\n",
              " 3,\n",
              " 7,\n",
              " 2,\n",
              " 2,\n",
              " 5,\n",
              " 6,\n",
              " 2,\n",
              " 7,\n",
              " 2,\n",
              " 2,\n",
              " 5,\n",
              " 2,\n",
              " 4,\n",
              " 7,\n",
              " 0,\n",
              " 2,\n",
              " 4,\n",
              " 5,\n",
              " 2,\n",
              " 3,\n",
              " 2,\n",
              " 2,\n",
              " 2,\n",
              " 4,\n",
              " 7,\n",
              " 3,\n",
              " 2,\n",
              " 4,\n",
              " 4,\n",
              " 5,\n",
              " 5,\n",
              " 2,\n",
              " 5,\n",
              " 7,\n",
              " 4,\n",
              " 4,\n",
              " 7,\n",
              " 2,\n",
              " 3,\n",
              " 3,\n",
              " 3,\n",
              " 2,\n",
              " 3,\n",
              " 3,\n",
              " 4,\n",
              " 5,\n",
              " 2,\n",
              " 5,\n",
              " 3,\n",
              " 6,\n",
              " 6,\n",
              " 4,\n",
              " 3,\n",
              " 3,\n",
              " 2,\n",
              " 3,\n",
              " 4,\n",
              " 5,\n",
              " 5,\n",
              " 5,\n",
              " 5,\n",
              " 2,\n",
              " 3,\n",
              " 2,\n",
              " 5,\n",
              " 2,\n",
              " 7,\n",
              " 3,\n",
              " 3,\n",
              " 3,\n",
              " 4,\n",
              " 3,\n",
              " 2,\n",
              " 4,\n",
              " 2,\n",
              " 7,\n",
              " 2,\n",
              " 2,\n",
              " 3,\n",
              " 5,\n",
              " 7,\n",
              " 2,\n",
              " 2,\n",
              " 0,\n",
              " 5,\n",
              " 2,\n",
              " 4,\n",
              " 3,\n",
              " 4,\n",
              " 7,\n",
              " 5,\n",
              " 2,\n",
              " 6,\n",
              " 0,\n",
              " 2,\n",
              " 2,\n",
              " 5,\n",
              " 6,\n",
              " 6,\n",
              " 3,\n",
              " 2,\n",
              " 2,\n",
              " 6,\n",
              " 4,\n",
              " 0,\n",
              " 2,\n",
              " 7,\n",
              " 2,\n",
              " 7,\n",
              " 6,\n",
              " 4,\n",
              " 2,\n",
              " 6,\n",
              " 0,\n",
              " 5,\n",
              " 7,\n",
              " 5,\n",
              " 3,\n",
              " 5,\n",
              " 4,\n",
              " 5,\n",
              " 5,\n",
              " 2,\n",
              " 7,\n",
              " 2,\n",
              " ...]"
            ]
          },
          "metadata": {},
          "execution_count": 35
        }
      ]
    },
    {
      "cell_type": "code",
      "execution_count": null,
      "metadata": {
        "id": "TjLn261U1U4p",
        "colab": {
          "base_uri": "https://localhost:8080/"
        },
        "outputId": "c59226d0-6dc4-4432-9b97-c93e57d01a63"
      },
      "outputs": [
        {
          "output_type": "execute_result",
          "data": {
            "text/plain": [
              "<_BatchDataset element_spec=(TensorSpec(shape=(None, 224, 224, 3), dtype=tf.float32, name=None), TensorSpec(shape=(None,), dtype=tf.int32, name=None))>"
            ]
          },
          "metadata": {},
          "execution_count": 36
        }
      ],
      "source": [
        "train_data\n",
        "\n"
      ]
    },
    {
      "cell_type": "code",
      "execution_count": null,
      "metadata": {
        "id": "3JsSYONtIcS_",
        "colab": {
          "base_uri": "https://localhost:8080/"
        },
        "outputId": "96b7333d-d7a7-4f30-e5dc-4c9a65ab6b7c"
      },
      "outputs": [
        {
          "output_type": "execute_result",
          "data": {
            "text/plain": [
              "<_BatchDataset element_spec=(TensorSpec(shape=(None, 224, 224, 3), dtype=tf.float32, name=None), TensorSpec(shape=(None,), dtype=tf.int32, name=None))>"
            ]
          },
          "metadata": {},
          "execution_count": 37
        }
      ],
      "source": [
        "val_data"
      ]
    },
    {
      "cell_type": "code",
      "source": [
        "test_data"
      ],
      "metadata": {
        "id": "4SDshHP_4sGG",
        "colab": {
          "base_uri": "https://localhost:8080/"
        },
        "outputId": "dd1a944c-70a1-4ef4-fe1a-4e0ce9bd2ba5"
      },
      "execution_count": null,
      "outputs": [
        {
          "output_type": "execute_result",
          "data": {
            "text/plain": [
              "<_BatchDataset element_spec=TensorSpec(shape=(None, 224, 224, 3), dtype=tf.float32, name=None)>"
            ]
          },
          "metadata": {},
          "execution_count": 38
        }
      ]
    },
    {
      "cell_type": "markdown",
      "metadata": {
        "id": "3xKBG3N25LIS"
      },
      "source": [
        "Model urls"
      ]
    },
    {
      "cell_type": "code",
      "execution_count": null,
      "metadata": {
        "id": "Na_sGaex5MnC",
        "colab": {
          "base_uri": "https://localhost:8080/",
          "height": 52
        },
        "outputId": "d1e33647-0793-4cb0-c0a3-3f74dd32d37b"
      },
      "outputs": [
        {
          "output_type": "execute_result",
          "data": {
            "text/plain": [
              "\"tf.keras.applications.densenet.DenseNet201(\\n    include_top=True,\\n    weights='imagenet',\\n    input_tensor=None,\\n    input_shape=None,\\n    pooling=None,\\n    classes=1000,\\n    classifier_activation='softmax'\\n)\""
            ],
            "application/vnd.google.colaboratory.intrinsic+json": {
              "type": "string"
            }
          },
          "metadata": {},
          "execution_count": 39
        }
      ],
      "source": [
        "#Resnet\n",
        "\"\"\"tf.keras.applications.resnet.ResNet152(\n",
        "    include_top=True,\n",
        "    weights='imagenet',\n",
        "    input_tensor=None,\n",
        "    input_shape=None,\n",
        "    pooling=None,\n",
        "    classes=1000,\n",
        "    **kwargs\n",
        ") \"\"\"\n",
        "\n",
        "#inception\n",
        "\"\"\"tf.keras.applications.inception_v3.InceptionV3(\n",
        "    include_top=True,\n",
        "    weights='imagenet',\n",
        "    input_tensor=None,\n",
        "    input_shape=None,\n",
        "    pooling=None,\n",
        "    classes=1000,\n",
        "    classifier_activation='softmax'\n",
        ")\"\"\"\n",
        "\n",
        "#Xception\n",
        "\"\"\"tf.keras.applications.xception.Xception(\n",
        "    include_top=True,\n",
        "    weights='imagenet',\n",
        "    input_tensor=None,\n",
        "    input_shape=None,\n",
        "    pooling=None,\n",
        "    classes=1000,\n",
        "    classifier_activation='softmax'\n",
        ")\"\"\"\n",
        "\n",
        "#Nasnet\n",
        "\n",
        "\"\"\"tf.keras.applications.nasnet.NASNetLarge(\n",
        "    input_shape=None,\n",
        "    include_top=True,\n",
        "    weights='imagenet',\n",
        "    input_tensor=None,\n",
        "    pooling=None,\n",
        "    classes=1000,\n",
        "    classifier_activation='softmax'\n",
        ")\"\"\"\n",
        "#Mobilenet\n",
        "\"\"\"tf.keras.applications.MobileNetV3Large(\n",
        "    input_shape=None,\n",
        "    alpha=1.0,\n",
        "    minimalistic=False,\n",
        "    include_top=True,\n",
        "    weights='imagenet',\n",
        "    input_tensor=None,\n",
        "    classes=1000,\n",
        "    pooling=None,\n",
        "    dropout_rate=0.2,\n",
        "    classifier_activation='softmax',\n",
        "    include_preprocessing=True\n",
        ")\"\"\"\n",
        "\n",
        "#Efficientnet\n",
        "\"\"\"tf.keras.applications.MobileNetV3Large(\n",
        "    input_shape=None,\n",
        "    alpha=1.0,\n",
        "    minimalistic=False,\n",
        "    include_top=True,\n",
        "    weights='imagenet',\n",
        "    input_tensor=None,\n",
        "    classes=1000,\n",
        "    pooling=None,\n",
        "    dropout_rate=0.2,\n",
        "    classifier_activation='softmax',\n",
        "    include_preprocessing=True\n",
        ")\"\"\"\n",
        "\n",
        "#densenet\n",
        "\"\"\"tf.keras.applications.densenet.DenseNet201(\n",
        "    include_top=True,\n",
        "    weights='imagenet',\n",
        "    input_tensor=None,\n",
        "    input_shape=None,\n",
        "    pooling=None,\n",
        "    classes=1000,\n",
        "    classifier_activation='softmax'\n",
        ")\"\"\""
      ]
    },
    {
      "cell_type": "markdown",
      "metadata": {
        "id": "WdmaDpl8RQ_n"
      },
      "source": [
        "# Getting the stuff Ready for model building"
      ]
    },
    {
      "cell_type": "code",
      "source": [
        "def save_model(model, suffix=None):\n",
        "    \"\"\"\n",
        "    Saves a given model in a models directory and appends a suffix (str)\n",
        "    for clarity and reuse.\n",
        "    \"\"\"\n",
        "    # Create model directory with current time\n",
        "    modeldir = os.path.join(\"drive/My Drive/Data/models\",\n",
        "                            datetime.datetime.now().strftime(\"%Y%m%d-%H%M%s\"))\n",
        "\n",
        "    # Create the directory if it doesn't exist\n",
        "    os.makedirs(modeldir, exist_ok=True)\n",
        "\n",
        "    model_path = os.path.join(modeldir, f\"model-{suffix}\")  # save format of model\n",
        "    print(f\"Saving model to: {model_path}...\")\n",
        "\n",
        "    # Use model.save instead of tf.saved_model.save\n",
        "    model.save(model_path, save_format=\"tf\")\n",
        "\n",
        "    return model_path\n"
      ],
      "metadata": {
        "id": "lez2uW9RjuQ4"
      },
      "execution_count": null,
      "outputs": []
    },
    {
      "cell_type": "code",
      "source": [
        "def load_model(model_path):\n",
        "    \"\"\"\n",
        "    Loads a saved model from a specified path.\n",
        "    \"\"\"\n",
        "    print(f\"Loading saved model from: {model_path}\")\n",
        "\n",
        "    # Use tf.keras.models.load_model to load the model\n",
        "    model = tf.keras.models.load_model(model_path)\n",
        "\n",
        "    return model\n"
      ],
      "metadata": {
        "id": "C7aleKU4jukX"
      },
      "execution_count": null,
      "outputs": []
    },
    {
      "cell_type": "code",
      "execution_count": null,
      "metadata": {
        "id": "lsuEyexbwFDR"
      },
      "outputs": [],
      "source": [
        "# Setup input shape to the model\n",
        "\n",
        "INPUT_SHAPE = [IMG_SIZE, IMG_SIZE, 3] # batch, height, width, colour channels\n",
        "\n",
        "# Setup output shape of the model\n",
        "OUTPUT_SHAPE = 8 # number of unique labels # Work it here\n",
        "\n",
        "MODEL_URL=\"https://tfhub.dev/google/tf2-preview/inception_v3/classification/4\"\n",
        "\n",
        "MODEL_URLS = [\n",
        "    \"https://tfhub.dev/google/tf2-preview/inception_v3/classification/4\",\n",
        "    \"https://tfhub.dev/google/imagenet/resnet_v2_152/classification/5\",\n",
        "    \"https://tfhub.dev/google/imagenet/nasnet_large/classification/5\"\n",
        "]"
      ]
    },
    {
      "cell_type": "code",
      "execution_count": null,
      "metadata": {
        "id": "ggde4u11F9-8"
      },
      "outputs": [],
      "source": [
        "#inceptionnetv3=\"https://tfhub.dev/google/tf2-preview/inception_v3/classification/4\"\n",
        "\n",
        "#mobilenetv3=\"https://tfhub.dev/google/imagenet/mobilenet_v3_large_100_224/classification/5\"\n",
        "\n",
        "#resnetv2=\"https://tfhub.dev/google/imagenet/resnet_v2_152/classification/5\"\n",
        "\n",
        "#Nasnet=\"https://tfhub.dev/google/imagenet/nasnet_large/classification/5\"\n",
        "\n"
      ]
    },
    {
      "cell_type": "code",
      "execution_count": null,
      "metadata": {
        "id": "5nDBdTGXKBY_"
      },
      "outputs": [],
      "source": [
        "def create_model(input_shape=INPUT_SHAPE, output_shape=OUTPUT_SHAPE, model_url=MODEL_URL):\n",
        "    print(\"Building model with:\", model_url)\n",
        "\n",
        "    # Create a sequential model\n",
        "    model = tf.keras.Sequential()\n",
        "\n",
        "    # Add the pre-trained model as the first layer with the specified input shape\n",
        "    model.add(hub.KerasLayer(model_url, input_shape=input_shape, trainable=True))  # Use hub.KerasLayer directly\n",
        "\n",
        "    # Add a dense output layer with softmax activation\n",
        "    model.add(tf.keras.layers.Dense(output_shape, activation=\"softmax\"))\n",
        "\n",
        "    # Use SparseCategoricalCrossentropy loss function\n",
        "    model.compile(\n",
        "        loss=tf.keras.losses.SparseCategoricalCrossentropy(),\n",
        "        optimizer=tf.keras.optimizers.Adam(),\n",
        "        metrics=[\"accuracy\"]\n",
        "    )\n",
        "\n",
        "    return model"
      ]
    },
    {
      "cell_type": "code",
      "execution_count": null,
      "metadata": {
        "id": "aFEhOQX6dIvd",
        "colab": {
          "base_uri": "https://localhost:8080/"
        },
        "outputId": "38b5e01c-0dfd-4aca-9cc6-82f19afb4a75"
      },
      "outputs": [
        {
          "output_type": "stream",
          "name": "stdout",
          "text": [
            "Building model with: https://tfhub.dev/google/imagenet/mobilenet_v3_large_100_224/classification/5\n",
            "Model: \"sequential\"\n",
            "_________________________________________________________________\n",
            " Layer (type)                Output Shape              Param #   \n",
            "=================================================================\n",
            " keras_layer (KerasLayer)    (None, 1001)              5508713   \n",
            "                                                                 \n",
            " dense (Dense)               (None, 8)                 8016      \n",
            "                                                                 \n",
            "=================================================================\n",
            "Total params: 5,516,729\n",
            "Trainable params: 5,492,329\n",
            "Non-trainable params: 24,400\n",
            "_________________________________________________________________\n"
          ]
        }
      ],
      "source": [
        "#single model\n",
        "model = create_model(INPUT_SHAPE,OUTPUT_SHAPE,\"https://tfhub.dev/google/imagenet/mobilenet_v3_large_100_224/classification/5\")\n",
        "model.summary()"
      ]
    },
    {
      "cell_type": "code",
      "execution_count": null,
      "metadata": {
        "id": "2LG_dd9fGalp"
      },
      "outputs": [],
      "source": [
        "# Load the TensorBoard notebook extension\n",
        "%load_ext tensorboard\n",
        "\n",
        "def create_tensorboard_callback1():\n",
        "  # Create a log directory for storing TensorBoard logs\n",
        "  logdir = os.path.join(\"drive/My Drive/Data/logs/inceptionnet/\",\n",
        "                        # Make it so the logs get tracked whenever we run an experiment\n",
        "                        datetime.datetime.now().strftime(\"%Y%m%d-%H%M%S\"))\n",
        "  return tf.keras.callbacks.TensorBoard(logdir)\n",
        "\n",
        "# Create early stopping (once our model stops improving, stop training)\n",
        "early_stopping = tf.keras.callbacks.EarlyStopping(monitor=\"val_accuracy\",\n",
        "                                                  patience=3) # stops after 3 rounds of no improvements"
      ]
    },
    {
      "cell_type": "code",
      "execution_count": null,
      "metadata": {
        "id": "QuDoGByNGaoW"
      },
      "outputs": [],
      "source": [
        "from tensorflow.keras.models import load_model\n",
        "import tensorflow as tf\n",
        "import tensorflow_hub as hub\n",
        "import os\n",
        "\n",
        "# Register the custom layer for loading\n",
        "def hub_keras_layer_fn(handle, trainable=False, **kwargs):\n",
        "    return hub.KerasLayer(handle, trainable=trainable, **kwargs)\n",
        "\n",
        "# Register the custom layer for serialization\n",
        "def hub_keras_layer_get_config(layer):\n",
        "    return {\"handle\": layer._handle, \"trainable\": layer.trainable}\n",
        "\n",
        "# Register the custom layer with Keras\n",
        "def custom_objects():\n",
        "    return {\"hub\": hub, \"KerasLayer\": hub_keras_layer_fn}\n",
        "\n",
        "def train_model(model_url=MODEL_URL):\n",
        "    \"\"\"\n",
        "    Trains a given model and returns the trained version.\n",
        "    \"\"\"\n",
        "    checkpoint_path = \"drive/My Drive/Data/checkpoints/model_checkpoint.h5\"\n",
        "\n",
        "    # Check if the model checkpoint exists\n",
        "    if os.path.exists(checkpoint_path):\n",
        "        # Load the existing model with custom objects\n",
        "        with tf.keras.utils.custom_object_scope(custom_objects()):\n",
        "            model = load_model(checkpoint_path)\n",
        "        print(\"Loaded existing model from\", checkpoint_path)\n",
        "    else:\n",
        "        # Create a new model\n",
        "        model = create_model(INPUT_SHAPE, OUTPUT_SHAPE, str(model_url))\n",
        "        print(\"Created a new model\")\n",
        "\n",
        "    # Create new TensorBoard session every time we train a model\n",
        "    tensorboard = create_tensorboard_callback1()\n",
        "\n",
        "    model_checkpoint = ModelCheckpoint(checkpoint_path,\n",
        "                                        monitor='val_accuracy',\n",
        "                                        save_best_only=True,\n",
        "                                        save_weights_only=False,\n",
        "                                        save_freq=\"epoch\",  # Fix: should be an integer or 'epoch'\n",
        "                                        mode=\"max\",\n",
        "                                        verbose=1)\n",
        "\n",
        "    # Fit the model to the data passing it the callbacks we created\n",
        "    model.fit(train_data,\n",
        "              epochs=NUM_EPOCHS,\n",
        "              validation_data=val_data,\n",
        "              validation_freq=1,  # check validation metrics every epoch\n",
        "              callbacks=[tensorboard, early_stopping, model_checkpoint])\n",
        "\n",
        "    return model\n"
      ]
    },
    {
      "cell_type": "code",
      "execution_count": null,
      "metadata": {
        "id": "KxkwOevdGaq6",
        "colab": {
          "base_uri": "https://localhost:8080/",
          "height": 339
        },
        "outputId": "9c2cb2dd-2547-4e4d-ea66-1a64d6456262"
      },
      "outputs": [
        {
          "output_type": "error",
          "ename": "TypeError",
          "evalue": "ignored",
          "traceback": [
            "\u001b[0;31m---------------------------------------------------------------------------\u001b[0m",
            "\u001b[0;31mTypeError\u001b[0m                                 Traceback (most recent call last)",
            "\u001b[0;32m<ipython-input-48-f0a0801f9e92>\u001b[0m in \u001b[0;36m<cell line: 2>\u001b[0;34m()\u001b[0m\n\u001b[1;32m      1\u001b[0m \u001b[0;31m# Fit the model to the data\u001b[0m\u001b[0;34m\u001b[0m\u001b[0;34m\u001b[0m\u001b[0m\n\u001b[0;32m----> 2\u001b[0;31m \u001b[0mmodel\u001b[0m \u001b[0;34m=\u001b[0m \u001b[0mtrain_model\u001b[0m\u001b[0;34m(\u001b[0m\u001b[0;34m)\u001b[0m\u001b[0;34m\u001b[0m\u001b[0;34m\u001b[0m\u001b[0m\n\u001b[0m",
            "\u001b[0;32m<ipython-input-47-8dcd1d16d38b>\u001b[0m in \u001b[0;36mtrain_model\u001b[0;34m(model_url)\u001b[0m\n\u001b[1;32m     26\u001b[0m         \u001b[0;31m# Load the existing model with custom objects\u001b[0m\u001b[0;34m\u001b[0m\u001b[0;34m\u001b[0m\u001b[0m\n\u001b[1;32m     27\u001b[0m         \u001b[0;32mwith\u001b[0m \u001b[0mtf\u001b[0m\u001b[0;34m.\u001b[0m\u001b[0mkeras\u001b[0m\u001b[0;34m.\u001b[0m\u001b[0mutils\u001b[0m\u001b[0;34m.\u001b[0m\u001b[0mcustom_object_scope\u001b[0m\u001b[0;34m(\u001b[0m\u001b[0mcustom_objects\u001b[0m\u001b[0;34m(\u001b[0m\u001b[0;34m)\u001b[0m\u001b[0;34m)\u001b[0m\u001b[0;34m:\u001b[0m\u001b[0;34m\u001b[0m\u001b[0;34m\u001b[0m\u001b[0m\n\u001b[0;32m---> 28\u001b[0;31m             \u001b[0mmodel\u001b[0m \u001b[0;34m=\u001b[0m \u001b[0mload_model\u001b[0m\u001b[0;34m(\u001b[0m\u001b[0mcheckpoint_path\u001b[0m\u001b[0;34m)\u001b[0m\u001b[0;34m\u001b[0m\u001b[0;34m\u001b[0m\u001b[0m\n\u001b[0m\u001b[1;32m     29\u001b[0m         \u001b[0mprint\u001b[0m\u001b[0;34m(\u001b[0m\u001b[0;34m\"Loaded existing model from\"\u001b[0m\u001b[0;34m,\u001b[0m \u001b[0mcheckpoint_path\u001b[0m\u001b[0;34m)\u001b[0m\u001b[0;34m\u001b[0m\u001b[0;34m\u001b[0m\u001b[0m\n\u001b[1;32m     30\u001b[0m     \u001b[0;32melse\u001b[0m\u001b[0;34m:\u001b[0m\u001b[0;34m\u001b[0m\u001b[0;34m\u001b[0m\u001b[0m\n",
            "\u001b[0;32m/usr/local/lib/python3.10/dist-packages/keras/saving/saving_api.py\u001b[0m in \u001b[0;36mload_model\u001b[0;34m(filepath, custom_objects, compile, safe_mode, **kwargs)\u001b[0m\n\u001b[1;32m    210\u001b[0m \u001b[0;34m\u001b[0m\u001b[0m\n\u001b[1;32m    211\u001b[0m     \u001b[0;31m# Legacy case.\u001b[0m\u001b[0;34m\u001b[0m\u001b[0;34m\u001b[0m\u001b[0m\n\u001b[0;32m--> 212\u001b[0;31m     return legacy_sm_saving_lib.load_model(\n\u001b[0m\u001b[1;32m    213\u001b[0m         \u001b[0mfilepath\u001b[0m\u001b[0;34m,\u001b[0m \u001b[0mcustom_objects\u001b[0m\u001b[0;34m=\u001b[0m\u001b[0mcustom_objects\u001b[0m\u001b[0;34m,\u001b[0m \u001b[0mcompile\u001b[0m\u001b[0;34m=\u001b[0m\u001b[0mcompile\u001b[0m\u001b[0;34m,\u001b[0m \u001b[0;34m**\u001b[0m\u001b[0mkwargs\u001b[0m\u001b[0;34m\u001b[0m\u001b[0;34m\u001b[0m\u001b[0m\n\u001b[1;32m    214\u001b[0m     )\n",
            "\u001b[0;32m/usr/local/lib/python3.10/dist-packages/keras/utils/traceback_utils.py\u001b[0m in \u001b[0;36merror_handler\u001b[0;34m(*args, **kwargs)\u001b[0m\n\u001b[1;32m     68\u001b[0m             \u001b[0;31m# To get the full stack trace, call:\u001b[0m\u001b[0;34m\u001b[0m\u001b[0;34m\u001b[0m\u001b[0m\n\u001b[1;32m     69\u001b[0m             \u001b[0;31m# `tf.debugging.disable_traceback_filtering()`\u001b[0m\u001b[0;34m\u001b[0m\u001b[0;34m\u001b[0m\u001b[0m\n\u001b[0;32m---> 70\u001b[0;31m             \u001b[0;32mraise\u001b[0m \u001b[0me\u001b[0m\u001b[0;34m.\u001b[0m\u001b[0mwith_traceback\u001b[0m\u001b[0;34m(\u001b[0m\u001b[0mfiltered_tb\u001b[0m\u001b[0;34m)\u001b[0m \u001b[0;32mfrom\u001b[0m \u001b[0;32mNone\u001b[0m\u001b[0;34m\u001b[0m\u001b[0;34m\u001b[0m\u001b[0m\n\u001b[0m\u001b[1;32m     71\u001b[0m         \u001b[0;32mfinally\u001b[0m\u001b[0;34m:\u001b[0m\u001b[0;34m\u001b[0m\u001b[0;34m\u001b[0m\u001b[0m\n\u001b[1;32m     72\u001b[0m             \u001b[0;32mdel\u001b[0m \u001b[0mfiltered_tb\u001b[0m\u001b[0;34m\u001b[0m\u001b[0;34m\u001b[0m\u001b[0m\n",
            "\u001b[0;32m/usr/local/lib/python3.10/dist-packages/keras/losses.py\u001b[0m in \u001b[0;36mfrom_config\u001b[0;34m(cls, config)\u001b[0m\n\u001b[1;32m    297\u001b[0m             \u001b[0;32mif\u001b[0m \u001b[0mfn_name\u001b[0m \u001b[0;32mand\u001b[0m \u001b[0mcls\u001b[0m \u001b[0;32mis\u001b[0m \u001b[0mLossFunctionWrapper\u001b[0m\u001b[0;34m:\u001b[0m\u001b[0;34m\u001b[0m\u001b[0;34m\u001b[0m\u001b[0m\n\u001b[1;32m    298\u001b[0m                 \u001b[0mconfig\u001b[0m\u001b[0;34m[\u001b[0m\u001b[0;34m\"fn\"\u001b[0m\u001b[0;34m]\u001b[0m \u001b[0;34m=\u001b[0m \u001b[0mget\u001b[0m\u001b[0;34m(\u001b[0m\u001b[0mfn_name\u001b[0m\u001b[0;34m)\u001b[0m\u001b[0;34m\u001b[0m\u001b[0;34m\u001b[0m\u001b[0m\n\u001b[0;32m--> 299\u001b[0;31m         \u001b[0;32mreturn\u001b[0m \u001b[0mcls\u001b[0m\u001b[0;34m(\u001b[0m\u001b[0;34m**\u001b[0m\u001b[0mconfig\u001b[0m\u001b[0;34m)\u001b[0m\u001b[0;34m\u001b[0m\u001b[0;34m\u001b[0m\u001b[0m\n\u001b[0m\u001b[1;32m    300\u001b[0m \u001b[0;34m\u001b[0m\u001b[0m\n\u001b[1;32m    301\u001b[0m \u001b[0;34m\u001b[0m\u001b[0m\n",
            "\u001b[0;31mTypeError\u001b[0m: SparseCategoricalCrossentropy.__init__() got an unexpected keyword argument 'fn'"
          ]
        }
      ],
      "source": [
        "# Fit the model to the data\n",
        "model = train_model()"
      ]
    },
    {
      "cell_type": "code",
      "source": [
        "save_model(model,\"18000\")"
      ],
      "metadata": {
        "id": "JGau2RDKkEdt"
      },
      "execution_count": null,
      "outputs": []
    },
    {
      "cell_type": "code",
      "source": [
        "model=load_model(\"drive/My Drive/Data/models/20231111-20501699735800/model-12000\")\n",
        "model"
      ],
      "metadata": {
        "id": "WHw8iqFmsobY"
      },
      "execution_count": null,
      "outputs": []
    },
    {
      "cell_type": "code",
      "execution_count": null,
      "metadata": {
        "id": "sUSbnViqGatS"
      },
      "outputs": [],
      "source": [
        "%tensorboard --logdir drive/My\\ Drive/Data/logs"
      ]
    },
    {
      "cell_type": "code",
      "execution_count": null,
      "metadata": {
        "id": "gbjJ1KZLlJW9"
      },
      "outputs": [],
      "source": []
    },
    {
      "cell_type": "code",
      "execution_count": null,
      "metadata": {
        "id": "kCr_Ji7CGav4"
      },
      "outputs": [],
      "source": [
        "predictions = model.predict(val_data, verbose=1) # verbose shows us how long there is to go\n",
        "predictions"
      ]
    },
    {
      "cell_type": "code",
      "execution_count": null,
      "metadata": {
        "id": "zBu6ubjWGayk"
      },
      "outputs": [],
      "source": [
        "# Check the shape of predictions\n",
        "predictions.shape"
      ]
    },
    {
      "cell_type": "code",
      "execution_count": null,
      "metadata": {
        "id": "8t6T-dVtGa1M"
      },
      "outputs": [],
      "source": [
        "# First prediction\n",
        "print(predictions[12])\n",
        "print(f\"Max value (probability of prediction): {np.max(predictions[0])}\") # the max probability value predicted by the model\n",
        "print(f\"Sum: {np.sum(predictions[0])}\") # because we used softmax activation in our model, this will be close to 1\n",
        "print(f\"Max index: {np.argmax(predictions[0])}\") # the index of where the max value in predictions[0] occurs\n",
        "print(f\"Predicted label: {dict_label_reverse[np.argmax(predictions[0])]}\") # the predicted label"
      ]
    },
    {
      "cell_type": "code",
      "execution_count": null,
      "metadata": {
        "id": "D4JfcZoHGa3p"
      },
      "outputs": [],
      "source": [
        "# Turn prediction probabilities into their respective label (easier to understand)\n",
        "def get_pred_label(prediction_probabilities):\n",
        "  \"\"\"\n",
        "  Turns an array of prediction probabilities into a label.\n",
        "  \"\"\"\n",
        "  return dict_label_reverse[np.argmax(prediction_probabilities)]\n",
        "\n",
        "# Get a predicted label based on an array of prediction probabilities\n",
        "pred_label = get_pred_label(predictions[0])\n",
        "pred_label"
      ]
    },
    {
      "cell_type": "markdown",
      "metadata": {
        "id": "NDK37Dr8iBl2"
      },
      "source": [
        "# Mobilenet"
      ]
    },
    {
      "cell_type": "code",
      "execution_count": null,
      "metadata": {
        "id": "jJK-ay-QWE0B"
      },
      "outputs": [],
      "source": [
        "# Load the TensorBoard notebook extension\n",
        "%load_ext tensorboard\n",
        "\n",
        "def create_tensorboard_callback2():\n",
        "  # Create a log directory for storing TensorBoard logs\n",
        "  logdir = os.path.join(\"drive/My Drive/Data/logs/mobilenet/\",\n",
        "                        # Make it so the logs get tracked whenever we run an experiment\n",
        "                        datetime.datetime.now().strftime(\"%Y%m%d-%H%M%S\"))\n",
        "  return tf.keras.callbacks.TensorBoard(logdir)\n",
        "\n",
        "# Create early stopping (once our model stops improving, stop training)\n",
        "early_stopping = tf.keras.callbacks.EarlyStopping(monitor=\"val_accuracy\",\n",
        "                                                  patience=3) # stops after 3 rounds of no improvements"
      ]
    },
    {
      "cell_type": "code",
      "execution_count": null,
      "metadata": {
        "id": "dihR12skjy7K"
      },
      "outputs": [],
      "source": [
        "from tensorflow.keras.models import load_model\n",
        "import tensorflow as tf\n",
        "import tensorflow_hub as hub\n",
        "import os\n",
        "\n",
        "# Register the custom layer for loading\n",
        "def hub_keras_layer_fn(handle, trainable=False, **kwargs):\n",
        "    return hub.KerasLayer(handle, trainable=trainable, **kwargs)\n",
        "\n",
        "# Register the custom layer for serialization\n",
        "def hub_keras_layer_get_config(layer):\n",
        "    return {\"handle\": layer._handle, \"trainable\": layer.trainable}\n",
        "\n",
        "# Register the custom layer with Keras\n",
        "def custom_objects():\n",
        "    return {\"hub\": hub, \"KerasLayer\": hub_keras_layer_fn}\n",
        "\n",
        "def train_model(model_url=MODEL_URL):\n",
        "    \"\"\"\n",
        "    Trains a given model and returns the trained version.\n",
        "    \"\"\"\n",
        "    checkpoint_path = \"drive/My Drive/Data/checkpoints/model_checkpoint1.h5\"\n",
        "\n",
        "    # Check if the model checkpoint exists\n",
        "    if os.path.exists(checkpoint_path):\n",
        "        # Load the existing model with custom objects\n",
        "        with tf.keras.utils.custom_object_scope(custom_objects()):\n",
        "            model = load_model(checkpoint_path)\n",
        "        print(\"Loaded existing model from\", checkpoint_path)\n",
        "    else:\n",
        "        # Create a new model\n",
        "        model = create_model(INPUT_SHAPE, OUTPUT_SHAPE, str(model_url))\n",
        "        print(\"Created a new model\")\n",
        "\n",
        "    # Create new TensorBoard session every time we train a model\n",
        "    tensorboard = create_tensorboard_callback2()\n",
        "\n",
        "    model_checkpoint = ModelCheckpoint(checkpoint_path,\n",
        "                                        monitor='val_accuracy',\n",
        "                                        save_best_only=True,\n",
        "                                        save_weights_only=False,\n",
        "                                        save_freq=\"epoch\",  # Fix: should be an integer or 'epoch'\n",
        "                                        mode=\"max\",\n",
        "                                        verbose=1)\n",
        "\n",
        "    # Fit the model to the data passing it the callbacks we created\n",
        "    model.fit(train_data,\n",
        "              epochs=NUM_EPOCHS,\n",
        "              validation_data=val_data,\n",
        "              validation_freq=1,  # check validation metrics every epoch\n",
        "              callbacks=[tensorboard, early_stopping, model_checkpoint])\n",
        "\n",
        "    return model\n"
      ]
    },
    {
      "cell_type": "code",
      "execution_count": null,
      "metadata": {
        "id": "273TnO6Uj1Zh"
      },
      "outputs": [],
      "source": [
        "model1=train_model(\"https://tfhub.dev/google/imagenet/mobilenet_v3_large_100_224/classification/5\")"
      ]
    },
    {
      "cell_type": "code",
      "source": [
        "save_model(model1)"
      ],
      "metadata": {
        "id": "1vMUHQQKkY_d"
      },
      "execution_count": null,
      "outputs": []
    },
    {
      "cell_type": "code",
      "source": [],
      "metadata": {
        "id": "fcLtT3PpkdI9"
      },
      "execution_count": null,
      "outputs": []
    },
    {
      "cell_type": "code",
      "execution_count": null,
      "metadata": {
        "id": "80xaY00hlhDm"
      },
      "outputs": [],
      "source": [
        "predictions = model1.predict(val_data, verbose=1) # verbose shows us how long there is to go\n",
        "predictions\n",
        "\n",
        "\n"
      ]
    },
    {
      "cell_type": "code",
      "execution_count": null,
      "metadata": {
        "id": "KsqpMyyPlpUs"
      },
      "outputs": [],
      "source": [
        "predictions.shape"
      ]
    },
    {
      "cell_type": "code",
      "execution_count": null,
      "metadata": {
        "id": "LM-vjE9vllZi"
      },
      "outputs": [],
      "source": [
        "\n",
        "print(predictions[12])\n",
        "print(f\"Max value (probability of prediction): {np.max(predictions[0])}\") # the max probability value predicted by the model\n",
        "print(f\"Sum: {np.sum(predictions[0])}\") # because we used softmax activation in our model, this will be close to 1\n",
        "print(f\"Max index: {np.argmax(predictions[0])}\") # the index of where the max value in predictions[0] occurs\n",
        "print(f\"Predicted label: {dict_label_reverse[np.argmax(predictions[0])]}\") # the predicted label"
      ]
    },
    {
      "cell_type": "code",
      "execution_count": null,
      "metadata": {
        "id": "MbiTYeHAllm_"
      },
      "outputs": [],
      "source": [
        "\n",
        "# Turn prediction probabilities into their respective label (easier to understand)\n",
        "def get_pred_label(prediction_probabilities):\n",
        "  \"\"\"\n",
        "  Turns an array of prediction probabilities into a label.\n",
        "  \"\"\"\n",
        "  return dict_label_reverse[np.argmax(prediction_probabilities)]\n",
        "\n",
        "# Get a predicted label based on an array of prediction probabilities\n",
        "pred_label = get_pred_label(predictions[0])\n",
        "pred_label"
      ]
    },
    {
      "cell_type": "markdown",
      "metadata": {
        "id": "j8I_CZbViiaH"
      },
      "source": [
        "# Rasnet"
      ]
    },
    {
      "cell_type": "code",
      "execution_count": null,
      "metadata": {
        "id": "Gs3w4RkfWE2S"
      },
      "outputs": [],
      "source": [
        "# Load the TensorBoard notebook extension\n",
        "%load_ext tensorboard\n",
        "\n",
        "def create_tensorboard_callback3():\n",
        "  # Create a log directory for storing TensorBoard logs\n",
        "  logdir = os.path.join(\"drive/My Drive/Data/logs/resnet/\",\n",
        "                        # Make it so the logs get tracked whenever we run an experiment\n",
        "                        datetime.datetime.now().strftime(\"%Y%m%d-%H%M%S\"))\n",
        "  return tf.keras.callbacks.TensorBoard(logdir)\n",
        "\n",
        "# Create early stopping (once our model stops improving, stop training)\n",
        "early_stopping = tf.keras.callbacks.EarlyStopping(monitor=\"val_accuracy\",\n",
        "                                                  patience=3) # stops after 3 rounds of no improvements"
      ]
    },
    {
      "cell_type": "code",
      "execution_count": null,
      "metadata": {
        "id": "sQRlpDGlkN0K"
      },
      "outputs": [],
      "source": [
        "from tensorflow.keras.models import load_model\n",
        "from tensorflow.keras.layers import deserialize, serialize\n",
        "import tensorflow.keras.backend as K\n",
        "import tensorflow_hub as hub\n",
        "import os\n",
        "\n",
        "# Register the custom layer for loading\n",
        "def hub_keras_layer_fn(handle, trainable=False, **kwargs):\n",
        "    return hub.KerasLayer(handle, trainable=trainable, **kwargs)\n",
        "\n",
        "# Register the custom layer for serialization\n",
        "def hub_keras_layer_get_config(layer):\n",
        "    return {\"handle\": layer._handle, \"trainable\": layer.trainable}\n",
        "\n",
        "# Register the custom layer with Keras\n",
        "def custom_objects():\n",
        "    return {\"hub\": hub, \"KerasLayer\": hub_keras_layer_fn}\n",
        "\n",
        "def train_model(model_url=MODEL_URL):\n",
        "    \"\"\"\n",
        "    Trains a given model and returns the trained version.\n",
        "    \"\"\"\n",
        "    checkpoint_path = \"drive/My Drive/Data/checkpoints/model_checkpoint2.h5\"\n",
        "\n",
        "    # Check if the model checkpoint exists\n",
        "    if os.path.exists(checkpoint_path):\n",
        "        # Load the existing model with custom objects\n",
        "        with K.get_graph().as_default():\n",
        "            with K.custom_object_scope(custom_objects()):\n",
        "                model = load_model(checkpoint_path)\n",
        "        print(\"Loaded existing model from\", checkpoint_path)\n",
        "    else:\n",
        "        # Create a new model\n",
        "        model = create_model(INPUT_SHAPE, OUTPUT_SHAPE, str(model_url))\n",
        "        print(\"Created a new model\")\n",
        "\n",
        "    # Create new TensorBoard session every time we train a model\n",
        "    tensorboard = create_tensorboard_callback3()\n",
        "\n",
        "    model_checkpoint = ModelCheckpoint(checkpoint_path,\n",
        "                                        monitor='val_accuracy',\n",
        "                                        save_best_only=True,\n",
        "                                        save_weights_only=False,\n",
        "                                        save_freq=\"epoch\",  # Fix: should be an integer or 'epoch'\n",
        "                                        mode=\"max\",\n",
        "                                        verbose=1)\n",
        "\n",
        "    # Fit the model to the data passing it the callbacks we created\n",
        "    model.fit(train_data,\n",
        "              epochs=NUM_EPOCHS,\n",
        "              validation_data=val_data,\n",
        "              validation_freq=1,  # check validation metrics every epoch\n",
        "              callbacks=[tensorboard, early_stopping, model_checkpoint])\n",
        "\n",
        "    return model\n"
      ]
    },
    {
      "cell_type": "code",
      "execution_count": null,
      "metadata": {
        "id": "K0QQ2tnskPXF"
      },
      "outputs": [],
      "source": [
        "model2=train_model(\"https://tfhub.dev/google/imagenet/resnet_v2_152/classification/5\")"
      ]
    },
    {
      "cell_type": "code",
      "source": [
        "save_model(model2)"
      ],
      "metadata": {
        "id": "ncklXbiqkhyL"
      },
      "execution_count": null,
      "outputs": []
    },
    {
      "cell_type": "code",
      "execution_count": null,
      "metadata": {
        "id": "z8XRWkJ-l4wu"
      },
      "outputs": [],
      "source": [
        "predictions = model.predict(val_data, verbose=1) # verbose shows us how long there is to go\n",
        "predictions"
      ]
    },
    {
      "cell_type": "code",
      "execution_count": null,
      "metadata": {
        "id": "yNNwiHrcl42L"
      },
      "outputs": [],
      "source": [
        "\n",
        "\n",
        "# Check the shape of predictions\n",
        "predictions.shape"
      ]
    },
    {
      "cell_type": "code",
      "execution_count": null,
      "metadata": {
        "id": "TJwttlZUl47K"
      },
      "outputs": [],
      "source": [
        "\n",
        "\n",
        "print(predictions[12])\n",
        "print(f\"Max value (probability of prediction): {np.max(predictions[0])}\") # the max probability value predicted by the model\n",
        "print(f\"Sum: {np.sum(predictions[0])}\") # because we used softmax activation in our model, this will be close to 1\n",
        "print(f\"Max index: {np.argmax(predictions[0])}\") # the index of where the max value in predictions[0] occurs\n",
        "print(f\"Predicted label: {dict_label_reverse[np.argmax(predictions[0])]}\") # the predicted label"
      ]
    },
    {
      "cell_type": "code",
      "execution_count": null,
      "metadata": {
        "id": "3-ZQrvYfl5VJ"
      },
      "outputs": [],
      "source": [
        "\n",
        "\n",
        "# Turn prediction probabilities into their respective label (easier to understand)\n",
        "def get_pred_label(prediction_probabilities):\n",
        "  \"\"\"\n",
        "  Turns an array of prediction probabilities into a label.\n",
        "  \"\"\"\n",
        "  return dict_label_reverse[np.argmax(prediction_probabilities)]\n",
        "\n",
        "# Get a predicted label based on an array of prediction probabilities\n",
        "pred_label = get_pred_label(predictions[0])\n",
        "pred_label\n"
      ]
    },
    {
      "cell_type": "markdown",
      "source": [
        "# Unbatchfy"
      ],
      "metadata": {
        "id": "5m_a5IH9fJlQ"
      }
    },
    {
      "cell_type": "code",
      "source": [
        "print(test_data.unbatch())"
      ],
      "metadata": {
        "id": "-PMA4j_g88Km"
      },
      "execution_count": null,
      "outputs": []
    },
    {
      "cell_type": "code",
      "source": [
        "# Create a function to unbatch a batched dataset\n",
        "def unbatchify(data):\n",
        "    \"\"\"\n",
        "    Takes a batched dataset of (image, label) Tensors and returns separate arrays\n",
        "    of images and labels.\n",
        "    \"\"\"\n",
        "    images = []\n",
        "    labels = []\n",
        "\n",
        "    # Check if the data is a batched dataset\n",
        "    if isinstance(data, tf.data.Dataset):\n",
        "        # Loop through unbatched data\n",
        "        for element in data.unbatch().as_numpy_iterator():\n",
        "            images.append(element[0])\n",
        "            labels.append(element[1])\n",
        "    else:\n",
        "        # If data is a single instance\n",
        "        images.append(data[0])\n",
        "        labels.append(data[1])\n",
        "\n",
        "    return images, labels\n",
        "\n",
        "# Example usage:\n",
        "# Replace test_data with your actual batched dataset\n",
        "single_data_images, single_data_labels = unbatchify(train_data)\n",
        "print(single_data_images[0], single_data_labels[0])\n"
      ],
      "metadata": {
        "id": "HBUq34XlfEEO"
      },
      "execution_count": null,
      "outputs": []
    },
    {
      "cell_type": "code",
      "source": [
        "test_data=unbatchify(test_data)"
      ],
      "metadata": {
        "id": "HDyscDL_gxm5"
      },
      "execution_count": null,
      "outputs": []
    },
    {
      "cell_type": "code",
      "execution_count": null,
      "metadata": {
        "id": "5KGhVLb8OBoK"
      },
      "outputs": [],
      "source": [
        "from sklearn.metrics import accuracy_score\n",
        "import numpy as np\n",
        "\n",
        "def create_voting_ensemble(model1, model2, model3, X_test, y_test):\n",
        "    \"\"\"\n",
        "    Create a voting ensemble of models and evaluate its performance.\n",
        "\n",
        "    Parameters:\n",
        "    - models: List of model instances.\n",
        "    - X_test: Test data.\n",
        "    - y_test: True labels for the test data.\n",
        "\n",
        "    Returns:\n",
        "    - ensemble_accuracy: Accuracy of the ensemble on the test data.\n",
        "    \"\"\"\n",
        "\n",
        "    predictions1 = model1.predict(X_test, verbose=1)\n",
        "    predictions2 = model2.predict(X_test, verbose=1)\n",
        "    predictions3 = model3.predict(X_test, verbose=1)\n",
        "\n",
        "    # Perform majority voting to combine predictions\n",
        "    ensemble_predictions = np.argmax(np.sum([predictions1, predictions2, predictions3], axis=0), axis=1)\n",
        "\n",
        "    # Evaluate the ensemble's performance\n",
        "    ensemble_accuracy = accuracy_score(y_test, ensemble_predictions)\n",
        "    print(f\"Ensemble Accuracy: {ensemble_accuracy * 100:.2f}%\")\n",
        "\n",
        "    return ensemble_accuracy\n",
        "\n",
        "# Example usage:\n",
        "# Assuming your models are named model1, model2, model3, and your data is X_test and y_test\n",
        "ensemble_accuracy = create_voting_ensemble(model, model, model, test_data, y_test)\n",
        "print(f\"Ensemble Accuracy: {ensemble_accuracy * 100:.2f}%\")\n"
      ]
    },
    {
      "cell_type": "code",
      "execution_count": null,
      "metadata": {
        "id": "CiA9PbmR8FjG"
      },
      "outputs": [],
      "source": [
        "ensemble_model = create_voting_ensemble([model, model, model], test_data, y_test)"
      ]
    },
    {
      "cell_type": "markdown",
      "metadata": {
        "id": "icIlw98OfQ-e"
      },
      "source": [
        "# Making and evaluating predictions using a trained model"
      ]
    },
    {
      "cell_type": "code",
      "execution_count": null,
      "metadata": {
        "id": "sdPqmrZofSrI"
      },
      "outputs": [],
      "source": []
    },
    {
      "cell_type": "code",
      "execution_count": null,
      "metadata": {
        "id": "fJp9VzjPfpV5"
      },
      "outputs": [],
      "source": []
    },
    {
      "cell_type": "code",
      "execution_count": null,
      "metadata": {
        "id": "HGJbG7FUf5PT"
      },
      "outputs": [],
      "source": []
    },
    {
      "cell_type": "markdown",
      "source": [
        "## **Making predictions on custom images**"
      ],
      "metadata": {
        "id": "C0WkqtMUJm08"
      }
    },
    {
      "cell_type": "code",
      "source": [
        "# Get custom image filepaths\n",
        "custom_path = \"drive/My Drive/Data/Custom/\"\n",
        "custom_image_paths = [custom_path + fname for fname in os.listdir(custom_path)]"
      ],
      "metadata": {
        "id": "BBRt7E1rJqN4"
      },
      "execution_count": null,
      "outputs": []
    },
    {
      "cell_type": "code",
      "source": [
        "# Turn custom image into batch (set to test data because there are no labels)\n",
        "custom_data = create_data_batches(custom_image_paths, test_data=True)"
      ],
      "metadata": {
        "id": "tFv9j-JoKyst"
      },
      "execution_count": null,
      "outputs": []
    },
    {
      "cell_type": "code",
      "source": [
        "# Make predictions on the custom data\n",
        "custom_preds = loaded_full_model.predict(custom_data)"
      ],
      "metadata": {
        "id": "zRjk5c7dK5nn"
      },
      "execution_count": null,
      "outputs": []
    },
    {
      "cell_type": "code",
      "source": [
        "# Get custom image prediction labels\n",
        "custom_pred_labels = [get_pred_label(custom_preds[i]) for i in range(len(custom_preds))]\n",
        "custom_pred_labels"
      ],
      "metadata": {
        "id": "B4l1tclAK-gF"
      },
      "execution_count": null,
      "outputs": []
    },
    {
      "cell_type": "code",
      "source": [
        "# Get custom images (our unbatchify() function won't work since there aren't labels)\n",
        "custom_images = []\n",
        "# Loop through unbatched data\n",
        "for image in custom_data.unbatchify().as_numpy_iterator():\n",
        "  custom_images.append(image)"
      ],
      "metadata": {
        "id": "yy3CfVhXLCnM"
      },
      "execution_count": null,
      "outputs": []
    },
    {
      "cell_type": "code",
      "source": [
        "# Check custom image predictions\n",
        "plt.figure(figsize=(10, 10))\n",
        "for i, image in enumerate(custom_images):\n",
        "  plt.subplot(1, 3, i+1)\n",
        "  plt.xticks([])\n",
        "  plt.yticks([])\n",
        "  plt.title(custom_pred_labels[i])\n",
        "  plt.imshow(image)"
      ],
      "metadata": {
        "id": "gJ2w3CMGLgDY"
      },
      "execution_count": null,
      "outputs": []
    }
  ],
  "metadata": {
    "accelerator": "TPU",
    "colab": {
      "provenance": []
    },
    "kernelspec": {
      "display_name": "Python 3",
      "name": "python3"
    },
    "language_info": {
      "name": "python"
    }
  },
  "nbformat": 4,
  "nbformat_minor": 0
}